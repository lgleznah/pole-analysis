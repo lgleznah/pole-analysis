{
 "cells": [
  {
   "cell_type": "markdown",
   "id": "0661b0f8-a5cb-4aa2-a883-fb468b674828",
   "metadata": {},
   "source": [
    "# New LiDAR data - Verifying the new sensor"
   ]
  },
  {
   "cell_type": "code",
   "execution_count": null,
   "id": "d3b131c9-ddf6-473e-9e07-77e88d0e8dfe",
   "metadata": {
    "tags": []
   },
   "outputs": [],
   "source": [
    "import open3d as o3d\n",
    "import cv2\n",
    "import numpy as np\n",
    "import os\n",
    "import copy\n",
    "import math\n",
    "import matplotlib.pyplot as plt\n",
    "import seaborn as sns\n",
    "import colorsys\n",
    "\n",
    "from math import sqrt\n",
    "from collections import defaultdict\n",
    "from scipy.stats import gaussian_kde\n",
    "\n",
    "poles_dir = '../../LiDAR/'"
   ]
  },
  {
   "cell_type": "markdown",
   "id": "e049db34-6a9f-43a0-b2ea-428c81eb643d",
   "metadata": {},
   "source": [
    "So, after the previous LiDAR broke, we got a new LiDAR to take the PCD measurements. However, the behaviour of this device must be verified before it can be used for the field tests. This is a simple notebook to verify that the resolution of the data is nice enough.\n",
    "\n",
    "And yes, I hope this notebook ends up being simple. Not like the last one. Oh, have mercy on my soul, RNGesus."
   ]
  },
  {
   "cell_type": "markdown",
   "id": "c9f521d5-bbfc-41a9-9147-752813dfa2f4",
   "metadata": {},
   "source": [
    "## Preliminary analysis"
   ]
  },
  {
   "cell_type": "code",
   "execution_count": null,
   "id": "8775fee9-3bb4-4f3f-8507-29c5e8625705",
   "metadata": {
    "tags": []
   },
   "outputs": [],
   "source": [
    "new_pointcloud_all = o3d.io.read_point_cloud(os.path.join(poles_dir, 'NEW_LIDAR/poleny_1.pts'))\n",
    "new_pointcloud_pole = o3d.io.read_point_cloud(os.path.join(poles_dir, 'NEW_LIDAR/poleny_2_crop.pts'))\n",
    "old_pointcloud_all = o3d.io.read_point_cloud(os.path.join(poles_dir, '0/3d/0/cloud_merged.pcd'))\n",
    "old_pointcloud_pole = o3d.io.read_point_cloud(os.path.join(poles_dir, '0/3d/0/cloud.pcd'))\n",
    "\n",
    "o3d.visualization.draw([new_pointcloud_pole])"
   ]
  },
  {
   "cell_type": "markdown",
   "id": "e84569dd-e5bb-4d70-b9f2-4f9921417535",
   "metadata": {},
   "source": [
    "*A priori*, it looks like this new data has less resolution than the previous LiDAR. Checking for the amount of points on each cloud could be a good idea, just to verify."
   ]
  },
  {
   "cell_type": "code",
   "execution_count": null,
   "id": "033ecd73-ffa9-4d58-a157-3114b5e4a1d1",
   "metadata": {},
   "outputs": [],
   "source": [
    "print(f'Old pointcloud size (whole scan, merge of 5 frames): {len(old_pointcloud_all.points)} points')\n",
    "print(f'New pointcloud size (whole scan): {len(new_pointcloud_all.points)} points')\n",
    "print(f'Old pointcloud size (pole, merge of 5 frames): {len(old_pointcloud_pole.points)} points')\n",
    "print(f'New pointcloud size (pole): {len(new_pointcloud_pole.points)} points')"
   ]
  },
  {
   "cell_type": "markdown",
   "id": "df144e19-8600-40b0-9349-5a4a36808ee1",
   "metadata": {},
   "source": [
    "As it can be seen, the merged old pointclouds have circa 500000 points, so each frame has approximately 100000 points. However, these points belong to a scan of **a portion of the room**, whereas the new scan has 220000 points corresponding to **a scan of the whole room**.\n",
    "\n",
    "Furthermore, the portion of the old scan corresponding to **a quarter of the pole** has 38784 points, around 7750 per frame, whereas the new scan with **the whole pole** only has 1032 points. All this evidence points to the fact that this new LiDAR has indeed less resolution than the old one.\n",
    "\n",
    "Now, even if this new device has too low resolution to accurately characterize the surface of the pole, it has an advantage over the previous one: this one can be moved around more easily, and therefore it can generate **a scan of the whole pole at once**. This greatly simplifies the procedure to check the pole's diameter, since with the other scanner, all different rotations should have been registrated beforehand.\n",
    "\n",
    "Before giving an estimate of the pole's diameter, it is a good idea to know how the data is represented; i.e., which coordinates represent width, height and depth in this PCD data."
   ]
  },
  {
   "cell_type": "code",
   "execution_count": null,
   "id": "ba65e590-4eeb-450f-817e-187523b1f881",
   "metadata": {
    "tags": []
   },
   "outputs": [],
   "source": [
    "cropped_pole_points = np.asarray(new_pointcloud_pole.points)\n",
    "cropped_pole_points = [point for point in cropped_pole_points if point[2] > -0.9]\n",
    "test_pointcloud = o3d.geometry.PointCloud()\n",
    "test_pointcloud.points = o3d.utility.Vector3dVector(cropped_pole_points)\n",
    "\n",
    "o3d.visualization.draw_geometries([test_pointcloud])"
   ]
  },
  {
   "cell_type": "markdown",
   "id": "eb5b8c38-b86d-4f20-9786-253012d9d453",
   "metadata": {},
   "source": [
    "By fiddling with this cell, it can be seen that the pole's height is actually represented in the Z coordinate, rather than in the Y coordinate."
   ]
  },
  {
   "cell_type": "markdown",
   "id": "10063685-8021-4371-b7ed-28894b42f0e9",
   "metadata": {},
   "source": [
    "## Pole diameter estimation"
   ]
  },
  {
   "cell_type": "markdown",
   "id": "56d61b07-a71b-48da-8a72-c7f53f53c899",
   "metadata": {},
   "source": [
    "The following cell implements an algorithm to give an estimate of the pole's diameter that runs in $\\mathcal{O}(n^2)$ time w.r.t. the amount of points in the point cloud. For each point, the distance to the point furthest away is computed, but only to the points within a given height threshold w.r.t. the other point (the height difference is corrected by applying Pythagoras). These distances are then employed to give a $\\mu \\pm \\sigma$ estimate of the pole's diameter."
   ]
  },
  {
   "cell_type": "code",
   "execution_count": null,
   "id": "2ab6e869-279d-46f2-9cfe-542b3d9fe1c9",
   "metadata": {
    "tags": []
   },
   "outputs": [],
   "source": [
    "def get_continuous_mode(estimates):\n",
    "    distribution = gaussian_kde(estimates)\n",
    "    x_domain = np.linspace(min(estimates), max(estimates), 1000)\n",
    "    y_pdf = distribution.pdf(x_domain)\n",
    "    i = np.argmax(y_pdf)\n",
    "    return x_domain[i]\n",
    "\n",
    "\n",
    "def estimate_diameter(pcd, height_threshold):\n",
    "    estimates = []\n",
    "    for point in pcd.points:\n",
    "        points_within_threshold = [p for p in pcd.points if p[2] < point[2]+height_threshold and p[2] > point[2]-height_threshold]\n",
    "        points_distances = [math.dist(point, p) for p in points_within_threshold]\n",
    "        idx_max_distance = np.argmax(points_distances)\n",
    "        max_distance = points_distances[idx_max_distance]\n",
    "        furthest_point_z_diff = abs(points_within_threshold[idx_max_distance][2] - point[2])\n",
    "        diameter_estimate = sqrt(max_distance**2 - furthest_point_z_diff**2)\n",
    "        estimates.append(diameter_estimate)\n",
    "        \n",
    "    mu, sigma, mode = np.mean(estimates), np.std(estimates), get_continuous_mode(estimates)\n",
    "    \n",
    "    return estimates, mu, sigma, mode"
   ]
  },
  {
   "cell_type": "code",
   "execution_count": null,
   "id": "25564305-3988-43fd-9a34-2e22dde5cc1f",
   "metadata": {
    "tags": []
   },
   "outputs": [],
   "source": [
    "estimates, mu, sigma, mode = estimate_diameter(test_pointcloud, 0.1)\n",
    "plt.hist(estimates)\n",
    "print(f'Diameter estimation: {mu:.3f} ± {sigma:.3f}, mode: {mode:.3f}')"
   ]
  },
  {
   "cell_type": "markdown",
   "id": "f4a06410-2076-4089-ad51-24674d49b6d7",
   "metadata": {},
   "source": [
    "According to this algorithm, the estimated diameter of the pole is 22cm (after removing the bottom part, which was altering the estimate). A good way to verify this is to draw a cylinder of this diameter; if it fits inside the PCD, then the estimate should be correct."
   ]
  },
  {
   "cell_type": "code",
   "execution_count": null,
   "id": "8973fd06-b119-4285-bd4a-df8bbee532a2",
   "metadata": {
    "tags": []
   },
   "outputs": [],
   "source": [
    "# WARNING! Open3D's \"__init__.py\" has been edited to remove some Jupyter functionality. Apparently, that sets material attributes as read-only\n",
    "\n",
    "def verify_algorithm(pcd, mode, sigma):\n",
    "    # Create and place base cylinder estimate (no +- sigma)\n",
    "    pcd_points = np.asarray(pcd.points)\n",
    "    height = np.max(pcd_points[:,2]) - np.min(pcd_points[:,2])\n",
    "    mesh_cylinder = o3d.geometry.TriangleMesh.create_cylinder(radius=mode / 2, height=height)\n",
    "    mesh_center = np.mean(pcd.points, axis=0)\n",
    "    mesh_cylinder.translate(mesh_center, relative=False)\n",
    "    \n",
    "    # Create cylinders for estimates with sigma\n",
    "    mesh_cylinder_plus_sigma = o3d.geometry.TriangleMesh.create_cylinder(radius=mode / 2 + sigma, height=height)\n",
    "    mesh_cylinder_minus_sigma = o3d.geometry.TriangleMesh.create_cylinder(radius=mode / 2 - sigma, height=height)\n",
    "    mesh_cylinder_plus_sigma.translate(mesh_center, relative=False)\n",
    "    mesh_cylinder_minus_sigma.translate(mesh_center, relative=False)\n",
    "    \n",
    "    # Create materials for proper coloring and visualization\n",
    "    base_material = o3d.visualization.rendering.MaterialRecord()\n",
    "    base_material.shader = 'defaultLitTransparency'\n",
    "    base_material.base_color = [1.0, 0.0, 0.0, 0.3]\n",
    "    \n",
    "    plus_sigma_material = o3d.visualization.rendering.MaterialRecord()\n",
    "    plus_sigma_material.shader = 'defaultLitTransparency'\n",
    "    plus_sigma_material.base_color = [0.0, 1.0, 0.0, 0.3]\n",
    "    \n",
    "    minus_sigma_material = o3d.visualization.rendering.MaterialRecord()\n",
    "    minus_sigma_material.shader = 'defaultLitTransparency'\n",
    "    minus_sigma_material.base_color = [0.0, 0.0, 1.0, 0.3]\n",
    "    \n",
    "    # Link materials to meshes, and draw\n",
    "    geoms = [\n",
    "        {'name': 'pcd', 'geometry': pcd},\n",
    "        {'name': 'base', 'geometry': mesh_cylinder, 'material': base_material},\n",
    "        {'name': 'plus', 'geometry': mesh_cylinder_plus_sigma, 'material': plus_sigma_material},\n",
    "        {'name': 'minus', 'geometry': mesh_cylinder_minus_sigma, 'material': minus_sigma_material}\n",
    "    ]\n",
    "    \n",
    "    o3d.visualization.draw(geoms)"
   ]
  },
  {
   "cell_type": "code",
   "execution_count": null,
   "id": "278733bb-0669-4a3e-a671-1a9696eeda05",
   "metadata": {
    "tags": []
   },
   "outputs": [],
   "source": [
    "verify_algorithm(test_pointcloud, mode, sigma)"
   ]
  },
  {
   "cell_type": "markdown",
   "id": "28f6a1a0-24a0-422c-bccb-652bf2826bdf",
   "metadata": {},
   "source": [
    "## The remaining poles"
   ]
  },
  {
   "cell_type": "markdown",
   "id": "ac1dfe51-12eb-45bd-a099-bec99ca73788",
   "metadata": {},
   "source": [
    "This analysis was made only on the scan of pole 41. Now, the scans of all poles are available, and also the measured pole diameters, so having this information, it should be possible to validate this estimation algorithm.\n",
    "\n",
    "However, the poles must be manually cropped beforehand."
   ]
  },
  {
   "cell_type": "code",
   "execution_count": null,
   "id": "fb2d6eac-1e5b-41e3-815c-384a697fb6a9",
   "metadata": {
    "tags": []
   },
   "outputs": [],
   "source": [
    "def crop_pcd(pcd, xbounds, ybounds, zbounds, draw=False):\n",
    "    cropped_pointcloud_array = []\n",
    "    pcd_array = np.asarray(pcd.points)\n",
    "    \n",
    "    for point in pcd_array:\n",
    "        if (xbounds[0] <= point[0] <= xbounds[1]) and (ybounds[0] <= point[1] <= ybounds[1]) and (zbounds[0] <= point[2] <= zbounds[1]):\n",
    "            cropped_pointcloud_array.append(point)\n",
    "            \n",
    "    cropped_pointcloud = o3d.geometry.PointCloud()\n",
    "    cropped_pointcloud.points = o3d.utility.Vector3dVector(cropped_pointcloud_array)\n",
    "    cropped_pointcloud.estimate_normals()\n",
    "    \n",
    "    if draw:\n",
    "        o3d.visualization.draw_geometries([cropped_pointcloud])\n",
    "    else:\n",
    "        return cropped_pointcloud"
   ]
  },
  {
   "cell_type": "code",
   "execution_count": null,
   "id": "a412c703-f863-4d2f-aedb-4173fde1f771",
   "metadata": {
    "tags": []
   },
   "outputs": [],
   "source": [
    "new_pole_all = o3d.io.read_point_cloud(os.path.join(poles_dir, 'NEW_LIDAR/poleny_2.pts'))\n",
    "new_pole_crop = crop_pcd(new_pole_all, [1.05,1.3], [-1.3,-1.05], [-1.05,1])\n",
    "o3d.io.write_point_cloud(os.path.join(poles_dir, 'NEW_LIDAR/poleny_2_crop.pts'), new_pole_crop)"
   ]
  },
  {
   "cell_type": "code",
   "execution_count": null,
   "id": "39b199e1-c9de-4e66-b11a-1d3625224b56",
   "metadata": {
    "tags": []
   },
   "outputs": [],
   "source": [
    "pole_5_all = o3d.io.read_point_cloud(os.path.join(poles_dir, 'NEW_LIDAR/pole5_2.pts'))\n",
    "pole_5_crop = crop_pcd(pole_5_all, [1.38,1.62], [-0.81,-0.59], [-2.05,1])\n",
    "o3d.io.write_point_cloud(os.path.join(poles_dir, 'NEW_LIDAR/pole5_2_crop.pts'), pole_5_crop)"
   ]
  },
  {
   "cell_type": "code",
   "execution_count": null,
   "id": "4f110adf-b591-4ea0-ab0f-7cdef051faae",
   "metadata": {
    "tags": []
   },
   "outputs": [],
   "source": [
    "pole_6_all = o3d.io.read_point_cloud(os.path.join(poles_dir, 'NEW_LIDAR/pole6_1.pts'))\n",
    "pole_6_crop = crop_pcd(pole_6_all, [1.15,1.41], [-0.97,-0.71], [-2.05,1])\n",
    "o3d.io.write_point_cloud(os.path.join(poles_dir, 'NEW_LIDAR/pole6_1_crop.pts'), pole_6_crop)"
   ]
  },
  {
   "cell_type": "code",
   "execution_count": null,
   "id": "9041c7ce-3d16-4da0-a7e2-d26fbb261214",
   "metadata": {},
   "outputs": [],
   "source": [
    "pole_30_all = o3d.io.read_point_cloud(os.path.join(poles_dir, 'NEW_LIDAR/pole30_2.pts'))\n",
    "pole_30_crop = crop_pcd(pole_30_all, [0.97,1.25], [-1.45,-1.15], [-2.05,-0.04])\n",
    "o3d.io.write_point_cloud(os.path.join(poles_dir, 'NEW_LIDAR/pole30_2_crop.pts'), pole_30_crop)"
   ]
  },
  {
   "cell_type": "code",
   "execution_count": null,
   "id": "03d4ad0e-2ecd-4fa4-b5f7-eae7f80aa0f9",
   "metadata": {
    "tags": []
   },
   "outputs": [],
   "source": [
    "pole_41_crop = o3d.io.read_point_cloud(os.path.join(poles_dir, 'NEW_LIDAR/pole41_1_crop_old.pts'))\n",
    "pole_41_crop = crop_pcd(pole_41_crop, [-1.5,-1.23], [-0.8,-0.5], [-10,10])\n",
    "o3d.io.write_point_cloud(os.path.join(poles_dir, 'NEW_LIDAR/pole41_1_crop.pts'), pole_41_crop)"
   ]
  },
  {
   "cell_type": "markdown",
   "id": "3a09f86c-8a59-452d-a033-9d7954c1c25d",
   "metadata": {},
   "source": [
    "### Remaining poles - Diameter estimation"
   ]
  },
  {
   "cell_type": "markdown",
   "id": "c8427474-5edf-4b26-a43b-5914f2ba8c2d",
   "metadata": {},
   "source": [
    "All new poles have been manually cropped from the pole scans. Now, the diameter estimation algorithm can be properly validated."
   ]
  },
  {
   "cell_type": "markdown",
   "id": "93f83125-a6ed-4360-bc41-b5d28fb24e37",
   "metadata": {},
   "source": [
    "#### New pole"
   ]
  },
  {
   "cell_type": "code",
   "execution_count": null,
   "id": "f2eba41d-ad2a-41f5-a264-53ae17dd8e2a",
   "metadata": {
    "tags": []
   },
   "outputs": [],
   "source": [
    "estimates, mu, sigma, mode = estimate_diameter(new_pole_crop, 0.5)\n",
    "plt.hist(estimates)\n",
    "print(f'Diameter estimation: {mu:.3f} ± {sigma:.3f}, mode: {mode:.3f}')"
   ]
  },
  {
   "cell_type": "markdown",
   "id": "ce20b404-4259-416a-b517-da9658fb7250",
   "metadata": {},
   "source": [
    "#### Pole 5"
   ]
  },
  {
   "cell_type": "code",
   "execution_count": null,
   "id": "72901cbd-4573-4aa1-a362-c9153f9ee802",
   "metadata": {
    "tags": []
   },
   "outputs": [],
   "source": [
    "estimates, mu, sigma, mode = estimate_diameter(pole_5_crop, 0.5)\n",
    "plt.hist(estimates)\n",
    "print(f'Diameter estimation: {mu:.3f} ± {sigma:.3f}, mode: {mode:.3f}')"
   ]
  },
  {
   "cell_type": "markdown",
   "id": "3f3fc317-d6e3-47a4-a14c-c9a48e171cc1",
   "metadata": {},
   "source": [
    "#### Pole 6"
   ]
  },
  {
   "cell_type": "code",
   "execution_count": null,
   "id": "5a8364b0-7b87-422e-a57b-6d6cf3c65866",
   "metadata": {
    "tags": []
   },
   "outputs": [],
   "source": [
    "estimates, mu, sigma, mode = estimate_diameter(pole_6_crop, 0.5)\n",
    "plt.hist(estimates)\n",
    "print(f'Diameter estimation: {mu:.3f} ± {sigma:.3f}, mode: {mode:.3f}')"
   ]
  },
  {
   "cell_type": "markdown",
   "id": "320293c7-7e50-4e81-be80-c4d90d2296d7",
   "metadata": {},
   "source": [
    "#### Pole 30"
   ]
  },
  {
   "cell_type": "code",
   "execution_count": null,
   "id": "dbffd046-124c-4745-86e7-173a141df932",
   "metadata": {
    "tags": []
   },
   "outputs": [],
   "source": [
    "estimates, mu, sigma, mode = estimate_diameter(pole_30_crop, 0.5)\n",
    "plt.hist(estimates)\n",
    "print(f'Diameter estimation: {mu:.3f} ± {sigma:.3f}, mode: {mode:.3f}')"
   ]
  },
  {
   "cell_type": "markdown",
   "id": "676715f2-6f16-488c-a730-0f162ee91ba1",
   "metadata": {},
   "source": [
    "#### Pole 41"
   ]
  },
  {
   "cell_type": "code",
   "execution_count": null,
   "id": "dc75b8be-8c15-4efc-9b94-63621d85b771",
   "metadata": {
    "tags": []
   },
   "outputs": [],
   "source": [
    "estimates, mu, sigma, mode = estimate_diameter(pole_41_crop, 0.5)\n",
    "plt.hist(estimates)\n",
    "print(f'Diameter estimation: {mu:.3f} ± {sigma:.3f}, mode: {mode:.3f}')"
   ]
  },
  {
   "cell_type": "markdown",
   "id": "01444583-4f94-4a1a-81aa-2cbf304953a7",
   "metadata": {},
   "source": [
    "As it can be seen, this algorithm is relatively precise: all measured diameters fall within a standard deviation of the estimated diameters. However, the estimates for poles 5, 6 and 30 are more below the measurements than for poles 41 and the new pole. I believe this might be due to the irregularity of these poles, as their diameter changes more along their surfaces (or, in the case of pole 30, it has a big crack through which the LiDAR actually detects the inside of the pole).\n",
    "\n",
    "Therefore, it might be more interesting, following the approach of the X-ray groundtruth, to measure the diameter in equally-sized chunks of the pole."
   ]
  },
  {
   "cell_type": "markdown",
   "id": "6af52732-712c-4c1b-aafe-00d9be82dc50",
   "metadata": {},
   "source": [
    "## Diameter estimate chunkification"
   ]
  },
  {
   "cell_type": "code",
   "execution_count": null,
   "id": "55cf9cd1-962d-4030-a392-bcab4952bfb7",
   "metadata": {
    "tags": []
   },
   "outputs": [],
   "source": [
    "def estimate_diameter_chunkified(pcd, height_threshold, n_chunks, draw=False):\n",
    "    fig, axes = plt.subplots(ncols=n_chunks, figsize=(5*n_chunks, 5))\n",
    "    pcd_array = np.asarray(pcd.points)\n",
    "    min_height, max_height = np.min(pcd_array[:,2]), np.max(pcd_array[:,2])\n",
    "    chunk_size = (max_height - min_height) / n_chunks\n",
    "    chunks = [[point for point in pcd_array if ((min_height + chunk_size*i) < point[2] < (min_height + chunk_size*(i+1)))] for i in range(n_chunks)]\n",
    "    modes = []\n",
    "    for idx, chunk in enumerate(chunks):\n",
    "        pcd_chunk = o3d.geometry.PointCloud()\n",
    "        pcd_chunk.points = o3d.utility.Vector3dVector(chunk)\n",
    "        estimates, mu, sigma, mode = estimate_diameter(pcd_chunk, height_threshold)\n",
    "        modes.append(mode)\n",
    "        axes[idx].hist(estimates)\n",
    "        print(f'Diameter estimation for chunk {idx}: {mu:.3f} ± {sigma:.3f}, mode: {mode:.3f}')    \n",
    "        \n",
    "    if draw:\n",
    "        geoms = [{'name': 'pcd', 'geometry': pcd}]\n",
    "        for idx, mode in enumerate(modes):\n",
    "            mesh_cylinder = o3d.geometry.TriangleMesh.create_cylinder(radius=mode / 2, height=chunk_size)\n",
    "            mesh_center = np.mean(pcd_array, axis=0)\n",
    "            mesh_center[2] = min_height + chunk_size*idx + chunk_size/2\n",
    "            mesh_cylinder.translate(mesh_center, relative=False)\n",
    "            chunk_mat = o3d.visualization.rendering.MaterialRecord()\n",
    "            chunk_mat.shader = 'defaultLitTransparency'\n",
    "            color = (idx / n_chunks,) * 3\n",
    "            chunk_mat.base_color = [color[0], color[1], color[2], 0.7]\n",
    "            geoms.append({'name': f'chunk_{idx}', 'geometry': mesh_cylinder, 'material': chunk_mat})\n",
    "        o3d.visualization.draw(geoms)"
   ]
  },
  {
   "cell_type": "markdown",
   "id": "649fdcf2-f230-49ef-87fa-43bf47ec047b",
   "metadata": {},
   "source": [
    "### New pole"
   ]
  },
  {
   "cell_type": "code",
   "execution_count": null,
   "id": "9aa8de49-999f-4000-a16d-02cc53b133fe",
   "metadata": {
    "tags": []
   },
   "outputs": [],
   "source": [
    "estimate_diameter_chunkified(new_pole_crop, 0.1, 10, True)"
   ]
  },
  {
   "cell_type": "markdown",
   "id": "f2e1df78-0401-4ae3-8d16-a767aac7ea49",
   "metadata": {},
   "source": [
    "### Pole 5"
   ]
  },
  {
   "cell_type": "code",
   "execution_count": null,
   "id": "9878df8d-bdcd-4b5c-ac6a-6439dded5d2e",
   "metadata": {
    "tags": []
   },
   "outputs": [],
   "source": [
    "estimate_diameter_chunkified(pole_5_crop, 0.1, 10, True)"
   ]
  },
  {
   "cell_type": "markdown",
   "id": "b150b694-b542-4bf1-9244-e4f99ccca037",
   "metadata": {
    "tags": []
   },
   "source": [
    "### Pole 6"
   ]
  },
  {
   "cell_type": "code",
   "execution_count": null,
   "id": "f2b98b52-42cf-497a-8112-e1f7cd57438c",
   "metadata": {
    "tags": []
   },
   "outputs": [],
   "source": [
    "estimate_diameter_chunkified(pole_6_crop, 0.1, 10, True)"
   ]
  },
  {
   "cell_type": "markdown",
   "id": "9fddfbd4-5b5f-415f-bab1-2c6bdf4cff51",
   "metadata": {
    "tags": []
   },
   "source": [
    "### Pole 30"
   ]
  },
  {
   "cell_type": "code",
   "execution_count": null,
   "id": "99aeca05-a293-4cb5-a03f-388a2943871c",
   "metadata": {
    "tags": []
   },
   "outputs": [],
   "source": [
    "estimate_diameter_chunkified(pole_30_crop, 0.1, 10, True)"
   ]
  },
  {
   "cell_type": "markdown",
   "id": "d8d407a8-b948-4a0d-88d5-1c74f365b621",
   "metadata": {
    "tags": []
   },
   "source": [
    "### Pole 41"
   ]
  },
  {
   "cell_type": "code",
   "execution_count": null,
   "id": "010abd5b-81ac-4f5a-9ebb-7abc2e6c1e96",
   "metadata": {
    "tags": []
   },
   "outputs": [],
   "source": [
    "estimate_diameter_chunkified(pole_41_crop, 0.1, 10, True)"
   ]
  },
  {
   "cell_type": "markdown",
   "id": "e04476c8-5ecb-4e5f-8c46-f2f6138c4a3a",
   "metadata": {},
   "source": [
    "This chunkified analysis provides further insight about the diameter of the poles. This can be seen with a visual scan, but the diameter changes along the vertical axis, and this change can actually give insight about imperfections in the pole surface, such that if the color histograms/Gabor filters detect imperfections, but the diameter estimate is relatively OK, then the imperfection could be any kind of stain.\n",
    "\n",
    "Furthermore, if an area presents severe surface rot or cracks (such as with poles 5 and 6), the diameter in those areas will be severely affected. This can be seen for the aforementioned poles with a simple visual inspection. For the diameter estimates, it can be seen that, in these areas, the estimates are lower, so this algorithm seems to work properly for diameter estimation."
   ]
  },
  {
   "cell_type": "code",
   "execution_count": null,
   "id": "7a49287b-ce79-4a6b-8688-593eb9386c99",
   "metadata": {},
   "outputs": [],
   "source": []
  }
 ],
 "metadata": {
  "kernelspec": {
   "display_name": "Python 3",
   "language": "python",
   "name": "python3"
  },
  "language_info": {
   "codemirror_mode": {
    "name": "ipython",
    "version": 3
   },
   "file_extension": ".py",
   "mimetype": "text/x-python",
   "name": "python",
   "nbconvert_exporter": "python",
   "pygments_lexer": "ipython3",
   "version": "3.7.0"
  }
 },
 "nbformat": 4,
 "nbformat_minor": 5
}
