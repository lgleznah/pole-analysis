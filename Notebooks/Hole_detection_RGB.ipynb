{
 "cells": [
  {
   "cell_type": "markdown",
   "id": "cf82e207-e60b-465a-8ef4-2200e3f58ed0",
   "metadata": {},
   "source": [
    "# Detect holes in poles (ha, it rhymes!)"
   ]
  },
  {
   "cell_type": "code",
   "execution_count": null,
   "id": "024e8b07-8617-443f-832d-9f8a1fd7517f",
   "metadata": {
    "tags": []
   },
   "outputs": [],
   "source": [
    "import matplotlib.pyplot as plt\n",
    "import cv2\n",
    "import numpy as np\n",
    "import pandas as pd\n",
    "\n",
    "from skimage.morphology import reconstruction, binary_erosion, binary_dilation\n",
    "from skimage.exposure import rescale_intensity"
   ]
  },
  {
   "cell_type": "markdown",
   "id": "6acbc194-dff0-499f-9c50-cd4825612ce3",
   "metadata": {},
   "source": [
    "This notebook is a test of [this hole detection technique](https://scikit-image.org/docs/stable/auto_examples/features_detection/plot_holes_and_peaks.html) to see if it helps with detecting holes in the poles, since they can be more difficult to characterize than cracks, which are properly captured by Gabor filters."
   ]
  },
  {
   "cell_type": "code",
   "execution_count": null,
   "id": "03735d0f-b612-421a-b76e-980abdfb76ed",
   "metadata": {
    "tags": []
   },
   "outputs": [],
   "source": [
    "def crop(image):\n",
    "    y_nonzero, x_nonzero = np.nonzero(image)\n",
    "    return image[np.min(y_nonzero):np.max(y_nonzero), np.min(x_nonzero):np.max(x_nonzero)]\n",
    "\n",
    "img = cv2.imread(f'../Data/RGB/crops/41_0_crop_masked.jpg')\n",
    "img = cv2.cvtColor(img, cv2.COLOR_RGB2GRAY)\n",
    "img = np.log(1 + crop(img))\n",
    "img = rescale_intensity(img)\n",
    "img = np.where(img == 0, np.mean(img), img)\n",
    "plt.imshow(img, cmap='gray')"
   ]
  },
  {
   "cell_type": "markdown",
   "id": "8ea9b767-55f9-43fd-8b3c-d6fffe619dcf",
   "metadata": {},
   "source": [
    "Following this technique, a visualization of holes in all images could be as follows:"
   ]
  },
  {
   "cell_type": "code",
   "execution_count": null,
   "id": "aed138cf-86f5-4769-9d75-ea93da8e0d70",
   "metadata": {
    "tags": []
   },
   "outputs": [],
   "source": [
    "def visualize_holes():\n",
    "    fig, axes = plt.subplots(5, 8, figsize=(20,16))\n",
    "    pole_ids = ['Ny',30,41,6,5]\n",
    "    pole_status = ['31/37', '17/24', '15/24', '12/24', '11/24']\n",
    "    specific_status = ['New', 'Rotten', 'Cracks', 'Cracks', 'Rotten']\n",
    "    \n",
    "    data = {\n",
    "        'id': [0,30,41,6,5],\n",
    "        'hole_ratio_0_degrees': [],\n",
    "        'hole_ratio_90_degrees': [],\n",
    "        'hole_ratio_180_degrees': [],\n",
    "        'hole_ratio_270_degrees': [],\n",
    "    }\n",
    "\n",
    "    for pole_idx, pole_id in enumerate(pole_ids):\n",
    "        for rotation_idx, rotation in enumerate([0, 90, 180, 270]):\n",
    "            # Open and preprocess image\n",
    "            img = cv2.imread(f'../Data/RGB/crops/{pole_id}_{rotation}_crop_masked.jpg')\n",
    "            img = cv2.cvtColor(img, cv2.COLOR_RGB2GRAY)\n",
    "            img = np.log(1 + crop(img))\n",
    "            img = rescale_intensity(img)\n",
    "            img = np.where(img == 0, np.mean(img), img)\n",
    "            \n",
    "            # Detect holes\n",
    "            seed = np.copy(img)\n",
    "            seed[1:-1, 1:-1] = img.max()\n",
    "            mask = img\n",
    "            filled = reconstruction(seed, mask, method='erosion')\n",
    "            diff_img = -img+filled\n",
    "            diff_img = np.where(diff_img > 0.3, 1, 0)\n",
    "            \n",
    "            diff_img = binary_dilation(diff_img, footprint=np.ones((15, 15)))\n",
    "            diff_img = binary_erosion(diff_img, footprint=np.ones((15, 15)))\n",
    "            \n",
    "            axes[pole_idx, rotation_idx*2].imshow(diff_img, cmap='gray')\n",
    "            axes[pole_idx, rotation_idx*2+1].imshow(img, cmap='gray')\n",
    "            axes[pole_idx, rotation_idx*2+1].set_xticks([])\n",
    "            axes[pole_idx, rotation_idx*2+1].set_yticks([])\n",
    "            \n",
    "            data[f'hole_ratio_{rotation}_degrees'].append(np.sum(diff_img) / (diff_img.shape[0] * diff_img.shape[1]))\n",
    "\n",
    "    fig.suptitle('Hole detection')\n",
    "\n",
    "    [axes[0,i*2].set_title(f'{i*90} degrees') for i in range(4)]\n",
    "\n",
    "    [axes[i,0].set_ylabel(f'Pole {pole}\\nStatus: {pole_status[i]}\\nCause: {specific_status[i]}', labelpad=60, fontdict={'rotation':0}) for i, pole in enumerate(pole_ids)]\n",
    "\n",
    "    plt.savefig('../Figures/morph_reconstruction.jpg')\n",
    "    \n",
    "    return data"
   ]
  },
  {
   "cell_type": "code",
   "execution_count": null,
   "id": "e5b4a828-7ec8-4900-a0fc-6cf1ab503c10",
   "metadata": {
    "tags": []
   },
   "outputs": [],
   "source": [
    "data = visualize_holes()\n",
    "df_morph = pd.DataFrame(data)\n",
    "df_morph.to_csv(f'../Features/morphological.csv')"
   ]
  }
 ],
 "metadata": {
  "kernelspec": {
   "display_name": "Python 3",
   "language": "python",
   "name": "python3"
  },
  "language_info": {
   "codemirror_mode": {
    "name": "ipython",
    "version": 3
   },
   "file_extension": ".py",
   "mimetype": "text/x-python",
   "name": "python",
   "nbconvert_exporter": "python",
   "pygments_lexer": "ipython3",
   "version": "3.8.17"
  }
 },
 "nbformat": 4,
 "nbformat_minor": 5
}
