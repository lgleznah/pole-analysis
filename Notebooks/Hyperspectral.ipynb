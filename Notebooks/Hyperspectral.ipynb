{
 "cells": [
  {
   "cell_type": "markdown",
   "id": "4020ed96-c29c-44d7-acad-0bf00a99cc89",
   "metadata": {},
   "source": [
    "# Hyperspectral data analysis"
   ]
  },
  {
   "cell_type": "code",
   "execution_count": null,
   "id": "b6a84b25-c53f-487f-9062-ed87c4fc6791",
   "metadata": {},
   "outputs": [],
   "source": [
    "import spectral.io.envi as envi\n",
    "%matplotlib inline\n",
    "import matplotlib.pyplot as plt\n",
    "import numpy as np\n",
    "import ipywidgets as widgets\n",
    "import os\n",
    "import cv2\n",
    "import pandas as pd\n",
    "\n",
    "from ipywidgets import interact\n",
    "from ipywidgets import FloatSlider\n",
    "from spectral import kmeans\n",
    "from collections import defaultdict\n",
    "\n",
    "os.environ[\"SPECTRAL_DATA\"] = \"C:\\\\Users\\\\ext-lugo\\\\Hyperspectral\\\\Radiance\""
   ]
  },
  {
   "cell_type": "markdown",
   "id": "5d1b6944-df6d-4502-82ec-e256c50732c9",
   "metadata": {},
   "source": [
    "## A \"\"\"\"simple\"\"\"\", preliminary analysis"
   ]
  },
  {
   "cell_type": "markdown",
   "id": "fd056c74-83aa-48a2-a088-7b759f7f4db8",
   "metadata": {},
   "source": [
    "Since hyperspectral images have a lot of bands, for easing analysis, the cells below implement a simple slider to select which band to display"
   ]
  },
  {
   "cell_type": "code",
   "execution_count": null,
   "id": "67992d97-e4c7-4105-87a1-23a6c52ba9a5",
   "metadata": {
    "tags": []
   },
   "outputs": [],
   "source": [
    "def show_pole(pole_id, rotation_idx):\n",
    "    paths = os.listdir(os.path.join(\"C:\\\\Users\\\\ext-lugo\\\\Hyperspectral\\\\Radiance\", pole_id))\n",
    "    paths = [path for path in paths if \"float32.hdr\" in path]\n",
    "    paths.sort()\n",
    "    img = envi.open(os.path.join(\"C:\\\\Users\\\\ext-lugo\\\\Hyperspectral\\\\Radiance\", pole_id, paths[rotation_idx])).load()\n",
    "    mask = cv2.imread(os.path.join(\"../../Hyperspectral_masks/\", f\"{str(pole_id)}_{str(rotation_idx)}_mask.jpg\"))\n",
    "    wls = np.asarray(img.metadata['wavelength'], float)\n",
    "    img_show = np.where(mask[:,:,0] > 0, np.transpose(img, [2,0,1]), 0)\n",
    "    img_show = np.transpose(img_show, [1,2,0])\n",
    "    \n",
    "    def browse_images(img):\n",
    "        bands = img.shape[-1]\n",
    "        def view_images(i=60):\n",
    "            img_show = np.where(mask[:,:,0] > 0, np.squeeze(img[:,:,i]), 0)\n",
    "            plt.imshow(img_show, cmap='gray')\n",
    "            plt.title(f'{wls[i]} nm')\n",
    "            plt.xticks([])\n",
    "            plt.yticks([])\n",
    "        interact(view_images, i=(0, bands - 1))\n",
    "\n",
    "    browse_images(img_show)\n",
    "\n",
    "show_pole('0', 0)"
   ]
  },
  {
   "cell_type": "code",
   "execution_count": null,
   "id": "abed34e7-384d-4111-aef8-e38c85d3d225",
   "metadata": {},
   "outputs": [],
   "source": [
    "def show_pole_with_reflectance(pole_id, rotation_idx):\n",
    "    paths = os.listdir(os.path.join(\"C:\\\\Users\\\\ext-lugo\\\\Hyperspectral\\\\Radiance\", pole_id))\n",
    "    paths = [path for path in paths if \"float32.hdr\" in path]\n",
    "    paths.sort()\n",
    "    img = envi.open(os.path.join(\"C:\\\\Users\\\\ext-lugo\\\\Hyperspectral\\\\Radiance\", pole_id, paths[rotation_idx])).load()\n",
    "    wls = np.asarray(img.metadata['wavelength'], float)\n",
    "    \n",
    "    def browse_images(img):\n",
    "        bands = img.shape[-1]\n",
    "        def view_images(i=60):\n",
    "            plt.imshow(img[:,:,i], cmap='gray', interpolation='nearest')\n",
    "            plt.title(f'{wls[i]} nm')\n",
    "            plt.show()\n",
    "        interact(view_images, i=(0, bands - 1))\n",
    "\n",
    "    browse_images(img)"
   ]
  },
  {
   "cell_type": "code",
   "execution_count": null,
   "id": "d324de21-f778-4457-8773-d3badcbd7096",
   "metadata": {
    "tags": []
   },
   "outputs": [],
   "source": [
    "def show_pole_false_color(pole_id, rotation_idx):\n",
    "    paths = os.listdir(os.path.join(\"C:\\\\Users\\\\ext-lugo\\\\Hyperspectral\\\\Radiance\", pole_id))\n",
    "    paths = [path for path in paths if \"float32.hdr\" in path]\n",
    "    paths.sort()\n",
    "    img_ro = envi.open(os.path.join(\"C:\\\\Users\\\\ext-lugo\\\\Hyperspectral\\\\Radiance\", pole_id, paths[rotation_idx])).load()\n",
    "    img = img_ro / np.max(img_ro, axis=(0,1))\n",
    "    wls = np.asarray(img_ro.metadata['wavelength'], float)\n",
    "    \n",
    "    def browse_images(img):\n",
    "        bands = img.shape[-1]\n",
    "        def view_images(c1=83, c2=88, c3=11):\n",
    "            plt.imshow(np.take(img, [c1, c2, c3], axis=2), cmap='gray', interpolation='nearest')\n",
    "            plt.show()\n",
    "        interact(view_images, c1=(0, bands - 1), c2=(0, bands - 1), c3=(0, bands - 1))\n",
    "\n",
    "    browse_images(img)\n",
    "\n",
    "show_pole_false_color('0', 0)"
   ]
  },
  {
   "cell_type": "markdown",
   "id": "bbb5d4e8-6204-45ea-9311-670773818cac",
   "metadata": {},
   "source": [
    "## Even simpler pole isolation approaches"
   ]
  },
  {
   "cell_type": "markdown",
   "id": "7a99e42d-bd2b-4efd-96e5-eb931d436642",
   "metadata": {},
   "source": [
    "By taking a look at all the different poles in different rotations, it is possible to see that, for some poles, there seem to be measurement errors at some hyperspectral bands, specially at the intermediate bands.\n",
    "\n",
    "Due to the nature of the hyperspectral data, it is difficult to isolate the pole from the background. Looking at all the different poles, it can be seen that it is extremely difficult to set thresholds that will work for all different poles. Therefore, more advanced hyperspectral edge detection algorithms are required. Only some simple, already implemented ones will be tried; if these don't work, the images will be manually cropped for now.\n",
    "\n",
    "The cell below implements the first tries at isolating the pole via thresholds in various channels."
   ]
  },
  {
   "cell_type": "markdown",
   "id": "9332254a-676a-4a48-9949-388258c4dde5",
   "metadata": {},
   "source": [
    "### Naïve attempts: thresholds"
   ]
  },
  {
   "cell_type": "code",
   "execution_count": null,
   "id": "f1c6b4f0-1c9c-4c4e-a5cf-b696cb68dfe3",
   "metadata": {
    "tags": []
   },
   "outputs": [],
   "source": [
    "def filter_pole_by_bands(pole_id, rotation_idx):\n",
    "    paths = os.listdir(os.path.join(\"C:\\\\Users\\\\ext-lugo\\\\Hyperspectral\\\\Radiance\", pole_id))\n",
    "    paths = [path for path in paths if \"float32.hdr\" in path]\n",
    "    paths.sort()\n",
    "    img_ro = envi.open(os.path.join(\"C:\\\\Users\\\\ext-lugo\\\\Hyperspectral\\\\Radiance\", pole_id, paths[rotation_idx])).load()\n",
    "    img = img_ro / np.max(img_ro, axis=(0,1))\n",
    "    img = img[:,:850]\n",
    "    wls = np.asarray(img_ro.metadata['wavelength'], float)\n",
    "    \n",
    "    def browse_images(img):\n",
    "        bands = img.shape[-1]\n",
    "        def view_images(threshold_1 = 0.15, threshold_2 = 0.9, nir_low_threshold = 0.10, root = 2):\n",
    "            first_mask = np.expand_dims(np.where((img[:,:,11] > threshold_1) & (img[:,:,90] < threshold_2), 0, 1), axis=2)\n",
    "            second_mask = np.expand_dims(np.where(img[:,:,-1] < nir_low_threshold, 0, 1), axis=2)\n",
    "            second_mask[:,150:] = 1\n",
    "            mask = first_mask & second_mask\n",
    "            img_new = np.power(img, 1/root)\n",
    "            img_new /= np.max(img_new, axis=(0,1))\n",
    "            img_new = img_new * mask\n",
    "            img_new = np.where(img_new == 0, 1, img_new)\n",
    "            plt.imshow(np.take(img_new, [-1], axis=2), cmap='gray', interpolation='nearest')\n",
    "            plt.show()\n",
    "        interact(view_images, threshold_1=(0.0, 1.0, 0.01), threshold_2=(0.0, 1.0, 0.01), nir_low_threshold=(0.0, 1.0, 0.01), root=(0,10, 0.1))\n",
    "\n",
    "    browse_images(img)\n",
    "\n",
    "filter_pole_by_bands('0', 1)"
   ]
  },
  {
   "cell_type": "code",
   "execution_count": null,
   "id": "639d3874-dc3a-40e3-87e4-a4e37c56ca82",
   "metadata": {
    "tags": []
   },
   "outputs": [],
   "source": [
    "def keep_largest_mask_component(mask):\n",
    "    mask = mask.astype('uint8')\n",
    "    nb_components, output, stats, centroids = cv2.connectedComponentsWithStats(mask, connectivity=4)\n",
    "    sizes = stats[:, -1]\n",
    "\n",
    "    max_label = 1\n",
    "    max_size = sizes[1]\n",
    "    for i in range(2, nb_components):\n",
    "        if sizes[i] > max_size:\n",
    "            max_label = i\n",
    "            max_size = sizes[i]\n",
    "\n",
    "    img2 = np.zeros(output.shape)\n",
    "    img2[output == max_label] = 255\n",
    "    return img2\n",
    "\n",
    "def mask_contours(pole_id, rotation_idx, draw=True):\n",
    "    paths = os.listdir(os.path.join(\"C:\\\\Users\\\\ext-lugo\\\\Hyperspectral\\\\Radiance\", str(pole_id)))\n",
    "    paths = [path for path in paths if \"float32.hdr\" in path]\n",
    "    paths.sort()\n",
    "    ro_img = envi.open(os.path.join(\"C:\\\\Users\\\\ext-lugo\\\\Hyperspectral\\\\Radiance\", str(pole_id), paths[rotation_idx])).load()\n",
    "    img = ro_img / np.max(ro_img, axis=(0,1))\n",
    "    nir_band = (img[:,:,-1] * 255).astype(np.uint8)\n",
    "    nir_band = cv2.convertScaleAbs(nir_band, 3, 3)\n",
    "    nir_band[:,825:] = 0\n",
    "    ret, thresh = cv2.threshold(nir_band, 240, 255, cv2.THRESH_TOZERO_INV)\n",
    "    ret, thresh = cv2.threshold(thresh, 75, 255, cv2.THRESH_TOZERO)\n",
    "    plt.imshow(thresh, cmap='gray')\n",
    "    return\n",
    "    \n",
    "    contours, hierarchy = cv2.findContours(thresh, cv2.RETR_TREE, cv2.CHAIN_APPROX_NONE)\n",
    "    contours = sorted(contours, key=len)\n",
    "    contours = [contours[-1]]\n",
    "    \n",
    "    mask = np.zeros_like(nir_band)\n",
    "    cv2.drawContours(mask, contours, -1, 255, -1)\n",
    "    mask = keep_largest_mask_component(mask)\n",
    "    mask = np.repeat(mask[...,np.newaxis], img.shape[-1], axis=2)\n",
    "    out = np.zeros_like(img)\n",
    "    out[mask == 255] = img[mask == 255]\n",
    "\n",
    "    if draw:\n",
    "        plt.figure(figsize = (9, 12))\n",
    "        plt.imshow(out[:,:,-1])\n",
    "    \n",
    "    else:\n",
    "        return out, mask"
   ]
  },
  {
   "cell_type": "code",
   "execution_count": null,
   "id": "def70014-96a9-4af7-a9d6-2c63e4068ba1",
   "metadata": {
    "tags": []
   },
   "outputs": [],
   "source": [
    "mask_contours(0, 3, draw=True)"
   ]
  },
  {
   "cell_type": "markdown",
   "id": "6905d2b0-314b-4c55-9d75-1be6788c4803",
   "metadata": {},
   "source": [
    "### Advanced attempts: algorithms"
   ]
  },
  {
   "cell_type": "code",
   "execution_count": null,
   "id": "4e616c2a-e2e8-4722-a480-fb90f4260766",
   "metadata": {
    "tags": []
   },
   "outputs": [],
   "source": [
    "def segment_pole_kmeans(pole_id, rotation_idx):\n",
    "    paths = os.listdir(os.path.join(\"C:\\\\Users\\\\ext-lugo\\\\Hyperspectral\\\\Radiance\", str(pole_id)))\n",
    "    paths = [path for path in paths if \"float32.hdr\" in path]\n",
    "    paths.sort()\n",
    "    ro_img = envi.open(os.path.join(\"C:\\\\Users\\\\ext-lugo\\\\Hyperspectral\\\\Radiance\", str(pole_id), paths[rotation_idx])).load()\n",
    "    \n",
    "    (m, c) = kmeans(ro_img, 8, 30)\n",
    "    \n",
    "    palette = np.array([[  0,   0,   0],\n",
    "                        [255,   0,   0],\n",
    "                        [255, 255,   0],\n",
    "                        [  0, 255,   0],\n",
    "                        [  0, 255, 255],\n",
    "                        [  0,   0, 255],\n",
    "                        [255,   0, 255],\n",
    "                        [255, 255, 255]])\n",
    "    \n",
    "    result = palette[m]\n",
    "    plt.imshow(result)\n",
    "\n",
    "segment_pole_kmeans(0, 0)"
   ]
  },
  {
   "cell_type": "markdown",
   "id": "24d41fbf-930d-43db-bfc1-5a9dba734ad7",
   "metadata": {},
   "source": [
    "As it can be seen, a k-means clustering algorithm can detect the pole up to some extent. More algorithms could be tried, but for the sake of keeping the analysis focused on distinguishing different kinds of poles, these will be manually extracted for now"
   ]
  },
  {
   "cell_type": "code",
   "execution_count": null,
   "id": "55cbbdd5-bcbe-48f6-8743-781d13304be5",
   "metadata": {
    "tags": []
   },
   "outputs": [],
   "source": [
    "def crop_pole(pole_id, rotation_idx, draw=False, crop=True):\n",
    "    paths = os.listdir(os.path.join(\"C:\\\\Users\\\\ext-lugo\\\\Hyperspectral\\\\Radiance\", str(pole_id)))\n",
    "    paths = [path for path in paths if \"float32.hdr\" in path]\n",
    "    paths.sort()\n",
    "    ro_img = envi.open(os.path.join(\"C:\\\\Users\\\\ext-lugo\\\\Hyperspectral\\\\Radiance\", str(pole_id), paths[rotation_idx])).load()\n",
    "    wls = np.asarray(ro_img.metadata['wavelength'], float)\n",
    "    \n",
    "    img = ro_img[150:3900,100:820,:] if crop else ro_img\n",
    "    white = ro_img[1800:2200,1000:1100,:]\n",
    "    if draw:\n",
    "        plt.imshow(img[...,-1], cmap='gray')\n",
    "    else:\n",
    "        return img, wls, white"
   ]
  },
  {
   "cell_type": "code",
   "execution_count": null,
   "id": "ed7151de-2e81-456d-b82f-3fee47371306",
   "metadata": {
    "tags": []
   },
   "outputs": [],
   "source": [
    "crop_pole(41, 3, draw=True)"
   ]
  },
  {
   "cell_type": "markdown",
   "id": "aa8b1b4c-458d-4a30-a618-2672d41fbd4f",
   "metadata": {},
   "source": [
    "## Spectrum analysis"
   ]
  },
  {
   "cell_type": "markdown",
   "id": "8cf101d5-d5f1-43a1-9134-729d21ae9207",
   "metadata": {},
   "source": [
    "In order to be able to properly characterize the wooden poles, a good starting point is to measure how the wood spectrum changes along the hyperspectral bands. Poles in different conditions are expected to show different spectrums.\n",
    "\n",
    "Note that, in these plots, no information regarding the rotations is given, as each pole's scans are only labeled with numbers from 1 to 4, instead of the rotation degrees. The rotation could be given by comparing the scans with the RGB photos, but to keep the analysis simple, this will be omitted for now."
   ]
  },
  {
   "cell_type": "code",
   "execution_count": null,
   "id": "3eb2d6ea-827a-478f-af7d-f96e6eb4ff70",
   "metadata": {
    "tags": []
   },
   "outputs": [],
   "source": [
    "def plot_average_spectra_per_pole_and_rotation(reflectance=True):\n",
    "    pole_ids = [0,30,41,6,5]\n",
    "    rotation_idxs = [0,1,2,3]\n",
    "    wavelength_idxs = [0, 50, 91]\n",
    "    \n",
    "    pole_ids_text = ['Ny',30,41,6,5]\n",
    "    pole_status = ['31/37', '17/24', '15/24', '12/24', '11/24']\n",
    "    specific_status = ['New', 'Rotten', 'Cracks', 'Cracks', 'Rotten']\n",
    "    \n",
    "    data = defaultdict(list)\n",
    "    data['id'] = [0,30,41,6,5]\n",
    "    \n",
    "    fig, axes = plt.subplots(5, 4, figsize=(20,20))\n",
    "    \n",
    "    for pole_idx, pole in enumerate(pole_ids):\n",
    "        for rotation in rotation_idxs:\n",
    "            cropped_pole, wavelengths, white = crop_pole(pole, rotation)\n",
    "            # Remove first bands due to noise\n",
    "            wavelengths = wavelengths[8:]\n",
    "            cropped_pole = cropped_pole[...,8:]\n",
    "            white = white[...,8:]\n",
    "            white_spectrum = np.average(white, axis=(0,1))\n",
    "            spectrum = np.average(cropped_pole, axis=(0,1))\n",
    "            \n",
    "            if reflectance:\n",
    "                spectrum = spectrum / white_spectrum\n",
    "                            \n",
    "            axes[pole_idx, rotation].plot(range(len(spectrum)), spectrum)\n",
    "            axes[pole_idx, rotation].set_ylim((-0.1, 1.1))\n",
    "            axes[pole_idx, rotation].set_xticks(wavelength_idxs, [f'{wavelengths[idx]:.0f}nm' for idx in wavelength_idxs])\n",
    "            \n",
    "            for band_idx, band_reflectance in enumerate(spectrum):\n",
    "                data[f'reflectance_band_{band_idx}_{rotation}'].append(band_reflectance)\n",
    "            \n",
    "    [axes[0,i].set_title(f'Rotation {i}') for i in range(4)]\n",
    "\n",
    "    [axes[i,0].set_ylabel(f'Pole {pole}\\nStatus: {pole_status[i]}\\nCause: {specific_status[i]}', labelpad=60, fontdict={'rotation':0}) for i, pole in enumerate(pole_ids_text)]\n",
    "    \n",
    "    plt.savefig(f'hyperspectral_results_per_pole_and_rotation_{\"ref\" if reflectance else \"noref\"}.png')\n",
    "    \n",
    "    return data\n",
    "            \n",
    "data = plot_average_spectra_per_pole_and_rotation(True)\n",
    "df_spectra = pd.DataFrame(data)\n",
    "df_spectra.to_csv(f'../Features/hyperspectral.csv')\n",
    "#plot_average_spectra_per_pole_and_rotation(False)"
   ]
  },
  {
   "cell_type": "code",
   "execution_count": null,
   "id": "922bd8ba-8129-4331-8fb8-a6f06fe717b3",
   "metadata": {
    "tags": []
   },
   "outputs": [],
   "source": [
    "def plot_average_spectra():\n",
    "    pole_ids = [0,30,41,6,5]\n",
    "    rotation_idxs = [0,1,2,3]\n",
    "    wavelength_idxs = [0, 50, 91]\n",
    "    labels = [\n",
    "        'Pole 0, new, 31/37',\n",
    "        'Pole 30, rotten, 17/24',\n",
    "        'Pole 41, cracks, 15/24',\n",
    "        'Pole 6, cracks, 12/24',\n",
    "        'Pole 5, rotten, 11/24',\n",
    "    ]\n",
    "    lines = ['-', '-.', '--', '--', '-.']\n",
    "    \n",
    "    for pole_idx, pole in enumerate(pole_ids):\n",
    "        rotation_spectra = []\n",
    "        for rotation in rotation_idxs:\n",
    "            cropped_pole, wavelengths, white = crop_pole(pole, rotation)\n",
    "            # Remove first bands due to noise\n",
    "            wavelengths = wavelengths[8:]\n",
    "            cropped_pole = cropped_pole[...,8:]\n",
    "            white = white[...,8:]\n",
    "            white_spectrum = np.average(white, axis=(0,1))\n",
    "            spectrum = np.average(cropped_pole, axis=(0,1))\n",
    "            rotation_spectra.append(spectrum / white_spectrum)\n",
    "        avg_spectrum = np.average(rotation_spectra, axis=0)\n",
    "        plt.plot(range(len(avg_spectrum)), avg_spectrum, linestyle=lines[pole_idx], label=labels[pole_idx])\n",
    "    plt.ylim((0, 1.0))\n",
    "    plt.xticks(wavelength_idxs, [f'{wavelengths[idx]:.0f}nm' for idx in wavelength_idxs])\n",
    "    plt.xlabel('Wavelength')\n",
    "    plt.ylabel('Reflectance')\n",
    "    plt.legend()\n",
    "    plt.savefig('hyperspectral_results.png')\n",
    "            \n",
    "plot_average_spectra()"
   ]
  },
  {
   "cell_type": "markdown",
   "id": "5dfe5841-032c-49c4-9d38-14a539b1c359",
   "metadata": {},
   "source": [
    "## Hyperspectral data - Outlier analysis"
   ]
  },
  {
   "cell_type": "markdown",
   "id": "0dc9dfee-d31b-49e9-800f-f41ee46061c4",
   "metadata": {},
   "source": [
    "As it was shown in the widgets above, there are some bands for some pole-rotation pairs that appear to be almost completely dark. However, by examining the values present in these, one can see that these are non-zero, and there are also extremely high values. This leads to thinking that there could be outliers that are obscuring the poles in these bands, perhaps due to misreadings in the sensor.\n",
    "\n",
    "It is therefore a good idea to do a simple analysis to look for outliers. The plots are shown on log scale, since plotting them on a regular scale hides useful information"
   ]
  },
  {
   "cell_type": "code",
   "execution_count": null,
   "id": "434a0e3c-7d05-4985-83ff-d2785ddf3940",
   "metadata": {
    "tags": []
   },
   "outputs": [],
   "source": [
    "def visualize_outliers():\n",
    "    fig, axes = plt.subplots(5, 4, figsize=(20,20))\n",
    "    pole_ids = [0, 30, 41, 6, 5]\n",
    "    rotation_idxs = [0, 1, 2, 3]\n",
    "    \n",
    "    for pole_idx, pole_id in enumerate(pole_ids):\n",
    "        for rotation_idx in rotation_idxs:\n",
    "            pole, _, _ = get_pole(pole_id, rotation_idx, crop=False)\n",
    "            pole = pole.flatten()\n",
    "            axes[pole_idx,rotation_idx].hist(pole, bins=100, log=True)\n",
    "            del pole\n",
    "            \n",
    "    plt.savefig('../Figures/hyperspectral_histograms.png')\n",
    "            \n",
    "visualize_outliers()"
   ]
  },
  {
   "cell_type": "markdown",
   "id": "c0db59c0-4803-4bc8-a781-0e0b9bb01b18",
   "metadata": {},
   "source": [
    "From what can be seen on these graphs, poles with normal scans have radiance values between 0 and 0.025 approximately. However, for the scans with black bands, there are extreme values of 2.0. The meaning of this value is unknown, it could be a default value for missing data, or a reading that got out of range. One way or another, values greater than 0.025 will be turned to 0. As these plots show, there are very few values on each scan that exceed 0.025, so this is a good threshold.\n",
    "\n",
    "The widget below shows the result of plotting the hyperspectral bands, performing this pruning"
   ]
  },
  {
   "cell_type": "code",
   "execution_count": null,
   "id": "615e9a70-06c6-42a3-b155-e10564ee954b",
   "metadata": {
    "tags": []
   },
   "outputs": [],
   "source": [
    "def show_pole_pruned(pole_id, rotation_idx):\n",
    "    paths = os.listdir(os.path.join(\"C:\\\\Users\\\\ext-lugo\\\\Hyperspectral\\\\Radiance\", pole_id))\n",
    "    paths = [path for path in paths if \"float32.hdr\" in path]\n",
    "    paths.sort()\n",
    "    img = envi.open(os.path.join(\"C:\\\\Users\\\\ext-lugo\\\\Hyperspectral\\\\Radiance\", pole_id, paths[rotation_idx])).load()\n",
    "    wls = np.asarray(img.metadata['wavelength'], float)\n",
    "    \n",
    "    def browse_images(img):\n",
    "        bands = img.shape[-1]\n",
    "        def view_images(i=60):\n",
    "            img_clean = np.where(img[:,:,i] > 0.025, 0, img[:,:,i])\n",
    "            plt.imshow(img_clean, cmap='gray', interpolation='nearest')\n",
    "            plt.title(f'{wls[i]} nm')\n",
    "            plt.show()\n",
    "        interact(view_images, i=(0, bands - 1))\n",
    "\n",
    "    browse_images(img)\n",
    "\n",
    "show_pole_pruned('0', 0)"
   ]
  },
  {
   "cell_type": "markdown",
   "id": "1352973a-5147-438a-9219-5f3c8067a06e",
   "metadata": {},
   "source": [
    "Now that these extreme values have been removed, it is possible to see the pole in the scans that appeared to be completely dark, as those values were indeed outliers. However, this should not affect the analysis more than for visualization purposes, but as best practice, these values will always be pruned as before."
   ]
  },
  {
   "cell_type": "code",
   "execution_count": null,
   "id": "2d34eb00-1a70-4f11-a058-77eb1e16ddcf",
   "metadata": {
    "tags": []
   },
   "outputs": [],
   "source": [
    "def clean_pole(img):\n",
    "    return np.where(img > 0.025, 0, img)"
   ]
  },
  {
   "cell_type": "code",
   "execution_count": null,
   "id": "43823b61-c960-4057-babc-b554fc4d4d42",
   "metadata": {},
   "outputs": [],
   "source": []
  }
 ],
 "metadata": {
  "kernelspec": {
   "display_name": "Python 3",
   "language": "python",
   "name": "python3"
  },
  "language_info": {
   "codemirror_mode": {
    "name": "ipython",
    "version": 3
   },
   "file_extension": ".py",
   "mimetype": "text/x-python",
   "name": "python",
   "nbconvert_exporter": "python",
   "pygments_lexer": "ipython3",
   "version": "3.8.17"
  }
 },
 "nbformat": 4,
 "nbformat_minor": 5
}
