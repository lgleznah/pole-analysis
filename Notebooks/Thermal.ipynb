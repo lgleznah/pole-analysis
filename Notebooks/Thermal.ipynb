{
 "cells": [
  {
   "cell_type": "markdown",
   "id": "58f41b85-92ae-45ab-abca-29cb2c59d27a",
   "metadata": {},
   "source": [
    "# Thermal data analysis"
   ]
  },
  {
   "cell_type": "code",
   "execution_count": null,
   "id": "61ee0069-80ba-4524-b664-f203c6faea85",
   "metadata": {
    "tags": []
   },
   "outputs": [],
   "source": [
    "import cv2\n",
    "import matplotlib.pyplot as plt\n",
    "import numpy as np\n",
    "import PIL.Image\n",
    "import PIL.ExifTags"
   ]
  },
  {
   "cell_type": "markdown",
   "id": "4777db52-4b4f-47cf-884c-d10f681c728f",
   "metadata": {},
   "source": [
    "## Analysis 101"
   ]
  },
  {
   "cell_type": "markdown",
   "id": "940164cc-4993-43d3-9587-085a564f1620",
   "metadata": {},
   "source": [
    "As with the rest of the data, the first step is to pick a sample image and check for extra information in its EXIF fields"
   ]
  },
  {
   "cell_type": "code",
   "execution_count": null,
   "id": "4d942ffd-6f3f-44f0-9a05-08394ced189d",
   "metadata": {
    "tags": []
   },
   "outputs": [],
   "source": [
    "image = cv2.imread('Thermal/ny_0.bmp')\n",
    "image = cv2.cvtColor(image, cv2.COLOR_BGR2RGB)"
   ]
  },
  {
   "cell_type": "code",
   "execution_count": null,
   "id": "ab90c045-4af6-4e7a-a78d-94c4d6d3e343",
   "metadata": {
    "tags": []
   },
   "outputs": [],
   "source": [
    "plt.imshow(image)"
   ]
  },
  {
   "cell_type": "code",
   "execution_count": null,
   "id": "6011642f-e673-45a2-9cfe-c99274430cce",
   "metadata": {
    "tags": []
   },
   "outputs": [],
   "source": [
    "def get_exif(image_path):\n",
    "    img = PIL.Image.open(image_path)\n",
    "    try:\n",
    "        exif = {\n",
    "            PIL.ExifTags.TAGS[k]: v\n",
    "            for k, v in img._getexif().items()\n",
    "            if k in PIL.ExifTags.TAGS\n",
    "        }\n",
    "        return exif\n",
    "    except AttributeError:\n",
    "        return \"No EXIF data available!\"\n",
    "\n",
    "for pole_name in ['ny', '5', '6', '30', '41']:\n",
    "    for rotation in [0, 90, 180, 270]:\n",
    "        print(get_exif(f'Thermal/{pole_name}_{rotation}.bmp'))"
   ]
  },
  {
   "cell_type": "markdown",
   "id": "05412b79-1baf-4f44-a37d-239fdef0052b",
   "metadata": {},
   "source": [
    "None of the images have EXIF data, so there is nothing more to analyse on that respect."
   ]
  },
  {
   "cell_type": "markdown",
   "id": "d981842f-9477-4335-8643-b96b290bc134",
   "metadata": {},
   "source": [
    "## Comparing the thermal images with the RGB images"
   ]
  },
  {
   "cell_type": "markdown",
   "id": "83331664-8a66-4260-9218-0e12e650b539",
   "metadata": {},
   "source": [
    "For beginning the analysis of the thermal images, a good starting point can be comparing the thermal images with the RGB images, to see if there is any correlation with distinctive features of the poles (cracks, rot, etc.)"
   ]
  },
  {
   "cell_type": "code",
   "execution_count": null,
   "id": "c5c96079-ea4f-4d21-9bc2-fa5636566622",
   "metadata": {
    "tags": []
   },
   "outputs": [],
   "source": [
    "def plot_thermal_and_rgb():\n",
    "    fig, axes = plt.subplots(5, 8, figsize=(20,16))\n",
    "    pole_ids = ['Ny','30','41','6','5']\n",
    "    pole_status = ['31/37', '17/24', '15/24', '12/24', '11/24']\n",
    "    specific_status = ['New', 'Rotten', 'Cracks', 'Cracks', 'Rotten']\n",
    "\n",
    "    for pole_idx, pole_id in enumerate(pole_ids):\n",
    "        for rotation_idx, rotation in enumerate([0, 90, 180, 270]):\n",
    "            thermal_img = cv2.imread(f'Thermal/{pole_id.lower()}_{rotation}.bmp')\n",
    "            rgb_img = cv2.imread(f'RGB/{pole_id}_{rotation}.jpg')\n",
    "            thermal_img = cv2.cvtColor(thermal_img, cv2.COLOR_BGR2RGB)\n",
    "            rgb_img = cv2.cvtColor(rgb_img, cv2.COLOR_BGR2RGB)\n",
    "            axes[pole_idx, rotation_idx*2].imshow(thermal_img)\n",
    "            axes[pole_idx, rotation_idx*2+1].imshow(rgb_img)\n",
    "            axes[pole_idx, rotation_idx*2+1].set_xticks([])\n",
    "            axes[pole_idx, rotation_idx*2+1].set_yticks([])\n",
    "\n",
    "    fig.suptitle('Thermal Vs. RGB')\n",
    "\n",
    "    [axes[0,i*2].set_title(f'{i*90} degrees') for i in range(4)]\n",
    "\n",
    "    [axes[i,0].set_ylabel(f'Pole {pole}\\nStatus: {pole_status[i]}\\nCause: {specific_status[i]}', labelpad=50, fontdict={'rotation':0}) for i, pole in enumerate(pole_ids)]\n",
    "\n",
    "    plt.savefig('thermal_vs_rgb.jpg')\n",
    "    \n",
    "plot_thermal_and_rgb()"
   ]
  },
  {
   "cell_type": "markdown",
   "id": "9157be20-033b-49f0-ab4f-94bc7a3df409",
   "metadata": {},
   "source": [
    "By looking at the thermal images, it can be seen that, unfortunately, no clear pole information can be extracted from them. Not only is the pole difficult to isolate from the background, but there seem to be no remarkable characteristics that can help distinguish good poles from bad poles. Only a couple of things stand out:\n",
    "\n",
    "- There are some thermal images which seem to be colder for some reason. Did the temperature of the room change, or perhaps this has actually something to do with the pole condition?\n",
    "- In a bunch of the poles, there are sudden warmer parts above. My hypothesis is that this was caused by the process of rotating the pole by using the hands, which left a mark there"
   ]
  }
 ],
 "metadata": {
  "kernelspec": {
   "display_name": "Python 3",
   "language": "python",
   "name": "python3"
  },
  "language_info": {
   "codemirror_mode": {
    "name": "ipython",
    "version": 3
   },
   "file_extension": ".py",
   "mimetype": "text/x-python",
   "name": "python",
   "nbconvert_exporter": "python",
   "pygments_lexer": "ipython3",
   "version": "3.8.17"
  }
 },
 "nbformat": 4,
 "nbformat_minor": 5
}
