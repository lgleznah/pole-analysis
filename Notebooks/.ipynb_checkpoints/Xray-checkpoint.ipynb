{
 "cells": [
  {
   "cell_type": "markdown",
   "id": "57378bbb-0819-4348-ab57-dd42477bc994",
   "metadata": {},
   "source": [
    "# X-ray analysis"
   ]
  },
  {
   "cell_type": "code",
   "execution_count": null,
   "id": "46d864ba-b083-4d4d-beff-b87056ce4e70",
   "metadata": {
    "tags": []
   },
   "outputs": [],
   "source": [
    "import large_image_viewer\n",
    "import matplotlib.pyplot as plt\n",
    "import numpy as np\n",
    "import math\n",
    "import cv2\n",
    "import pandas as pd\n",
    "\n",
    "from ipywidgets import interact\n",
    "from tqdm import tqdm\n",
    "from mpl_toolkits.mplot3d import Axes3D"
   ]
  },
  {
   "cell_type": "markdown",
   "id": "32d3216b-0f18-483e-9b09-c0bbe166a4d6",
   "metadata": {},
   "source": [
    "In this notebook, I will carry out a simple analysis of the X-ray images. The information contained in these scans can serve as a good groundtruth, as these scans allow to see the inside of the pole, thus allowing for giving an estimate of the pole's density, and thus, its strength.\n",
    "\n",
    "So far, I only have the scan of pole 5, as each scan is 38GB in size! Thus, reading this whole scan into RAM at once is virtually impossible. Thankfully, by navigating the not-so-well-documented Napari plugin documentation, I've figured out how to access this data outside of the Napari visualizer without running into RAM issues."
   ]
  },
  {
   "cell_type": "markdown",
   "id": "512c71a9-e12a-4d4d-93a3-19274204d3da",
   "metadata": {},
   "source": [
    "## Preliminary X-ray analysis"
   ]
  },
  {
   "cell_type": "code",
   "execution_count": null,
   "id": "ee9bbab8-1b71-4201-9542-582809810ed8",
   "metadata": {
    "tags": []
   },
   "outputs": [],
   "source": [
    "def show_pole(path, along):\n",
    "    dask_reader = large_image_viewer.napari_get_reader(path)(path)[0][0]\n",
    "    \n",
    "    def browse_images(reader):\n",
    "        bands = reader.shape[along]\n",
    "        def view_images(i=0):\n",
    "            img = reader[i, :, :].compute() if along==0 else (reader[:,i,:].compute() if along==1 else reader[:,:,i].compute())\n",
    "            #img = np.where(img < 14000, 0, 1)\n",
    "            plt.imshow(img, cmap='gray', interpolation='nearest', vmin=0, vmax=65535)\n",
    "            plt.title(f'X-ray frame #{i}')\n",
    "            plt.show()\n",
    "        interact(view_images, i=(0, bands - 1))\n",
    "    browse_images(dask_reader)"
   ]
  },
  {
   "cell_type": "code",
   "execution_count": null,
   "id": "f0d7f789-f8bd-47cd-993b-3a9e806f2baf",
   "metadata": {
    "tags": []
   },
   "outputs": [],
   "source": [
    "show_pole('../../Ghent Xray/Tree log 34021 - 5.tif', along=0)"
   ]
  },
  {
   "cell_type": "markdown",
   "id": "38e73ff9-87c9-4e88-9356-b6eced139837",
   "metadata": {},
   "source": [
    "## Scan reduction"
   ]
  },
  {
   "cell_type": "markdown",
   "id": "6b0d77e2-5709-4503-aaed-46e081af3f5c",
   "metadata": {},
   "source": [
    "An exploration of this pole (recall that it is pole 5) shows patterns already seen on the RGB scans of this pole: while the top part of the pole is \"relatively\" intact, the bottom part is heavily damaged by rot. It is straightforward that, the more damaged by cracks/rot a pole is, the smaller its density will be; and less density will imply less strength. Therefore, these scans are a good source for building a good groundtruth for this problem.\n",
    "\n",
    "A way of doing this is measuring how the average density of the pole changes along its vertical length, in circular slices of the pole. However, given the huge size of the scan, it is better to reduce it first."
   ]
  },
  {
   "cell_type": "code",
   "execution_count": null,
   "id": "c7c637cf-bd57-4a4c-af56-c6cf08005a5f",
   "metadata": {
    "tags": []
   },
   "outputs": [],
   "source": [
    "def reduce_dimensionality(path_or_array, factor=10):\n",
    "    if (type(path_or_array) is str):\n",
    "        reader = large_image_viewer.napari_get_reader(path_or_array)(path_or_array)[0][0]\n",
    "    \n",
    "    elif (type(path_or_array) is np.ndarray):\n",
    "        reader = path_or_array\n",
    "    \n",
    "    # Collapse along Y-axis\n",
    "    y_collapse_buffer = []\n",
    "    i = 0\n",
    "    while i < reader.shape[0]:\n",
    "        print(f'Processing Y-dimension {i}', end='\\r')\n",
    "        result = np.mean(reader[i:i+factor,:,:].compute() if type(path_or_array) is str else reader[i:i+factor,:,:], axis=0)\n",
    "        result = result.astype(np.uint16)\n",
    "        y_collapse_buffer.append(result)\n",
    "        i += factor\n",
    "    \n",
    "    y_collapse_buffer = np.stack(y_collapse_buffer, axis=0)\n",
    "    print()\n",
    "    \n",
    "    # Collapse along first horizontal axis\n",
    "    x_collapse_buffer = []\n",
    "    i = 0\n",
    "    while i < y_collapse_buffer.shape[1]:\n",
    "        print(f'Processing X-dimension {i}', end='\\r')\n",
    "        result = np.mean(y_collapse_buffer[:,i:i+factor,:], axis=1)\n",
    "        result = result.astype(np.uint16)\n",
    "        x_collapse_buffer.append(result)\n",
    "        i += factor\n",
    "        \n",
    "    x_collapse_buffer = np.stack(x_collapse_buffer, axis=1)\n",
    "    print()\n",
    "    \n",
    "        \n",
    "    # Collapse along second horizontal axis\n",
    "    z_collapse_buffer = []\n",
    "    i = 0\n",
    "    while i < x_collapse_buffer.shape[2]:\n",
    "        print(f'Processing Z-dimension {i}', end='\\r')\n",
    "        result = np.mean(x_collapse_buffer[:,:,i:i+factor], axis=2)\n",
    "        result = result.astype(np.uint16)\n",
    "        z_collapse_buffer.append(result)\n",
    "        i += factor\n",
    "        \n",
    "    z_collapse_buffer = np.stack(z_collapse_buffer, axis=2)\n",
    "        \n",
    "    return z_collapse_buffer"
   ]
  },
  {
   "cell_type": "code",
   "execution_count": null,
   "id": "79051dea-1e75-4663-a2fa-76dbdce7a595",
   "metadata": {
    "tags": []
   },
   "outputs": [],
   "source": [
    "reduced_scan_5 = reduce_dimensionality('../Data/X-ray/Tree log 34021 - 5.tif')\n",
    "with open('../Data/X-ray/pole5_reduced.npy', 'wb') as f:\n",
    "    np.save(f, reduced_scan_5)"
   ]
  },
  {
   "cell_type": "code",
   "execution_count": null,
   "id": "28cb4a6a-4537-447d-9586-c52f81859068",
   "metadata": {
    "tags": []
   },
   "outputs": [],
   "source": [
    "with open('../../Ghent Xray/pole5_reduced_10.npy', 'rb') as f:\n",
    "    reduced_scan_5 = np.load(f)"
   ]
  },
  {
   "cell_type": "code",
   "execution_count": null,
   "id": "642c97f4-a6c8-4608-bcbd-23bde1365345",
   "metadata": {
    "tags": []
   },
   "outputs": [],
   "source": [
    "more_reduced = reduce_dimensionality(reduced_scan, factor=5)"
   ]
  },
  {
   "cell_type": "code",
   "execution_count": null,
   "id": "1bec71a7-47d9-4558-b003-3528fd38511c",
   "metadata": {
    "tags": []
   },
   "outputs": [],
   "source": [
    "def browse_images(arr, along, savefile):\n",
    "    bands = arr.shape[along]\n",
    "    def view_images(i=0):\n",
    "        img = arr[i, :, :] if along==0 else (arr[:,i,:] if along==1 else arr[:,:,i])\n",
    "        plt.imshow(img, cmap='gray', interpolation='nearest', vmin=0, vmax=65535)\n",
    "        #plt.title(f'X-ray frame #{i}')\n",
    "        plt.xticks([])\n",
    "        plt.yticks([])\n",
    "        plt.savefig(savefile, bbox_inches='tight')\n",
    "        plt.show()\n",
    "    interact(view_images, i=(0, bands - 1))"
   ]
  },
  {
   "cell_type": "code",
   "execution_count": null,
   "id": "870a5635-1962-4602-bc38-477b5996adc4",
   "metadata": {
    "tags": []
   },
   "outputs": [],
   "source": [
    "browse_images(reduced_scan_5, along=0)"
   ]
  },
  {
   "cell_type": "markdown",
   "id": "8e3cd971-9533-493e-b784-296a19c541a8",
   "metadata": {},
   "source": [
    "## Proper scan analysis"
   ]
  },
  {
   "cell_type": "markdown",
   "id": "5083f1d5-1d6c-4711-913b-5d6978f83c84",
   "metadata": {},
   "source": [
    "Now that the dimensionality has been properly reduced, it is feasible to create a plot of how the pole density changes along all the axes, by showing the cross-section area along all axes. This can help characterise the most critical aspects of each pole that might help predicting its remaining lifetime: diameter along its vertical, presence of rot, etc. All these characteristics can be reflected by these plots."
   ]
  },
  {
   "cell_type": "code",
   "execution_count": null,
   "id": "91968969-36de-4f70-89df-d3d4c5b536e7",
   "metadata": {
    "tags": []
   },
   "outputs": [],
   "source": [
    "def get_density_along_axes(arr, norm=False):\n",
    "    densities_y = []\n",
    "    densities_x = []\n",
    "    densities_z = []\n",
    "    \n",
    "    # Vertical axis\n",
    "    for idx in range(arr.shape[0]):\n",
    "        img = arr[idx, :, :]\n",
    "        densities_y.append(np.mean(img))\n",
    "        \n",
    "    # First horizontal axis\n",
    "    for idx in range(arr.shape[1]):\n",
    "        img = arr[:, idx, :]\n",
    "        densities_x.append(np.mean(img))\n",
    "        \n",
    "    # Second horizontal axis\n",
    "    for idx in range(arr.shape[2]):\n",
    "        img = arr[:, :, idx]\n",
    "        densities_z.append(np.mean(img))\n",
    "        \n",
    "    # Normalize sizes of the arrays\n",
    "    if norm:\n",
    "        densities_y = cv2.resize(np.array([densities_y], dtype=np.float32), dsize=(200,1))[0]\n",
    "        densities_x = cv2.resize(np.array([densities_x], dtype=np.float32), dsize=(200,1))[0]\n",
    "        densities_z = cv2.resize(np.array([densities_z], dtype=np.float32), dsize=(200,1))[0]\n",
    "    \n",
    "    # Trim first and last slices to remove background effects\n",
    "    return (densities_y[1:-1], densities_x[1:-1], densities_z[1:-1])"
   ]
  },
  {
   "cell_type": "code",
   "execution_count": null,
   "id": "4c8b6da8-2b1a-4f77-8585-58e9f3e0c839",
   "metadata": {
    "tags": []
   },
   "outputs": [],
   "source": [
    "densities_y, densities_x, densities_z = get_density_along_axes(reduced_scan)"
   ]
  },
  {
   "cell_type": "code",
   "execution_count": null,
   "id": "8fc65a52-f975-4578-9ff9-3fde4d593b7c",
   "metadata": {
    "tags": []
   },
   "outputs": [],
   "source": [
    "plt.plot(range(len(densities_y)), densities_y)\n",
    "plt.title('Cross-section area along Y axis')\n",
    "plt.xlabel('Y-coordinate (top to bottom)')\n",
    "plt.ylabel('Average density (unitless)')\n",
    "plt.annotate('Rot begins here', xy=(270,15500), xytext=(330,15750), arrowprops=dict(facecolor='black', shrink=0.1))\n",
    "plt.savefig('../Figures/Xray_Y.png')"
   ]
  },
  {
   "cell_type": "code",
   "execution_count": null,
   "id": "fae175bf-8bc7-4b63-84d6-e135f64e95f9",
   "metadata": {
    "tags": []
   },
   "outputs": [],
   "source": [
    "plt.plot(range(len(densities_x)), densities_x, label='X axis')\n",
    "plt.plot(range(len(densities_z)), densities_z, label='Z axis')\n",
    "plt.title('Cross-section area along X and Z axes')\n",
    "plt.xlabel('X/Z-coordinate')\n",
    "plt.ylabel('Average density (unitless)')\n",
    "plt.legend()\n",
    "plt.savefig('../Figures/Xray_XZ.png')"
   ]
  },
  {
   "cell_type": "markdown",
   "id": "c38cf86f-1af4-48a3-951a-e3ba3b8c0119",
   "metadata": {},
   "source": [
    "From these plots, some key insights can be deduced:\n",
    "- First, the Y axis plot confirms what can be seen from a visual inspection of pole: the density on the top part of the pole is relatively good, but on the bottom part the density has a sudden drop. This is due to the presence of rot in this part of the pole, even though it would be difficult to ascertain with the X-ray scan alone that this density drop is due to rot.\n",
    "- Second, the X and Z axes scans show that the pole seems to be very symmetric on both axes, as both plots closely follow each other. These plots also show that the pole doesn't seem to be hollow on the inside, as in this case, the expected result would have been a sudden drop around the center of the plot.\n",
    "\n",
    "Therefore, it can be seen that these scans can serve as a good groundtruth source for estimating the status of a pole. However, this data is still a groundtruth too big for proper prediction. From all the knowledge I have gathered so far, there are some factors to have into account:\n",
    "- The bottom of the pole is much more influential than the top to determine its status, as it has to support much more weight.\n",
    "- Hollow poles should have sudden density drops in the X and Z axes. I can't confirm this with pole 5, so I'll ask for the pole 30 scan later."
   ]
  },
  {
   "cell_type": "markdown",
   "id": "048e14d5-bf31-476b-9a33-94d2caffc93b",
   "metadata": {},
   "source": [
    "## Going polar: analysing the pole in polar coordinates"
   ]
  },
  {
   "cell_type": "markdown",
   "id": "1c9e76d4-0415-4aa7-948f-7d4707811f89",
   "metadata": {},
   "source": [
    "Before settling on a definitive groundtruth, however, it is a good idea to also look at the unrolled version of the pole, in polar coordinates. Polar, because it is for the pole 🙂"
   ]
  },
  {
   "cell_type": "code",
   "execution_count": null,
   "id": "e5e27a34-c6f2-443d-a83b-e7d4479b2eaf",
   "metadata": {
    "tags": []
   },
   "outputs": [],
   "source": [
    "# Convert the scan from cartesian coordinates to polar coordinates\n",
    "def scan_to_polar(scan_data, radius, angle_samples, integration_interval):\n",
    "    result = np.zeros(shape=(scan_data.shape[0], angle_samples))\n",
    "    center_x, center_z = scan_data.shape[1] // 2, scan_data.shape[2] // 2\n",
    "    integration_samples = math.ceil(radius * integration_interval[1] - radius * integration_interval[0])\n",
    "    \n",
    "    # For each height slice and angle sample, integrate \"integration_samples\" value in the \"integration_interval\" part of the radius\n",
    "    for vertical_slice in range(scan_data.shape[0]):\n",
    "        for angle_sample in range(angle_samples):\n",
    "            # Get X and Y coordinates of the limits of the sample circle\n",
    "            angle = (angle_sample / angle_samples) * 2 * math.pi\n",
    "            x_limit_sample = radius * math.cos(angle)\n",
    "            z_limit_sample = radius * -math.sin(angle)\n",
    "            \n",
    "            accumulator = 0\n",
    "            for radius_factor in np.linspace(integration_interval[0], integration_interval[1], integration_samples):\n",
    "                x_sample = int(center_x + x_limit_sample * radius_factor)\n",
    "                z_sample = int(center_z + z_limit_sample * radius_factor)\n",
    "                accumulator += scan_data[vertical_slice, x_sample, z_sample]\n",
    "            \n",
    "            result[vertical_slice, angle_sample] = accumulator / integration_samples\n",
    "    \n",
    "    return result"
   ]
  },
  {
   "cell_type": "code",
   "execution_count": null,
   "id": "1ceea5b6-d819-422a-a7d7-b61cc81eabc9",
   "metadata": {
    "tags": []
   },
   "outputs": [],
   "source": [
    "result_surface = scan_to_polar(reduced_scan, 75, 1000, (0.90, 1))"
   ]
  },
  {
   "cell_type": "code",
   "execution_count": null,
   "id": "e62eda1c-c1a4-4b2b-b6dc-a6c0cf0503ad",
   "metadata": {
    "tags": []
   },
   "outputs": [],
   "source": [
    "plt.xlabel(\"Angle (radians)\")\n",
    "plt.xticks([0,500,999], [\"0\", \"$\\pi$\", \"$2\\pi$\"])\n",
    "plt.ylabel(\"Y-coordinate\")\n",
    "plt.imshow(result_surface, cmap='gray', vmin=0, vmax=32000)\n",
    "plt.title(\"Pole surface unrolling\");\n",
    "plt.savefig('../Figures/Xray_unroll_surface.png')"
   ]
  },
  {
   "cell_type": "code",
   "execution_count": null,
   "id": "a4715765-011e-4f41-9336-df2e257b3555",
   "metadata": {
    "tags": []
   },
   "outputs": [],
   "source": [
    "result_interior = scan_to_polar(reduced_scan, 75, 1000, (0, 0.5))"
   ]
  },
  {
   "cell_type": "code",
   "execution_count": null,
   "id": "b5380f67-7cb8-4f24-9df8-a89a9e8127e3",
   "metadata": {
    "tags": []
   },
   "outputs": [],
   "source": [
    "plt.xlabel(\"Angle (radians)\")\n",
    "plt.xticks([0,500,999], [\"0\", \"$\\pi$\", \"$2\\pi$\"])\n",
    "plt.ylabel(\"Y-coordinate\")\n",
    "plt.imshow(result_interior, cmap='gray', vmin=0, vmax=32000)\n",
    "plt.title(\"Pole interior unrolling\");\n",
    "plt.savefig('../Figures/Xray_unroll_interior.png')"
   ]
  },
  {
   "cell_type": "code",
   "execution_count": null,
   "id": "b92b787d-a5e7-4e14-9ac6-6b55c174586f",
   "metadata": {
    "tags": []
   },
   "outputs": [],
   "source": [
    "fig, axes = plt.subplots(nrows=10, figsize=(10,100))\n",
    "\n",
    "for i in range(10):\n",
    "    result = scan_to_polar(reduced_scan, 75, 1000, (i*0.1, (i+1)*0.1))\n",
    "    axes[i].set_xlabel(\"Angle (radians)\")\n",
    "    axes[i].set_xticks([0,500,999], [\"0\", \"$\\pi$\", \"$2\\pi$\"])\n",
    "    axes[i].set_ylabel(\"Y-coordinate\")\n",
    "    axes[i].title.set_text(f\"Pole interior unrolling from {i*10}% to {(i+1)*10}% of its radius\")\n",
    "    axes[i].imshow(result, cmap='gray', vmin=0, vmax=32000)"
   ]
  },
  {
   "cell_type": "markdown",
   "id": "a9560bc6-e92c-433d-89e1-63956de6f138",
   "metadata": {},
   "source": [
    "## Pole 30: internal rot characterisation"
   ]
  },
  {
   "cell_type": "markdown",
   "id": "f5081656-4465-4b25-b879-07f36d93ff6c",
   "metadata": {},
   "source": [
    "With the X-ray scan of pole 30 now available, it should now be possible to figure out whether these scans can serve for characterising internal rot!"
   ]
  },
  {
   "cell_type": "code",
   "execution_count": null,
   "id": "c3e5aa69-de5b-46a1-90d6-07c5aab8abd9",
   "metadata": {},
   "outputs": [],
   "source": [
    "show_pole('../../Ghent Xray/Tree log 34023 - 30.tif', along=0)"
   ]
  },
  {
   "cell_type": "code",
   "execution_count": null,
   "id": "e5048f1b-88db-4dc1-b0db-3452b608140f",
   "metadata": {
    "tags": []
   },
   "outputs": [],
   "source": [
    "reduced_scan_30 = reduce_dimensionality('../../Ghent Xray/Tree log 34023 - 30.tif')\n",
    "with open('../../Ghent Xray/pole30_reduced_10.npy', 'wb') as f:\n",
    "    np.save(f, reduced_scan_30)"
   ]
  },
  {
   "cell_type": "code",
   "execution_count": null,
   "id": "7cd98033-580f-42e5-ab55-709ada40aa30",
   "metadata": {
    "tags": []
   },
   "outputs": [],
   "source": [
    "with open('../../Ghent Xray/pole30_reduced_10.npy', 'rb') as f:\n",
    "    reduced_scan_30 = np.load(f)"
   ]
  },
  {
   "cell_type": "code",
   "execution_count": null,
   "id": "fc498a84-2e9c-4cbb-bdd4-29c4dacdf10c",
   "metadata": {
    "tags": []
   },
   "outputs": [],
   "source": [
    "browse_images(reduced_scan_30, along=0)"
   ]
  },
  {
   "cell_type": "markdown",
   "id": "c3367802-d101-413c-af4d-dcf8e3a5f9af",
   "metadata": {},
   "source": [
    "As it can be seen in this downsampled version of the scans, pole 30 presents characteristics that differ from pole 5, and these are due to internal rot. While the surface of the pole seems relatively OK, the interior is severely damaged by rot. This kind of damage is dangerous, as it not only affects the pole's strength, but it is also much harder to detect than external rot or external cracks.\n",
    "\n",
    "Still, it is good to obtain the same plots as before, to see if the previously proposed groundtruth idea might serve for this. Now that there is data for two different poles, it is possible to compare them and check their respective density curves."
   ]
  },
  {
   "cell_type": "code",
   "execution_count": null,
   "id": "5fbfaa61-cf48-41de-9cad-426306ebbed2",
   "metadata": {
    "tags": []
   },
   "outputs": [],
   "source": [
    "densities_y_5, densities_x_5, densities_z_5 = get_density_along_axes(reduced_scan_5)\n",
    "densities_y_30, densities_x_30, densities_z_30 = get_density_along_axes(reduced_scan_30)"
   ]
  },
  {
   "cell_type": "code",
   "execution_count": null,
   "id": "5c707a43-28c8-4cbd-b47d-553702aa538c",
   "metadata": {
    "tags": []
   },
   "outputs": [],
   "source": [
    "plt.plot(range(len(densities_y_5)), densities_y_5, label='Pole 5, external rot')\n",
    "plt.plot(range(len(densities_y_30)), densities_y_30, label='Pole 30, internal rot')\n",
    "plt.title('Cross-section area along Y axis')\n",
    "plt.xlabel('Y-coordinate (top to bottom)')\n",
    "plt.ylabel('Average density (unitless)')\n",
    "plt.annotate('Rot begins here', xy=(270,15500), xytext=(230,16000), arrowprops=dict(facecolor='black', arrowstyle='->'))\n",
    "plt.legend()\n",
    "plt.savefig('../Figures/Xray_Y.png')"
   ]
  },
  {
   "cell_type": "markdown",
   "id": "674c52ac-e410-4316-9fa7-19ae0a21b41a",
   "metadata": {},
   "source": [
    "This plots show very important insights about the poles. By comparing the density curves of both poles side to side, it is possible to see how these are different. While pole 5 begins with a high density that decays gradually due to external rot in the bottom part, pole 30 already begins at low density and shows little variance, due to internal rot all along the pole."
   ]
  },
  {
   "cell_type": "code",
   "execution_count": null,
   "id": "bd23c69e-b2a7-4148-9d03-b831c675ba1f",
   "metadata": {
    "tags": []
   },
   "outputs": [],
   "source": [
    "fig, axes = plt.subplots(ncols=2, figsize=(13,5))\n",
    "axes[0].plot(range(len(densities_x_5)), densities_x_5, label='X axis, pole 5')\n",
    "axes[0].plot(range(len(densities_z_5)), densities_z_5, label='Z axis, pole 5')\n",
    "axes[1].plot(range(len(densities_x_30)), densities_x_30, label='X axis, pole 30')\n",
    "axes[1].plot(range(len(densities_z_30)), densities_z_30, label='Z axis, pole 30')\n",
    "fig.suptitle('Cross-section area along X and Z axes')\n",
    "axes[0].set_xlabel('X/Z-coordinate')\n",
    "axes[1].set_xlabel('X/Z-coordinate')\n",
    "axes[0].set_ylabel('Average density (unitless)')\n",
    "axes[0].legend()\n",
    "axes[1].legend()\n",
    "axes[0].title.set_text('Pole 5')\n",
    "axes[1].title.set_text('Pole 30')\n",
    "plt.savefig('../Figures/Xray_XZ.png')"
   ]
  },
  {
   "cell_type": "markdown",
   "id": "ecbed77b-a3d0-4fc4-9c58-2068c1f52767",
   "metadata": {},
   "source": [
    "By comparing the plots of the density curves along the horizontal axes, further distinctive charactersitics can be seen in these poles:\n",
    "- The density curves for pole 5 are almost sine-wave like, and both curves follow each other very closely. Since there are no drops in the middle on the curve, this indicates the interior is relatively intact, and the pole has a good level of density symmetry on both axes.\n",
    "- The density curves for pole 30 are only very loosely sine-wave shaped, as they have lots of drops in the middle part. In addition, these curves have very different shapes, indicating that the pole density is assymetrical on both horizontal axes. These characteristics indicate that the pole seems to have holes inside, and these are not symmetrical.\n",
    "\n",
    "As it was done with pole 5, it is also interesting to analyze the insides of pole 30, to see if surface characteristics and internal rot can be characterized separately."
   ]
  },
  {
   "cell_type": "code",
   "execution_count": null,
   "id": "fd6bb6d4-7686-4164-8637-ea8b2245ba7c",
   "metadata": {
    "tags": []
   },
   "outputs": [],
   "source": [
    "result_surface = scan_to_polar(reduced_scan_30, 75, 1000, (0.90, 1))\n",
    "result_interior = scan_to_polar(reduced_scan_30, 75, 1000, (0, 0.5))"
   ]
  },
  {
   "cell_type": "code",
   "execution_count": null,
   "id": "687ad233-a162-4096-8efd-a72c2fcce926",
   "metadata": {
    "tags": []
   },
   "outputs": [],
   "source": [
    "plt.xlabel(\"Angle (radians)\")\n",
    "plt.xticks([0,500,999], [\"0\", \"$\\pi$\", \"$2\\pi$\"])\n",
    "plt.ylabel(\"Y-coordinate\")\n",
    "plt.imshow(result_surface, cmap='gray', vmin=0, vmax=32000)\n",
    "plt.title(\"Pole surface unrolling\");\n",
    "plt.savefig('../Figures/Xray_unroll_surface_30.png')"
   ]
  },
  {
   "cell_type": "code",
   "execution_count": null,
   "id": "da99d335-cbbb-4956-a9cd-75241bd60c54",
   "metadata": {
    "tags": []
   },
   "outputs": [],
   "source": [
    "plt.xlabel(\"Angle (radians)\")\n",
    "plt.xticks([0,500,999], [\"0\", \"$\\pi$\", \"$2\\pi$\"])\n",
    "plt.ylabel(\"Y-coordinate\")\n",
    "plt.imshow(result_interior, cmap='gray', vmin=0, vmax=32000)\n",
    "plt.title(\"Pole interior unrolling\");\n",
    "plt.savefig('../Figures/Xray_unroll_interior_30.png')"
   ]
  },
  {
   "cell_type": "code",
   "execution_count": null,
   "id": "45abab30-969b-48be-a9bf-b287bd8f4042",
   "metadata": {
    "tags": []
   },
   "outputs": [],
   "source": [
    "fig, axes = plt.subplots(nrows=10, figsize=(10,100))\n",
    "\n",
    "for i in range(10):\n",
    "    result = scan_to_polar(reduced_scan_30, 75, 1000, (i*0.1, (i+1)*0.1))\n",
    "    axes[i].set_xlabel(\"Angle (radians)\")\n",
    "    axes[i].set_xticks([0,500,999], [\"0\", \"$\\pi$\", \"$2\\pi$\"])\n",
    "    axes[i].set_ylabel(\"Y-coordinate\")\n",
    "    axes[i].title.set_text(f\"Pole interior unrolling from {i*10}% to {(i+1)*10}% of its radius\")\n",
    "    axes[i].imshow(result, cmap='gray', vmin=0, vmax=32000)"
   ]
  },
  {
   "cell_type": "markdown",
   "id": "81016ff9-33c6-4f23-b8ac-49145bee7eed",
   "metadata": {},
   "source": [
    "As it can be seen in these scans, this first proposal of polar unrolling for creating a proper groundtruth still needs some refinement. As it can be seen, the current interior scan is not able to capture the real amount of hollowness inside the pole. Therefore, a better idea could be dividing the radius in thirds, thus obtaining unrollings for the surface third, the middle third, and the core third."
   ]
  },
  {
   "cell_type": "markdown",
   "id": "e41882e5-cbff-465b-8aef-56ba84e42361",
   "metadata": {},
   "source": [
    "## Groundtruth proposal: thirds"
   ]
  },
  {
   "cell_type": "code",
   "execution_count": null,
   "id": "01738c17-1f57-44fd-ab68-bfcb2c7efbff",
   "metadata": {
    "tags": []
   },
   "outputs": [],
   "source": [
    "def polar_thirds(scan, pole_id):\n",
    "    fig, axes = plt.subplots(ncols=3, figsize=(21,7))\n",
    "    result_surface = scan_to_polar(scan, 75, 1000, (0.66, 1))\n",
    "    result_middle = scan_to_polar(scan, 75, 1000, (0.33, 0.66))\n",
    "    result_interior = scan_to_polar(scan, 75, 1000, (0, 0.33))\n",
    "    \n",
    "    axes[0].set_xlabel(\"Angle (radians)\")\n",
    "    axes[1].set_xlabel(\"Angle (radians)\")\n",
    "    axes[2].set_xlabel(\"Angle (radians)\")\n",
    "    axes[0].set_xticks([0,500,999], [\"0\", \"$\\pi$\", \"$2\\pi$\"])\n",
    "    axes[1].set_xticks([0,500,999], [\"0\", \"$\\pi$\", \"$2\\pi$\"])\n",
    "    axes[2].set_xticks([0,500,999], [\"0\", \"$\\pi$\", \"$2\\pi$\"])\n",
    "    axes[0].set_ylabel(\"Y-coordinate\")\n",
    "    axes[0].imshow(result_surface, cmap='gray', vmin=0, vmax=32000)\n",
    "    axes[1].imshow(result_middle, cmap='gray', vmin=0, vmax=32000)\n",
    "    axes[2].imshow(result_interior, cmap='gray', vmin=0, vmax=32000)\n",
    "    axes[0].title.set_text(\"Pole surface unrolling\")\n",
    "    axes[1].title.set_text(\"Pole middle unrolling\")\n",
    "    axes[2].title.set_text(\"Pole interior unrolling\")\n",
    "    \n",
    "    fig.suptitle(f'Pole {pole_id}')"
   ]
  },
  {
   "cell_type": "code",
   "execution_count": null,
   "id": "5dafe6a7-c538-43d8-8660-73fe6e33a167",
   "metadata": {
    "tags": []
   },
   "outputs": [],
   "source": [
    "polar_thirds(reduced_scan_5, 5)"
   ]
  },
  {
   "cell_type": "code",
   "execution_count": null,
   "id": "ec6f416b-8bfc-4c2a-9cb4-964009a447ec",
   "metadata": {
    "tags": []
   },
   "outputs": [],
   "source": [
    "polar_thirds(reduced_scan_30, 30)"
   ]
  },
  {
   "cell_type": "markdown",
   "id": "3e2f8ee7-cd91-4749-9591-7e1021eed6e2",
   "metadata": {},
   "source": [
    "As it can be seen, differences can now be seen between the two poles:\n",
    "- Regarding the pole interior, both seem to be in a similar state.\n",
    "- Regarding the surface, it can be seen that pole 5 is in worse state than the surface of pole 30.\n",
    "- Regarding the middle, it can clearly be seen that pole 30 has much less density that pole 5, due to its internal rot."
   ]
  },
  {
   "cell_type": "markdown",
   "id": "f4007644-4d6b-41c6-81a3-bb85a44943d7",
   "metadata": {},
   "source": [
    "## All together: X-ray scans of the 5 poles."
   ]
  },
  {
   "cell_type": "markdown",
   "id": "1450c3f9-886a-4556-aa20-b0926a2b0977",
   "metadata": {},
   "source": [
    "Now that the X-ray scans of the 5 poles are all available, it is a good idea to compare all these at once, to see how poles differ among themselves"
   ]
  },
  {
   "cell_type": "markdown",
   "id": "c4ca491a-eac7-440a-a309-01fd095437dd",
   "metadata": {},
   "source": [
    "### New poles downsampling"
   ]
  },
  {
   "cell_type": "code",
   "execution_count": null,
   "id": "6807936c-c871-4207-8d50-bc16d509c483",
   "metadata": {
    "tags": []
   },
   "outputs": [],
   "source": [
    "reduced_scan_6 = reduce_dimensionality('../../Ghent Xray/Tree log 34021 - 6.tif')\n",
    "with open('../../Ghent Xray/pole6_reduced_10.npy', 'wb') as f:\n",
    "    np.save(f, reduced_scan_6)\n",
    "    \n",
    "reduced_scan_ny = reduce_dimensionality('../../Ghent Xray/NY Stolpe - AEN 20201013.tif')\n",
    "with open('../../Ghent Xray/poleny_reduced_10.npy', 'wb') as f:\n",
    "    np.save(f, reduced_scan_ny)\n",
    "    \n",
    "reduced_scan_41 = reduce_dimensionality('../../Ghent Xray/Tree log 01337 - 41.tif')\n",
    "with open('../../Ghent Xray/pole41_reduced_10.npy', 'wb') as f:\n",
    "    np.save(f, reduced_scan_41)"
   ]
  },
  {
   "cell_type": "code",
   "execution_count": null,
   "id": "44a28972-f7cc-4065-9104-e5ea2238a172",
   "metadata": {
    "tags": []
   },
   "outputs": [],
   "source": [
    "with open('../../Ghent Xray/pole5_reduced_10.npy', 'rb') as f:\n",
    "    reduced_scan_5 = np.load(f)\n",
    "    \n",
    "with open('../../Ghent Xray/pole30_reduced_10.npy', 'rb') as f:\n",
    "    reduced_scan_30 = np.load(f)\n",
    "    \n",
    "with open('../../Ghent Xray/pole6_reduced_10.npy', 'rb') as f:\n",
    "    reduced_scan_6 = np.load(f)\n",
    "    \n",
    "with open('../../Ghent Xray/pole41_reduced_10.npy', 'rb') as f:\n",
    "    reduced_scan_41 = np.load(f)\n",
    "    \n",
    "with open('../../Ghent Xray/poleny_reduced_10.npy', 'rb') as f:\n",
    "    reduced_scan_ny = np.load(f)"
   ]
  },
  {
   "cell_type": "code",
   "execution_count": null,
   "id": "919b374d-7aa3-4d12-89a0-e7b2e70998f6",
   "metadata": {
    "tags": []
   },
   "outputs": [],
   "source": [
    "browse_images(reduced_scan_ny, 1, \"xray-ny.png\")"
   ]
  },
  {
   "cell_type": "markdown",
   "id": "da3a5e4b-ee0c-4935-ad96-a0c120a9122e",
   "metadata": {},
   "source": [
    "### Density curves of all poles"
   ]
  },
  {
   "cell_type": "markdown",
   "id": "89a6b50d-e507-413a-bb73-325892f920d6",
   "metadata": {},
   "source": [
    "With these downsampled scans, it is now possible to plot all density curves at once"
   ]
  },
  {
   "cell_type": "code",
   "execution_count": null,
   "id": "9b8c95f1-cf1e-47ee-84ca-f8a990fffa0d",
   "metadata": {
    "tags": []
   },
   "outputs": [],
   "source": [
    "def plot_density_curves_vertical(scans, ids):\n",
    "    fig, axes = plt.subplots(figsize=(7, 7))\n",
    "    \n",
    "    for idx, (scan, pole_id) in enumerate(zip(scans, ids)):\n",
    "        densities_y, densities_x, densities_z = get_density_along_axes(scan, norm=True)\n",
    "        axes.plot(range(len(densities_y)), densities_y, label=f'Pole {pole_id}')\n",
    "        axes.set_xlabel('Y-coordinate (top to bottom)')\n",
    "\n",
    "    axes.set_ylabel('Average density (unitless)')\n",
    "    fig.suptitle('Cross-section density along Y axis')\n",
    "    axes.legend()\n",
    "    fig.savefig('../Figures/Xray_vertical_densities.png')\n",
    "    \n",
    "def plot_density_curves_horizontal(scans, ids):\n",
    "    fig, axes = plt.subplots(ncols=len(scans), figsize=(7*len(scans), 7))\n",
    "    \n",
    "    for idx, (scan, pole_id) in enumerate(zip(scans, ids)):\n",
    "        densities_y, densities_x, densities_z = get_density_along_axes(scan, norm=False)\n",
    "        axes[idx].plot(range(len(densities_x)), densities_x, label='X axis')\n",
    "        axes[idx].plot(range(len(densities_z)), densities_z, label='Z axis')\n",
    "        axes[idx].set_xlabel('Y-coordinate (top to bottom)')\n",
    "        axes[idx].title.set_text(f'Pole {pole_id}')\n",
    "        axes[idx].set_ylim([10000,22000])\n",
    "        axes[idx].legend()\n",
    "\n",
    "    axes[0].set_ylabel('Average density (unitless)')\n",
    "    fig.suptitle('Cross-section density along horizontal axes')\n",
    "    fig.savefig('../Figures/Xray_horizontal_densities.png')"
   ]
  },
  {
   "cell_type": "code",
   "execution_count": null,
   "id": "c55ecf78-55fc-4faa-856f-0e69ab81887f",
   "metadata": {
    "tags": []
   },
   "outputs": [],
   "source": [
    "plot_density_curves_vertical([reduced_scan_ny, reduced_scan_5, reduced_scan_6, reduced_scan_30, reduced_scan_41], [\"new\", \"5\", \"6\", \"30\", \"41\"])"
   ]
  },
  {
   "cell_type": "code",
   "execution_count": null,
   "id": "d6ca1fb0-3858-4f8f-8e3c-97652a3f27d4",
   "metadata": {
    "tags": []
   },
   "outputs": [],
   "source": [
    "plot_density_curves_horizontal([reduced_scan_ny, reduced_scan_5, reduced_scan_6, reduced_scan_30, reduced_scan_41], [\"new\", \"5\", \"6\", \"30\", \"41\"])"
   ]
  },
  {
   "cell_type": "markdown",
   "id": "7dd07134-d92d-4349-b79b-7fbc21e7b0ab",
   "metadata": {},
   "source": [
    "By looking at these plots, further insights about the pole's statuses can be obtained:\n",
    "- Pole 41 is far denser than the other poles. This has been confirmed empirically, as this pole was much harder to lift than the others when LiDAR scans were obtained.\n",
    "- Even if pole 41 was previously labeled as \"containing cracks\", there is also a non-neglibigle amount of internal rot on it, as its horizontal axes plot shows. In turn, this internal rot also leads to a certain level of assymetry in its density curve.\n",
    "- As expected, the new pole has the most symmetrical horizontal density curves. Even if its density is not the largest one, it has a very stable density curve along the vertical axis. These two characteristics indicate that it is a smooth pole.\n",
    "- The horizontal density curves for pole 6 are very symmetrical. However, it has a sudden drop in its vertical density curve. This indicates that it has surface damage, which can be verified with a visual scan of both the pole and the X-ray images.\n",
    "- For some poles, there are sudden density spikes. These are actually due to the metal present in them, that appears as a very bright element in the X-ray scans."
   ]
  },
  {
   "cell_type": "markdown",
   "id": "3ba1e13d-db37-452b-ae55-733e1c786ecb",
   "metadata": {},
   "source": [
    "### Polar unrollings of all poles"
   ]
  },
  {
   "cell_type": "code",
   "execution_count": null,
   "id": "c72bdc23-8654-4518-9722-df548b36d92f",
   "metadata": {
    "tags": []
   },
   "outputs": [],
   "source": [
    "def polar_thirds_multiple(scans, ids):\n",
    "    fig, axes = plt.subplots(nrows=len(scans), ncols=3, figsize=(21,6*len(scans)))\n",
    "    polar_unrolls = {}\n",
    "    \n",
    "    for idx, (scan, pole_id) in enumerate(zip(scans, ids)):\n",
    "        result_surface = scan_to_polar(scan, 75, 1000, (0.66, 1))\n",
    "        result_middle = scan_to_polar(scan, 75, 1000, (0.33, 0.66))\n",
    "        result_interior = scan_to_polar(scan, 75, 1000, (0, 0.33))\n",
    "\n",
    "        axes[idx,0].set_xlabel(\"Angle (radians)\")\n",
    "        axes[idx,1].set_xlabel(\"Angle (radians)\")\n",
    "        axes[idx,2].set_xlabel(\"Angle (radians)\")\n",
    "        axes[idx,0].set_xticks([0,500,999], [\"0\", \"$\\pi$\", \"$2\\pi$\"])\n",
    "        axes[idx,1].set_xticks([0,500,999], [\"0\", \"$\\pi$\", \"$2\\pi$\"])\n",
    "        axes[idx,2].set_xticks([0,500,999], [\"0\", \"$\\pi$\", \"$2\\pi$\"])\n",
    "        axes[idx,0].set_ylabel(\"Y-coordinate\")\n",
    "        axes[idx,0].imshow(result_surface, cmap='gray', vmin=0, vmax=32000)\n",
    "        axes[idx,1].imshow(result_middle, cmap='gray', vmin=0, vmax=32000)\n",
    "        axes[idx,2].imshow(result_interior, cmap='gray', vmin=0, vmax=32000)\n",
    "        axes[idx,0].title.set_text(f\"Pole {pole_id} surface unrolling\")\n",
    "        axes[idx,1].title.set_text(f\"Pole {pole_id} middle unrolling\")\n",
    "        axes[idx,2].title.set_text(f\"Pole {pole_id} interior unrolling\")\n",
    "        \n",
    "        polar_unrolls[pole_id] = [result_surface, result_middle, result_interior]\n",
    "    \n",
    "    plt.tight_layout()   \n",
    "    plt.savefig('../Figures/Xray_unroll_all.png')\n",
    "    return polar_unrolls"
   ]
  },
  {
   "cell_type": "code",
   "execution_count": null,
   "id": "685a7761-ddc4-404e-afb4-b070cf49e68b",
   "metadata": {
    "tags": []
   },
   "outputs": [],
   "source": [
    "polar_gts = polar_thirds_multiple([reduced_scan_ny, reduced_scan_5, reduced_scan_6, reduced_scan_30, reduced_scan_41], [\"new\", \"5\", \"6\", \"30\", \"41\"])"
   ]
  },
  {
   "cell_type": "markdown",
   "id": "94e65800-2262-44ff-ba27-66e885bfb8eb",
   "metadata": {},
   "source": [
    "Thanks to these polar unrolling plots, it is now possible to see more differences between all the poles that, hopefully, will allow to establish a better groundtruth. These are:\n",
    "- In the new pole, there are no remarkable characteristics in any of the unrolls. The pole looks OK on both its surface, middle and interior areas.\n",
    "- In pole 5, the external damage due to rot is clearly visible on the surface unrolling plot. There is not a great amount of damage on the middle and interior areas, though.\n",
    "- In pole 6, something similar to pole 5 can be seen, as there is also external damage, but not as extreme as that of pole 5. Furthermore, pole 6 is also less dense than 5.\n",
    "- For pole 30, heavy damage can be seen, both on its external and middle layers, due to cracks and rot.\n",
    "- For pole 41, just some internal rot can be seen, as its cracks don't seem to be extremely worrying.\n",
    "\n",
    "Thus, there are clear distinctions between each of the 5 poles. Based on all the data I have analysed so far, I have two hypotheses:\n",
    "- Based on density and damages, the proper ordering of the poles could be, from better to worse: New > 41 > 6 > 5 > 30\n",
    "- Even if a single pole could be considered an observational unit by itself, it is clear that the topmost part of the pole will have a different nature than the bottom, as the latter has to support the whole weight of the pole. Therefore, my idea is to treat the pole differently depending on its height, thus dividing the pole into many observational units: slices of the pole along its vertical axis. In the observed data (pictures, scans), each slice could be used to predict the status of its corresponding X-ray groundtruth slice."
   ]
  },
  {
   "cell_type": "markdown",
   "id": "aa5eac16-18c4-4656-a553-a73c07a7651d",
   "metadata": {},
   "source": [
    "## Another groundtruth proposal: thirds + slices"
   ]
  },
  {
   "cell_type": "markdown",
   "id": "27e13478-23e7-4954-83f1-ba1be05d3ab2",
   "metadata": {},
   "source": [
    "Taking these thirds scans as starting point, it should be easy to create this new groundtruth. However, outliers (metal reflections) should be removed first, and replaced by, for example, the scan mean."
   ]
  },
  {
   "cell_type": "code",
   "execution_count": null,
   "id": "8da040df-b880-45c0-a9ef-3faf165f9dc8",
   "metadata": {
    "tags": []
   },
   "outputs": [],
   "source": [
    "test_pole = polar_gts['new'][2]\n",
    "test_pole_mean = np.mean(test_pole)\n",
    "test_pole_clean = np.where(test_pole > 25000, test_pole_mean, test_pole)\n",
    "plt.imshow(test_pole_clean, cmap='gray', vmin=0, vmax=32000)"
   ]
  },
  {
   "cell_type": "markdown",
   "id": "d9743b51-8bfc-4417-ad75-531778cb4a04",
   "metadata": {},
   "source": [
    "By performing a visual analysis, it can be seen that a threshold of 25000 removes most of the metal X-ray artifacts. Therefore, the images will be cleaned this way.\n",
    "\n",
    "With the images unrolled by thirds, it is now a good idea to plot how the density changes along the vertical axis for each pole and unroll."
   ]
  },
  {
   "cell_type": "code",
   "execution_count": null,
   "id": "49bfa3c3-0941-454e-bf92-1af2bbf46c47",
   "metadata": {
    "tags": []
   },
   "outputs": [],
   "source": [
    "def plot_density_thirds(unrolls, final_size=None):\n",
    "    fig, axes = plt.subplots(ncols=len(unrolls), figsize=(5*len(unrolls),5))\n",
    "    result_dict = {\n",
    "        'pole_id': [],\n",
    "        'height_id': [],\n",
    "        'surface_density': [],\n",
    "        'middle_density': [],\n",
    "        'interior_density': []\n",
    "    }\n",
    "    \n",
    "    for idx, unroll in enumerate(unrolls):\n",
    "        # Remove outliers\n",
    "        unroll_mean_sur = np.mean(unrolls[unroll][0])\n",
    "        unroll_mean_mid = np.mean(unrolls[unroll][1])\n",
    "        unroll_mean_int = np.mean(unrolls[unroll][2])\n",
    "        unroll_clean_sur = np.where(unrolls[unroll][0] > 25000, unroll_mean_sur, unrolls[unroll][0])\n",
    "        unroll_clean_mid = np.where(unrolls[unroll][1] > 25000, unroll_mean_mid, unrolls[unroll][1])\n",
    "        unroll_clean_int = np.where(unrolls[unroll][2] > 25000, unroll_mean_int, unrolls[unroll][2])\n",
    "        vertical_mean_sur = np.mean(unroll_clean_sur, axis=1)\n",
    "        vertical_mean_mid = np.mean(unroll_clean_mid, axis=1)        \n",
    "        vertical_mean_int = np.mean(unroll_clean_int, axis=1)\n",
    "        \n",
    "        # Downsample density plots if a downsample value is given\n",
    "        if final_size:\n",
    "            vertical_mean_sur = cv2.resize(np.array([vertical_mean_sur], dtype=np.float32), dsize=(final_size,1))[0]\n",
    "            vertical_mean_mid = cv2.resize(np.array([vertical_mean_mid], dtype=np.float32), dsize=(final_size,1))[0]\n",
    "            vertical_mean_int = cv2.resize(np.array([vertical_mean_int], dtype=np.float32), dsize=(final_size,1))[0]\n",
    "        \n",
    "        axes[idx].plot(range(len(vertical_mean_sur)), vertical_mean_sur, color='red', label='Surface')\n",
    "        axes[idx].plot(range(len(vertical_mean_mid)), vertical_mean_mid, color='green', label='Middle')\n",
    "        axes[idx].plot(range(len(vertical_mean_int)), vertical_mean_int, color='blue', label='Interior')\n",
    "        axes[idx].title.set_text(f'Pole {unroll}')\n",
    "        axes[idx].set_ylim([12500, 25000])\n",
    "        axes[idx].set_xlabel('Y-coordinate (pixels)')\n",
    "        axes[idx].legend()\n",
    "        \n",
    "        # Prepare DataFrame dict for groundtruth construction\n",
    "        pole_id = 0 if unroll=='new' else int(unroll)\n",
    "        result_dict['pole_id'] += ([pole_id] * final_size)\n",
    "        result_dict['height_id'] += list(range(final_size))\n",
    "        result_dict['surface_density'] += vertical_mean_sur.tolist()\n",
    "        result_dict['middle_density'] += vertical_mean_mid.tolist()\n",
    "        result_dict['interior_density'] += vertical_mean_int.tolist()\n",
    "    \n",
    "    axes[0].set_ylabel('Average density(unitless)')\n",
    "    fig.suptitle('Average density along vertical axis, per pole and unroll sector')\n",
    "    return result_dict"
   ]
  },
  {
   "cell_type": "code",
   "execution_count": null,
   "id": "9edb98e3-5c0f-4495-8bc8-e14aed9c6821",
   "metadata": {
    "tags": []
   },
   "outputs": [],
   "source": [
    "df_dict = plot_density_thirds(polar_gts, 10)"
   ]
  },
  {
   "cell_type": "markdown",
   "id": "4fa301f0-db57-4b3e-9025-1fbc3bd09763",
   "metadata": {},
   "source": [
    "This data can now serve as a better groundtruth than the previous scores!"
   ]
  },
  {
   "cell_type": "code",
   "execution_count": null,
   "id": "610771b6-41fb-4222-9baf-4d3be5323644",
   "metadata": {
    "tags": []
   },
   "outputs": [],
   "source": [
    "df = pd.DataFrame.from_dict(df_dict)\n",
    "df.to_csv('poles.csv', index=False)"
   ]
  },
  {
   "cell_type": "markdown",
   "id": "d0a4bbf0-c9b4-4d8c-a260-08a0e8060641",
   "metadata": {},
   "source": [
    "## [Another](https://media.tenor.com/a4yDwGZk4k4AAAAC/dj-khaled-another-one.gif) groundtruth for the surface"
   ]
  },
  {
   "cell_type": "markdown",
   "id": "5097c67c-5238-4d09-bfa0-2ee874d1341a",
   "metadata": {},
   "source": [
    "As suggested by my colleagues, I'm going to test another groundtruth value for the pole surface, also based on the polar unrolling. By going along the radius from the outside to the inside of the pole, a good way of characterising the surface would be keeping the depth of the first pixel that crosses a certain value threshold. This way, a good characterisation of the state of the surface can be obtained."
   ]
  },
  {
   "cell_type": "code",
   "execution_count": null,
   "id": "ad612b75-9184-4f57-9601-745a657801f6",
   "metadata": {
    "tags": []
   },
   "outputs": [],
   "source": [
    "# Convert the scan from cartesian coordinates to polar coordinates\n",
    "def scan_to_polar_surface(scan_data, angle_samples, intensity_threshold, crop_x, crop_z, final_size):\n",
    "    cropped_scan = scan_data[:,crop_z,crop_x]\n",
    "    result = np.zeros(shape=(cropped_scan.shape[0], angle_samples))\n",
    "    center_x, center_z = cropped_scan.shape[1] // 2, cropped_scan.shape[2] // 2\n",
    "    radius = 100\n",
    "    samples = radius\n",
    "    \n",
    "    # For each height slice and angle sample, integrate \"integration_samples\" value in the \"integration_interval\" part of the radius\n",
    "    for vertical_slice in range(cropped_scan.shape[0]):\n",
    "        for angle_sample in range(angle_samples):\n",
    "            # Get X and Y coordinates of the limits of the sample circle\n",
    "            angle = (angle_sample / angle_samples) * 2 * math.pi\n",
    "            x_limit_sample = radius * math.cos(angle)\n",
    "            z_limit_sample = radius * -math.sin(angle)\n",
    "            \n",
    "            for radius_factor in np.linspace(1, 0, samples):\n",
    "                x_sample = int(center_x + x_limit_sample * radius_factor)\n",
    "                z_sample = int(center_z + z_limit_sample * radius_factor)\n",
    "                if (not(0 <= z_sample < cropped_scan.shape[2]) or not(0 <= x_sample < cropped_scan.shape[1])):\n",
    "                    continue\n",
    "                if (cropped_scan[vertical_slice, x_sample, z_sample] > intensity_threshold):\n",
    "                    result[vertical_slice, angle_sample] = radius_factor\n",
    "                    break\n",
    "    \n",
    "    result = np.interp(result, (np.min(result),np.max(result)),(0,1))\n",
    "    result_horizontal_avg = np.mean(result, axis=1)\n",
    "    result_chunks = cv2.resize(np.array([result_horizontal_avg], dtype=np.float32), dsize=(final_size,1))[0]\n",
    "    return result, result_chunks"
   ]
  },
  {
   "cell_type": "code",
   "execution_count": null,
   "id": "56bb1458-4943-48b1-b485-3ab9ed7dc41a",
   "metadata": {
    "tags": []
   },
   "outputs": [],
   "source": [
    "# New, 5, 6, 30, 41. This is the order\n",
    "def get_surface_gts(final_size):\n",
    "    scans = [reduced_scan_ny, reduced_scan_5, reduced_scan_6, reduced_scan_30, reduced_scan_41]\n",
    "    poles_crop_z = [slice(15,150), slice(10,155), slice(0,160), slice(10,170), slice(0,180)]\n",
    "    poles_crop_x = [slice(15,160), slice(10,165), slice(5,170), slice(5,170) , slice(0,170)]\n",
    "    pole_ids = [0,5,6,30,41]\n",
    "    \n",
    "    result_dict = {\n",
    "        'pole_id': [],\n",
    "        'height_id': [],\n",
    "        'surface_depth': []\n",
    "    }\n",
    "\n",
    "    fig, axes = plt.subplots(nrows=5, figsize=(7,35))\n",
    "\n",
    "    for idx, (pole_id, scan, crop_x, crop_z) in enumerate(zip(pole_ids, scans, poles_crop_x, poles_crop_z)):\n",
    "        plot, chunks = scan_to_polar_surface(scan, 1000, 15000, crop_x, crop_z, final_size)\n",
    "        axes[idx].imshow(plot, cmap='gray')\n",
    "    \n",
    "        result_dict['pole_id'] += ([pole_id] * final_size)\n",
    "        result_dict['height_id'] += list(range(final_size))\n",
    "        result_dict['surface_depth'] += chunks.tolist()\n",
    "        \n",
    "    return result_dict"
   ]
  },
  {
   "cell_type": "code",
   "execution_count": null,
   "id": "636d5641-11cb-446b-9ba5-a5f07ee0b3d1",
   "metadata": {
    "tags": []
   },
   "outputs": [],
   "source": [
    "surface_data = get_surface_gts(10)\n",
    "#df_surf = pd.DataFrame.from_dict(surface_data)\n",
    "#df_surf.to_csv('poles_surface_depth.csv', index=False)"
   ]
  },
  {
   "cell_type": "code",
   "execution_count": null,
   "id": "ddd56fd7-3085-403a-931d-16e3d8929f1c",
   "metadata": {},
   "outputs": [],
   "source": []
  }
 ],
 "metadata": {
  "kernelspec": {
   "display_name": "Python 3 (ipykernel)",
   "language": "python",
   "name": "python3"
  },
  "language_info": {
   "codemirror_mode": {
    "name": "ipython",
    "version": 3
   },
   "file_extension": ".py",
   "mimetype": "text/x-python",
   "name": "python",
   "nbconvert_exporter": "python",
   "pygments_lexer": "ipython3",
   "version": "3.10.0"
  }
 },
 "nbformat": 4,
 "nbformat_minor": 5
}
