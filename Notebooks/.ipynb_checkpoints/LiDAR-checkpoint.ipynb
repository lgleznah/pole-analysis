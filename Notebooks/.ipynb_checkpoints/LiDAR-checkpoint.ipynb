{
 "cells": [
  {
   "cell_type": "markdown",
   "id": "6c0d929b-44b7-46cc-80a0-61e8fc65babf",
   "metadata": {},
   "source": [
    "# Near-infrared scan analysis"
   ]
  },
  {
   "cell_type": "code",
   "execution_count": null,
   "id": "59e59b88-9d1d-4ada-829e-c2fbfc0c29d8",
   "metadata": {},
   "outputs": [],
   "source": [
    "import cv2\n",
    "import matplotlib.pyplot as plt\n",
    "import numpy as np\n",
    "import os\n",
    "import PIL.Image\n",
    "import PIL.ExifTags\n",
    "import re\n",
    "\n",
    "from math import cos, sin"
   ]
  },
  {
   "cell_type": "code",
   "execution_count": null,
   "id": "88cb0cb3-7a63-436c-9b13-1792cc373005",
   "metadata": {},
   "outputs": [],
   "source": [
    "pole_ids = [0, 30, 41, 6, 5]\n",
    "rotations = [0, 90, 180, 270]\n",
    "pole_status = ['31/37', '17/24', '15/24', '12/24', '11/24']"
   ]
  },
  {
   "cell_type": "code",
   "execution_count": null,
   "id": "c6684bee-edae-4600-81f0-2324d68cabfc",
   "metadata": {},
   "outputs": [],
   "source": [
    "image = cv2.imread('LiDAR/0/2d/0/Frame_15631.intens.gray.png')\n",
    "plt.imshow(image)"
   ]
  },
  {
   "cell_type": "markdown",
   "id": "059df572-3b8c-46b3-bf3f-bfa81b58dc22",
   "metadata": {},
   "source": [
    "## EXIF data, in case there is something relevant there"
   ]
  },
  {
   "cell_type": "code",
   "execution_count": null,
   "id": "7333a621-87b3-416c-b961-d6613ce736b1",
   "metadata": {},
   "outputs": [],
   "source": [
    "def get_exif(image_path):\n",
    "    img = PIL.Image.open(image_path)\n",
    "    try:\n",
    "        exif = {\n",
    "            PIL.ExifTags.TAGS[k]: v\n",
    "            for k, v in img._getexif().items()\n",
    "            if k in PIL.ExifTags.TAGS\n",
    "        }\n",
    "        return exif\n",
    "    except AttributeError:\n",
    "        print(\"No EXIF data available!\")\n",
    "        return None"
   ]
  },
  {
   "cell_type": "code",
   "execution_count": null,
   "id": "e016dc7d-fccd-4971-928b-e49cce520577",
   "metadata": {},
   "outputs": [],
   "source": [
    "get_exif('LiDAR/0/2d/0/Frame_15631.intens.gray.png')"
   ]
  },
  {
   "cell_type": "markdown",
   "id": "693b5bc6-078c-4a71-a407-b2afd6dade0a",
   "metadata": {},
   "source": [
    "## A general look at all the NIR images"
   ]
  },
  {
   "cell_type": "markdown",
   "id": "bb427463-df05-445e-97e7-b019210014c1",
   "metadata": {},
   "source": [
    "Taking a look at all the near-infrared scan images at once might help at getting a general glimpse of some relevant patterns that might help with pole status prediction"
   ]
  },
  {
   "cell_type": "code",
   "execution_count": null,
   "id": "92105ce0-9d70-4ee3-989d-536e5e2cd0b6",
   "metadata": {},
   "outputs": [],
   "source": [
    "def plot_scans(ids, rotations):\n",
    "    fig, axes = plt.subplots(5,4,figsize=(20,20))\n",
    "    scan_regex = re.compile(r'^Frame_[0-9]+\\.intens.gray.png')\n",
    "    \n",
    "    for pole_idx, pole_id in enumerate(ids):\n",
    "        for rot_idx, rot in enumerate(rotations):\n",
    "            paths = os.listdir(f'LiDAR/{pole_id}/2d/{rot}')\n",
    "            scan_path = [path for path in paths if re.fullmatch(scan_regex, path)][0]\n",
    "            image = cv2.imread(f'LiDAR/{pole_id}/2d/{rot}/{scan_path}', cv2.IMREAD_GRAYSCALE)\n",
    "            axes[pole_idx, rot_idx].imshow(image, vmin=0, vmax=255, cmap='gray')\n",
    "            axes[0, rot_idx].set_title(f'{rot} degrees')\n",
    "        axes[pole_idx, 0].set_ylabel(f'Pole {pole_id}\\nStatus: {pole_status[pole_idx]}', labelpad=50, fontdict={'rotation':0})\n",
    "    plt.savefig('nir-grid.png')"
   ]
  },
  {
   "cell_type": "code",
   "execution_count": null,
   "id": "1fb8409a-1ea7-4653-a7a1-8ca20ca42551",
   "metadata": {},
   "outputs": [],
   "source": [
    "plot_scans(pole_ids, rotations)"
   ]
  },
  {
   "cell_type": "markdown",
   "id": "21f4bec4-23a7-4474-9fb3-7078252dbc9f",
   "metadata": {},
   "source": [
    "The most highlitable characteristic here is that, for some poles, there are random black spots. This might have to do with their status, as the new pole does not present any black area, even though pole 41 does not either."
   ]
  },
  {
   "cell_type": "markdown",
   "id": "3a8f5685-adf9-4505-8e7f-556f06bcc709",
   "metadata": {},
   "source": [
    "## Verify frame differences"
   ]
  },
  {
   "cell_type": "markdown",
   "id": "48793873-2963-4ea6-983f-c7097a66fb61",
   "metadata": {},
   "source": [
    "Since there are 5 frames of each pole/rotation pair, it is a good idea to verify that these are as similar as possible"
   ]
  },
  {
   "cell_type": "code",
   "execution_count": null,
   "id": "04b7ccbc-5c68-4064-8696-26f82c7cbe6c",
   "metadata": {},
   "outputs": [],
   "source": [
    "def verify_differences(ids, rotations):\n",
    "    scan_regex = re.compile(r'^Frame_[0-9]+\\.intens.gray.png')\n",
    "    fig, axes = plt.subplots(20, 10, figsize=(30,50))\n",
    "    pole_rot_idx = 0\n",
    "    for idx, pole_id in enumerate(ids):\n",
    "        for rot in rotations:\n",
    "            pair_idx = 0\n",
    "            paths = os.listdir(f'LiDAR/{pole_id}/2d/{rot}')\n",
    "            scan_paths = [path for path in paths if re.fullmatch(scan_regex, path)]\n",
    "            diff_sum = 0\n",
    "            max_diff = 0\n",
    "            for path_idx_1 in range(len(scan_paths)-1):\n",
    "                for path_idx_2 in range(path_idx_1 + 1, len(scan_paths)):\n",
    "                    img1 = cv2.imread(f'LiDAR/{pole_id}/2d/{rot}/{scan_paths[path_idx_1]}', cv2.IMREAD_GRAYSCALE)\n",
    "                    img2 = cv2.imread(f'LiDAR/{pole_id}/2d/{rot}/{scan_paths[path_idx_2]}', cv2.IMREAD_GRAYSCALE)\n",
    "                    diff = cv2.absdiff(img1, img2)\n",
    "                    diff_sum += np.sum(diff)\n",
    "                    max_diff = max(max_diff, np.max(diff))\n",
    "                    axes[pole_rot_idx, pair_idx].imshow(diff, cmap='gray', vmin=0, vmax=255)\n",
    "                    axes[0, pair_idx].set_title(f'abs({path_idx_1} - {path_idx_2})')\n",
    "                    pair_idx += 1\n",
    "            axes[pole_rot_idx, 0].set_ylabel(f'Pole {pole_id}, rotation {rot}\\nStatus: {pole_status[idx]}\\nDiff sum: {diff_sum}\\nMax diff: {max_diff}', labelpad=50, fontdict={'rotation':0})\n",
    "            pole_rot_idx += 1\n",
    "            \n",
    "    plt.tight_layout()\n",
    "    plt.savefig('nir-differences.png')"
   ]
  },
  {
   "cell_type": "code",
   "execution_count": null,
   "id": "d97352ff-e0bb-42b3-a1c8-7cf531d2adaf",
   "metadata": {},
   "outputs": [],
   "source": [
    "verify_differences(pole_ids, rotations)"
   ]
  },
  {
   "cell_type": "markdown",
   "id": "a71a63fa-59fa-47e8-a808-1a7a657ecab6",
   "metadata": {},
   "source": [
    "For checking differences among the different frames, all pairs of frames per pole-rotation pair have been taken. In this figure, each row represents a pole-rotation pair, and each column represents a certain frame pair. These results seem to show that, for some poles, there are sudden peaks of frame differences. It could be interesting to see these spikes together with the poles"
   ]
  },
  {
   "cell_type": "code",
   "execution_count": null,
   "id": "c5d94b61-4015-4b64-b6f0-bb207aeef913",
   "metadata": {},
   "outputs": [],
   "source": [
    "def overlap_diff_with_poles(ids, rotations):\n",
    "    scan_regex = re.compile(r'^Frame_[0-9]+\\.intens.gray.png')\n",
    "    fig, axes = plt.subplots(5, 4, figsize=(20,20))\n",
    "    for pole_idx, pole_id in enumerate(ids):\n",
    "        for rot_idx, rot in enumerate(rotations):\n",
    "            paths = os.listdir(f'LiDAR/{pole_id}/2d/{rot}')\n",
    "            scan_paths = [path for path in paths if re.fullmatch(scan_regex, path)]\n",
    "            diff_pairs = []\n",
    "            for path_idx_1 in range(len(scan_paths)-1):\n",
    "                for path_idx_2 in range(path_idx_1 + 1, len(scan_paths)):\n",
    "                    img1 = cv2.imread(f'LiDAR/{pole_id}/2d/{rot}/{scan_paths[path_idx_1]}', cv2.IMREAD_GRAYSCALE)\n",
    "                    img2 = cv2.imread(f'LiDAR/{pole_id}/2d/{rot}/{scan_paths[path_idx_2]}', cv2.IMREAD_GRAYSCALE)\n",
    "                    diff = cv2.absdiff(img1, img2)\n",
    "                    diff_pairs.append(diff)\n",
    "            avg_diff = np.average(diff_pairs, axis=0).astype(int)\n",
    "            first_frame = cv2.imread(f'LiDAR/{pole_id}/2d/{rot}/{scan_paths[0]}', cv2.IMREAD_GRAYSCALE)\n",
    "            axes[pole_idx, rot_idx].imshow(first_frame, alpha=0.5, cmap='gray', vmin=0, vmax=255)\n",
    "            axes[pole_idx, rot_idx].imshow(avg_diff, alpha=0.5, cmap='hot', vmin=0, vmax=255)\n",
    "            axes[0, rot_idx].set_title(f'{rot} degrees')\n",
    "        axes[pole_idx, 0].set_ylabel(f'Pole {pole_id}\\nStatus: {pole_status[pole_idx]}', labelpad=50, fontdict={'rotation':0})\n",
    "            \n",
    "    plt.tight_layout()\n",
    "    plt.savefig('nir-diff-overlay.png')"
   ]
  },
  {
   "cell_type": "code",
   "execution_count": null,
   "id": "5a5a262d-17ea-41e6-a1ac-af66e098fbc4",
   "metadata": {
    "tags": []
   },
   "outputs": [],
   "source": [
    "overlap_diff_with_poles(pole_ids, rotations)"
   ]
  },
  {
   "cell_type": "markdown",
   "id": "e4100098-c8e0-4e8a-af8a-0eaf62c863f2",
   "metadata": {},
   "source": [
    "This figure shows an overlap of the first frame for each pole-rotation pair with the average difference between all frame pairs for that same pole-rotation pair. As it can be seen, for poles with dark areas, the differences are mostly concentrated around the black area, whereas for poles with no dark areas, there are no significant frame differences (and maximum differences are usually not higher than 20).\n",
    "\n",
    "I'm not sure why these dark spots appear. I have consulted my colleagues, and it is not clear if these spots could be due to some bad measurement procedure. **Is there a way of verifying what is causing these black areas?**"
   ]
  },
  {
   "cell_type": "code",
   "execution_count": null,
   "id": "e1c671b4-6afd-4321-b1f0-e30b2c1176d5",
   "metadata": {},
   "outputs": [],
   "source": []
  }
 ],
 "metadata": {
  "kernelspec": {
   "display_name": "Python 3 (ipykernel)",
   "language": "python",
   "name": "python3"
  },
  "language_info": {
   "codemirror_mode": {
    "name": "ipython",
    "version": 3
   },
   "file_extension": ".py",
   "mimetype": "text/x-python",
   "name": "python",
   "nbconvert_exporter": "python",
   "pygments_lexer": "ipython3",
   "version": "3.10.0"
  }
 },
 "nbformat": 4,
 "nbformat_minor": 5
}
