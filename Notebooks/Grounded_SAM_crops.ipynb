{
 "cells": [
  {
   "cell_type": "markdown",
   "id": "a10aa0ae-5242-408b-a8a8-a0cd548a7e2f",
   "metadata": {},
   "source": [
    "# Cropping pole images with Grounded SAM"
   ]
  },
  {
   "cell_type": "markdown",
   "id": "f35b9fe3-ddc3-4aa7-9e04-0480b5cb5f60",
   "metadata": {},
   "source": [
    "As a way of integrating NLP techniques into this work, a good idea is to employ Grounded SAM to segment the images. This is a combination of two techniques:\n",
    "\n",
    "- Grounding DINO: uses NLP techniques to compute bounding boxes of objects in an image.\n",
    "- SAM: automatically segments objects in an image."
   ]
  },
  {
   "cell_type": "markdown",
   "id": "0a5c4794-026d-496f-a8a3-cd8fa53ad7c3",
   "metadata": {},
   "source": [
    "## Required imports"
   ]
  },
  {
   "cell_type": "code",
   "execution_count": 1,
   "id": "de3e4e32-a8b4-4e3e-9961-cd79623607d9",
   "metadata": {
    "tags": []
   },
   "outputs": [
    {
     "name": "stderr",
     "output_type": "stream",
     "text": [
      "c:\\users\\ext-lugo\\onedrive - norce\\desktop\\work\\analysis\\grounded-segment-anything\\groundingdino\\groundingdino\\models\\GroundingDINO\\ms_deform_attn.py:31: UserWarning: Failed to load custom C++ ops. Running on CPU mode Only!\n",
      "  warnings.warn(\"Failed to load custom C++ ops. Running on CPU mode Only!\")\n"
     ]
    }
   ],
   "source": [
    "import cv2\n",
    "import os\n",
    "import numpy as np\n",
    "import supervision as sv\n",
    "import spectral.io.envi as envi\n",
    "\n",
    "import torch\n",
    "import torchvision\n",
    "\n",
    "%matplotlib inline\n",
    "import matplotlib.pyplot as plt\n",
    "\n",
    "from groundingdino.util.inference import Model\n",
    "from segment_anything import sam_model_registry, SamPredictor\n",
    "\n",
    "DEVICE = 'cpu'\n",
    "IMG_FOLDER = '../../RGB'\n",
    "CROP_FOLDER = '../../RGB/sam_crops'\n",
    "\n",
    "import os\n",
    "os.environ['CURL_CA_BUNDLE'] = ''"
   ]
  },
  {
   "cell_type": "markdown",
   "id": "8c4ed0e7-640a-4149-aa4e-4c7c62a0d581",
   "metadata": {},
   "source": [
    "## The code itself"
   ]
  },
  {
   "cell_type": "code",
   "execution_count": 29,
   "id": "7dbcb819-3e94-4472-ad58-90465589463f",
   "metadata": {
    "tags": []
   },
   "outputs": [],
   "source": [
    "def crop_img(path):\n",
    "    # GroundingDINO config and checkpoint\n",
    "    GROUNDING_DINO_CONFIG_PATH = \"../Grounded-Segment-Anything/GroundingDINO/groundingdino/config/GroundingDINO_SwinT_OGC.py\"\n",
    "    GROUNDING_DINO_CHECKPOINT_PATH = \"../Grounded-Segment-Anything/groundingdino_swint_ogc.pth\"\n",
    "\n",
    "    # Segment-Anything checkpoint\n",
    "    SAM_ENCODER_VERSION = \"vit_h\"\n",
    "    SAM_CHECKPOINT_PATH = \"../Grounded-Segment-Anything/sam_vit_h_4b8939.pth\"\n",
    "\n",
    "    # Building GroundingDINO inference model\n",
    "    grounding_dino_model = Model(model_config_path=GROUNDING_DINO_CONFIG_PATH, model_checkpoint_path=GROUNDING_DINO_CHECKPOINT_PATH, device=DEVICE)\n",
    "\n",
    "    # Building SAM Model and SAM Predictor\n",
    "    sam = sam_model_registry[SAM_ENCODER_VERSION](checkpoint=SAM_CHECKPOINT_PATH)\n",
    "    sam.to(device=DEVICE)\n",
    "    sam_predictor = SamPredictor(sam)\n",
    "\n",
    "\n",
    "    # Predict classes and hyper-param for GroundingDINO\n",
    "    SOURCE_IMAGE_PATH = IMG_FOLDER + '/' + path\n",
    "    CLASSES = [\"A wooden pole\"]\n",
    "    BOX_THRESHOLD = 0.25\n",
    "    TEXT_THRESHOLD = 0.25\n",
    "    NMS_THRESHOLD = 0.8\n",
    "\n",
    "\n",
    "    # load image\n",
    "    image = cv2.imread(SOURCE_IMAGE_PATH)\n",
    "\n",
    "    # detect objects\n",
    "    detections = grounding_dino_model.predict_with_classes(\n",
    "        image=image,\n",
    "        classes=CLASSES,\n",
    "        box_threshold=BOX_THRESHOLD,\n",
    "        text_threshold=BOX_THRESHOLD\n",
    "    )\n",
    "    \n",
    "    crop_img = image[int(detections.xyxy[0,1]):int(detections.xyxy[0,3]),int(detections.xyxy[0,0]):int(detections.xyxy[0,2]),:]\n",
    "    cv2.imwrite(f\"{CROP_FOLDER}/{path[:-4]}_crop.jpg\", crop_img)\n",
    "    \n",
    "    # annotate image with detections\n",
    "    box_annotator = sv.BoxAnnotator()\n",
    "    labels = [\n",
    "        f\"{CLASSES[class_id]} {confidence:0.2f}\" \n",
    "        for _, _, confidence, class_id, _ \n",
    "        in detections]\n",
    "    annotated_frame = box_annotator.annotate(scene=image.copy(), detections=detections, labels=labels)\n",
    "\n",
    "    # save the annotated grounding dino image\n",
    "    #cv2.imwrite(\"test_dino.jpg\", annotated_frame)\n",
    "\n",
    "\n",
    "    # NMS post process\n",
    "    print(f\"Before NMS: {len(detections.xyxy)} boxes\")\n",
    "    nms_idx = torchvision.ops.nms(\n",
    "        torch.from_numpy(detections.xyxy), \n",
    "        torch.from_numpy(detections.confidence), \n",
    "        NMS_THRESHOLD\n",
    "    ).numpy().tolist()\n",
    "\n",
    "    detections.xyxy = detections.xyxy[nms_idx]\n",
    "    detections.confidence = detections.confidence[nms_idx]\n",
    "    detections.class_id = detections.class_id[nms_idx]\n",
    "\n",
    "    print(f\"After NMS: {len(detections.xyxy)} boxes\")\n",
    "\n",
    "    # Prompting SAM with detected boxes\n",
    "    def segment(sam_predictor: SamPredictor, image: np.ndarray, xyxy: np.ndarray) -> np.ndarray:\n",
    "        sam_predictor.set_image(image)\n",
    "        result_masks = []\n",
    "        for box in xyxy:\n",
    "            masks, scores, logits = sam_predictor.predict(\n",
    "                box=box,\n",
    "                multimask_output=True\n",
    "            )\n",
    "            index = np.argmax(scores)\n",
    "            result_masks.append(masks[index])\n",
    "        return np.array(result_masks)\n",
    "\n",
    "\n",
    "    # convert detections to masks\n",
    "    detections.mask = segment(\n",
    "        sam_predictor=sam_predictor,\n",
    "        image=cv2.cvtColor(image, cv2.COLOR_BGR2RGB),\n",
    "        xyxy=detections.xyxy\n",
    "    )\n",
    "    \n",
    "    cv2.imwrite(f\"{CROP_FOLDER}/{path[:-4]}_mask.jpg\", np.where(detections.mask[0], 255, 0))\n",
    "    img_masked = np.zeros_like(image)\n",
    "    img_masked[:,:,0] = detections.mask[0]\n",
    "    img_masked[:,:,1] = detections.mask[0]\n",
    "    img_masked[:,:,2] = detections.mask[0]\n",
    "    img_masked = np.where(img_masked, image, 255)\n",
    "    cv2.imwrite(f\"{CROP_FOLDER}/{path[:-4]}_masked.jpg\", img_masked)\n",
    "    return\n",
    "\n",
    "    # annotate image with detections\n",
    "    box_annotator = sv.BoxAnnotator()\n",
    "    mask_annotator = sv.MaskAnnotator()\n",
    "    labels = [\n",
    "        f\"{CLASSES[class_id]} {confidence:0.2f}\" \n",
    "        for _, _, confidence, class_id, _ \n",
    "        in detections]\n",
    "    annotated_image = mask_annotator.annotate(scene=image.copy(), detections=detections)\n",
    "    annotated_image = box_annotator.annotate(scene=annotated_image, detections=detections, labels=labels)\n",
    "\n",
    "    # save the annotated grounded-sam image\n",
    "    cv2.imwrite(\"test_sam.jpg\", annotated_image)"
   ]
  },
  {
   "cell_type": "code",
   "execution_count": 30,
   "id": "729a2b8b-dfa6-4b24-9ef3-ba228e4ea57b",
   "metadata": {
    "tags": []
   },
   "outputs": [
    {
     "name": "stdout",
     "output_type": "stream",
     "text": [
      "Cropping 0_0.jpg\n",
      "final text_encoder_type: bert-base-uncased\n"
     ]
    },
    {
     "name": "stderr",
     "output_type": "stream",
     "text": [
      "C:\\Users\\ext-lugo\\Anaconda3\\envs\\pole-analysis\\lib\\site-packages\\urllib3\\connectionpool.py:1056: InsecureRequestWarning: Unverified HTTPS request is being made to host 'huggingface.co'. Adding certificate verification is strongly advised. See: https://urllib3.readthedocs.io/en/1.26.x/advanced-usage.html#ssl-warnings\n",
      "  warnings.warn(\n",
      "C:\\Users\\ext-lugo\\Anaconda3\\envs\\pole-analysis\\lib\\site-packages\\urllib3\\connectionpool.py:1056: InsecureRequestWarning: Unverified HTTPS request is being made to host 'huggingface.co'. Adding certificate verification is strongly advised. See: https://urllib3.readthedocs.io/en/1.26.x/advanced-usage.html#ssl-warnings\n",
      "  warnings.warn(\n",
      "C:\\Users\\ext-lugo\\Anaconda3\\envs\\pole-analysis\\lib\\site-packages\\urllib3\\connectionpool.py:1056: InsecureRequestWarning: Unverified HTTPS request is being made to host 'huggingface.co'. Adding certificate verification is strongly advised. See: https://urllib3.readthedocs.io/en/1.26.x/advanced-usage.html#ssl-warnings\n",
      "  warnings.warn(\n"
     ]
    },
    {
     "name": "stdout",
     "output_type": "stream",
     "text": [
      "Before NMS: 1 boxes\n",
      "After NMS: 1 boxes\n",
      "Cropping 0_180.jpg\n",
      "final text_encoder_type: bert-base-uncased\n"
     ]
    },
    {
     "name": "stderr",
     "output_type": "stream",
     "text": [
      "C:\\Users\\ext-lugo\\Anaconda3\\envs\\pole-analysis\\lib\\site-packages\\urllib3\\connectionpool.py:1056: InsecureRequestWarning: Unverified HTTPS request is being made to host 'huggingface.co'. Adding certificate verification is strongly advised. See: https://urllib3.readthedocs.io/en/1.26.x/advanced-usage.html#ssl-warnings\n",
      "  warnings.warn(\n",
      "C:\\Users\\ext-lugo\\Anaconda3\\envs\\pole-analysis\\lib\\site-packages\\urllib3\\connectionpool.py:1056: InsecureRequestWarning: Unverified HTTPS request is being made to host 'huggingface.co'. Adding certificate verification is strongly advised. See: https://urllib3.readthedocs.io/en/1.26.x/advanced-usage.html#ssl-warnings\n",
      "  warnings.warn(\n",
      "C:\\Users\\ext-lugo\\Anaconda3\\envs\\pole-analysis\\lib\\site-packages\\urllib3\\connectionpool.py:1056: InsecureRequestWarning: Unverified HTTPS request is being made to host 'huggingface.co'. Adding certificate verification is strongly advised. See: https://urllib3.readthedocs.io/en/1.26.x/advanced-usage.html#ssl-warnings\n",
      "  warnings.warn(\n",
      "\n",
      "KeyboardInterrupt\n",
      "\n"
     ]
    }
   ],
   "source": [
    "for img in os.listdir(\"../../RGB/\"):\n",
    "    if os.path.isfile(os.path.join(\"../../RGB/\", img)):\n",
    "        print(f\"Cropping {img}\")\n",
    "        crop_img(img)"
   ]
  },
  {
   "cell_type": "markdown",
   "id": "9468bd3b-099e-4182-94d2-dfd6c64b139c",
   "metadata": {},
   "source": [
    "## Cropping hyperspectral images"
   ]
  },
  {
   "cell_type": "markdown",
   "id": "a653b74a-7967-41a5-bdbb-bc692ce41ae8",
   "metadata": {},
   "source": [
    "Since the results for RGB images are very good, it is natural to ask whether this technique can also be applied to hyperspectral scans"
   ]
  },
  {
   "cell_type": "code",
   "execution_count": 2,
   "id": "5019ed86-df4d-41cc-8dcd-e26a48b18740",
   "metadata": {
    "tags": []
   },
   "outputs": [],
   "source": [
    "def crop_hyper(pole_id, img_idx):\n",
    "    # GroundingDINO config and checkpoint\n",
    "    GROUNDING_DINO_CONFIG_PATH = \"../Grounded-Segment-Anything/GroundingDINO/groundingdino/config/GroundingDINO_SwinT_OGC.py\"\n",
    "    GROUNDING_DINO_CHECKPOINT_PATH = \"../Grounded-Segment-Anything/groundingdino_swint_ogc.pth\"\n",
    "\n",
    "    # Segment-Anything checkpoint\n",
    "    SAM_ENCODER_VERSION = \"vit_h\"\n",
    "    SAM_CHECKPOINT_PATH = \"../Grounded-Segment-Anything/sam_vit_h_4b8939.pth\"\n",
    "\n",
    "    # Building GroundingDINO inference model\n",
    "    grounding_dino_model = Model(model_config_path=GROUNDING_DINO_CONFIG_PATH, model_checkpoint_path=GROUNDING_DINO_CHECKPOINT_PATH, device=DEVICE)\n",
    "\n",
    "    # Building SAM Model and SAM Predictor\n",
    "    sam = sam_model_registry[SAM_ENCODER_VERSION](checkpoint=SAM_CHECKPOINT_PATH)\n",
    "    sam.to(device=DEVICE)\n",
    "    sam_predictor = SamPredictor(sam)\n",
    "\n",
    "\n",
    "    # Predict classes and hyper-param for GroundingDINO\n",
    "    CLASSES = [\"A wooden pole\"]\n",
    "    BOX_THRESHOLD = 0.25\n",
    "    TEXT_THRESHOLD = 0.25\n",
    "    NMS_THRESHOLD = 0.8\n",
    "\n",
    "\n",
    "    # load scan\n",
    "    paths = os.listdir(os.path.join(\"C:\\\\Users\\\\ext-lugo\\\\Hyperspectral\\\\Radiance\", str(pole_id)))\n",
    "    paths = [path for path in paths if \"float32.hdr\" in path]\n",
    "    paths.sort()\n",
    "    image = envi.open(os.path.join(\"C:\\\\Users\\\\ext-lugo\\\\Hyperspectral\\\\Radiance\", str(pole_id), paths[img_idx])).load()\n",
    "    image = np.take(image, [8, 24, 39], axis=2)\n",
    "    image = np.where(image > 0.025, 0, image)\n",
    "    \n",
    "    # Normalize scan and convert to uint8\n",
    "    image[:,:,0] = np.interp(image[:,:,0], (np.min(image[:,:,0]), np.max(image[:,:,0])), (0, 255)).astype(np.uint8)\n",
    "    image[:,:,1] = np.interp(image[:,:,1], (np.min(image[:,:,1]), np.max(image[:,:,1])), (0, 255)).astype(np.uint8)\n",
    "    image[:,:,2] = np.interp(image[:,:,2], (np.min(image[:,:,2]), np.max(image[:,:,2])), (0, 255)).astype(np.uint8)\n",
    "    image = image.astype(np.uint8)\n",
    "    cv2.imwrite(f\"../../Hyperspectral_masks/{pole_id}_{img_idx}_frgb.jpg\", image)\n",
    "\n",
    "    # detect objects\n",
    "    detections = grounding_dino_model.predict_with_classes(\n",
    "        image=image,\n",
    "        classes=CLASSES,\n",
    "        box_threshold=BOX_THRESHOLD,\n",
    "        text_threshold=BOX_THRESHOLD\n",
    "    )\n",
    "    \n",
    "    crop_img = image[int(detections.xyxy[0,1]):int(detections.xyxy[0,3]),int(detections.xyxy[0,0]):int(detections.xyxy[0,2]),:]\n",
    "    cv2.imwrite(f\"../../Hyperspectral_masks/{pole_id}_{img_idx}_crop.jpg\", crop_img)\n",
    "    \n",
    "    # annotate image with detections\n",
    "    box_annotator = sv.BoxAnnotator()\n",
    "    labels = [\n",
    "        f\"{CLASSES[class_id]} {confidence:0.2f}\" \n",
    "        for _, _, confidence, class_id, _ \n",
    "        in detections]\n",
    "    annotated_frame = box_annotator.annotate(scene=image.copy(), detections=detections, labels=labels)\n",
    "\n",
    "    # save the annotated grounding dino image\n",
    "    #cv2.imwrite(\"test_dino.jpg\", annotated_frame)\n",
    "\n",
    "\n",
    "    # NMS post process\n",
    "    print(f\"Before NMS: {len(detections.xyxy)} boxes\")\n",
    "    nms_idx = torchvision.ops.nms(\n",
    "        torch.from_numpy(detections.xyxy), \n",
    "        torch.from_numpy(detections.confidence), \n",
    "        NMS_THRESHOLD\n",
    "    ).numpy().tolist()\n",
    "\n",
    "    detections.xyxy = detections.xyxy[nms_idx]\n",
    "    detections.confidence = detections.confidence[nms_idx]\n",
    "    detections.class_id = detections.class_id[nms_idx]\n",
    "\n",
    "    print(f\"After NMS: {len(detections.xyxy)} boxes\")\n",
    "\n",
    "    # Prompting SAM with detected boxes\n",
    "    def segment(sam_predictor: SamPredictor, image: np.ndarray, xyxy: np.ndarray) -> np.ndarray:\n",
    "        sam_predictor.set_image(image)\n",
    "        result_masks = []\n",
    "        for box in xyxy:\n",
    "            masks, scores, logits = sam_predictor.predict(\n",
    "                box=box,\n",
    "                multimask_output=True\n",
    "            )\n",
    "            index = np.argmax(scores)\n",
    "            result_masks.append(masks[index])\n",
    "        return np.array(result_masks)\n",
    "\n",
    "\n",
    "    # convert detections to masks\n",
    "    detections.mask = segment(\n",
    "        sam_predictor=sam_predictor,\n",
    "        image=cv2.cvtColor(image, cv2.COLOR_BGR2RGB),\n",
    "        xyxy=detections.xyxy\n",
    "    )\n",
    "    \n",
    "    cv2.imwrite(f\"../../Hyperspectral_masks/{pole_id}_{img_idx}_mask.jpg\", np.where(detections.mask[0], 255, 0))\n",
    "    img_masked = np.zeros_like(image)\n",
    "    img_masked[:,:,0] = detections.mask[0]\n",
    "    img_masked[:,:,1] = detections.mask[0]\n",
    "    img_masked[:,:,2] = detections.mask[0]\n",
    "    img_masked = np.where(img_masked, image, 255)\n",
    "    cv2.imwrite(f\"../../Hyperspectral_masks/{pole_id}_{img_idx}_masked.jpg\", img_masked)\n",
    "    return\n",
    "\n",
    "    # annotate image with detections\n",
    "    box_annotator = sv.BoxAnnotator()\n",
    "    mask_annotator = sv.MaskAnnotator()\n",
    "    labels = [\n",
    "        f\"{CLASSES[class_id]} {confidence:0.2f}\" \n",
    "        for _, _, confidence, class_id, _ \n",
    "        in detections]\n",
    "    annotated_image = mask_annotator.annotate(scene=image.copy(), detections=detections)\n",
    "    annotated_image = box_annotator.annotate(scene=annotated_image, detections=detections, labels=labels)\n",
    "\n",
    "    # save the annotated grounded-sam image\n",
    "    cv2.imwrite(\"test_sam.jpg\", annotated_image)"
   ]
  },
  {
   "cell_type": "code",
   "execution_count": 3,
   "id": "7805d7ab-17e5-429d-aa85-c0c565bd5ac5",
   "metadata": {
    "tags": []
   },
   "outputs": [
    {
     "name": "stderr",
     "output_type": "stream",
     "text": [
      "C:\\Users\\ext-lugo\\Anaconda3\\envs\\pole-analysis\\lib\\site-packages\\torch\\functional.py:504: UserWarning: torch.meshgrid: in an upcoming release, it will be required to pass the indexing argument. (Triggered internally at C:\\actions-runner\\_work\\pytorch\\pytorch\\builder\\windows\\pytorch\\aten\\src\\ATen\\native\\TensorShape.cpp:3484.)\n",
      "  return _VF.meshgrid(tensors, **kwargs)  # type: ignore[attr-defined]\n"
     ]
    },
    {
     "name": "stdout",
     "output_type": "stream",
     "text": [
      "final text_encoder_type: bert-base-uncased\n"
     ]
    },
    {
     "name": "stderr",
     "output_type": "stream",
     "text": [
      "C:\\Users\\ext-lugo\\Anaconda3\\envs\\pole-analysis\\lib\\site-packages\\urllib3\\connectionpool.py:1056: InsecureRequestWarning: Unverified HTTPS request is being made to host 'huggingface.co'. Adding certificate verification is strongly advised. See: https://urllib3.readthedocs.io/en/1.26.x/advanced-usage.html#ssl-warnings\n",
      "  warnings.warn(\n",
      "C:\\Users\\ext-lugo\\Anaconda3\\envs\\pole-analysis\\lib\\site-packages\\urllib3\\connectionpool.py:1056: InsecureRequestWarning: Unverified HTTPS request is being made to host 'huggingface.co'. Adding certificate verification is strongly advised. See: https://urllib3.readthedocs.io/en/1.26.x/advanced-usage.html#ssl-warnings\n",
      "  warnings.warn(\n",
      "C:\\Users\\ext-lugo\\Anaconda3\\envs\\pole-analysis\\lib\\site-packages\\urllib3\\connectionpool.py:1056: InsecureRequestWarning: Unverified HTTPS request is being made to host 'huggingface.co'. Adding certificate verification is strongly advised. See: https://urllib3.readthedocs.io/en/1.26.x/advanced-usage.html#ssl-warnings\n",
      "  warnings.warn(\n",
      "C:\\Users\\ext-lugo\\Anaconda3\\envs\\pole-analysis\\lib\\site-packages\\transformers\\modeling_utils.py:909: FutureWarning: The `device` argument is deprecated and will be removed in v5 of Transformers.\n",
      "  warnings.warn(\n",
      "C:\\Users\\ext-lugo\\Anaconda3\\envs\\pole-analysis\\lib\\site-packages\\torch\\utils\\checkpoint.py:31: UserWarning: None of the inputs have requires_grad=True. Gradients will be None\n",
      "  warnings.warn(\"None of the inputs have requires_grad=True. Gradients will be None\")\n"
     ]
    },
    {
     "name": "stdout",
     "output_type": "stream",
     "text": [
      "Before NMS: 1 boxes\n",
      "After NMS: 1 boxes\n",
      "final text_encoder_type: bert-base-uncased\n"
     ]
    },
    {
     "name": "stderr",
     "output_type": "stream",
     "text": [
      "C:\\Users\\ext-lugo\\Anaconda3\\envs\\pole-analysis\\lib\\site-packages\\urllib3\\connectionpool.py:1056: InsecureRequestWarning: Unverified HTTPS request is being made to host 'huggingface.co'. Adding certificate verification is strongly advised. See: https://urllib3.readthedocs.io/en/1.26.x/advanced-usage.html#ssl-warnings\n",
      "  warnings.warn(\n",
      "C:\\Users\\ext-lugo\\Anaconda3\\envs\\pole-analysis\\lib\\site-packages\\urllib3\\connectionpool.py:1056: InsecureRequestWarning: Unverified HTTPS request is being made to host 'huggingface.co'. Adding certificate verification is strongly advised. See: https://urllib3.readthedocs.io/en/1.26.x/advanced-usage.html#ssl-warnings\n",
      "  warnings.warn(\n",
      "C:\\Users\\ext-lugo\\Anaconda3\\envs\\pole-analysis\\lib\\site-packages\\urllib3\\connectionpool.py:1056: InsecureRequestWarning: Unverified HTTPS request is being made to host 'huggingface.co'. Adding certificate verification is strongly advised. See: https://urllib3.readthedocs.io/en/1.26.x/advanced-usage.html#ssl-warnings\n",
      "  warnings.warn(\n"
     ]
    },
    {
     "name": "stdout",
     "output_type": "stream",
     "text": [
      "Before NMS: 1 boxes\n",
      "After NMS: 1 boxes\n",
      "final text_encoder_type: bert-base-uncased\n"
     ]
    },
    {
     "name": "stderr",
     "output_type": "stream",
     "text": [
      "C:\\Users\\ext-lugo\\Anaconda3\\envs\\pole-analysis\\lib\\site-packages\\urllib3\\connectionpool.py:1056: InsecureRequestWarning: Unverified HTTPS request is being made to host 'huggingface.co'. Adding certificate verification is strongly advised. See: https://urllib3.readthedocs.io/en/1.26.x/advanced-usage.html#ssl-warnings\n",
      "  warnings.warn(\n",
      "C:\\Users\\ext-lugo\\Anaconda3\\envs\\pole-analysis\\lib\\site-packages\\urllib3\\connectionpool.py:1056: InsecureRequestWarning: Unverified HTTPS request is being made to host 'huggingface.co'. Adding certificate verification is strongly advised. See: https://urllib3.readthedocs.io/en/1.26.x/advanced-usage.html#ssl-warnings\n",
      "  warnings.warn(\n",
      "C:\\Users\\ext-lugo\\Anaconda3\\envs\\pole-analysis\\lib\\site-packages\\urllib3\\connectionpool.py:1056: InsecureRequestWarning: Unverified HTTPS request is being made to host 'huggingface.co'. Adding certificate verification is strongly advised. See: https://urllib3.readthedocs.io/en/1.26.x/advanced-usage.html#ssl-warnings\n",
      "  warnings.warn(\n"
     ]
    },
    {
     "name": "stdout",
     "output_type": "stream",
     "text": [
      "Before NMS: 1 boxes\n",
      "After NMS: 1 boxes\n",
      "final text_encoder_type: bert-base-uncased\n"
     ]
    },
    {
     "name": "stderr",
     "output_type": "stream",
     "text": [
      "C:\\Users\\ext-lugo\\Anaconda3\\envs\\pole-analysis\\lib\\site-packages\\urllib3\\connectionpool.py:1056: InsecureRequestWarning: Unverified HTTPS request is being made to host 'huggingface.co'. Adding certificate verification is strongly advised. See: https://urllib3.readthedocs.io/en/1.26.x/advanced-usage.html#ssl-warnings\n",
      "  warnings.warn(\n",
      "C:\\Users\\ext-lugo\\Anaconda3\\envs\\pole-analysis\\lib\\site-packages\\urllib3\\connectionpool.py:1056: InsecureRequestWarning: Unverified HTTPS request is being made to host 'huggingface.co'. Adding certificate verification is strongly advised. See: https://urllib3.readthedocs.io/en/1.26.x/advanced-usage.html#ssl-warnings\n",
      "  warnings.warn(\n",
      "C:\\Users\\ext-lugo\\Anaconda3\\envs\\pole-analysis\\lib\\site-packages\\urllib3\\connectionpool.py:1056: InsecureRequestWarning: Unverified HTTPS request is being made to host 'huggingface.co'. Adding certificate verification is strongly advised. See: https://urllib3.readthedocs.io/en/1.26.x/advanced-usage.html#ssl-warnings\n",
      "  warnings.warn(\n"
     ]
    },
    {
     "name": "stdout",
     "output_type": "stream",
     "text": [
      "Before NMS: 1 boxes\n",
      "After NMS: 1 boxes\n",
      "final text_encoder_type: bert-base-uncased\n"
     ]
    },
    {
     "name": "stderr",
     "output_type": "stream",
     "text": [
      "C:\\Users\\ext-lugo\\Anaconda3\\envs\\pole-analysis\\lib\\site-packages\\urllib3\\connectionpool.py:1056: InsecureRequestWarning: Unverified HTTPS request is being made to host 'huggingface.co'. Adding certificate verification is strongly advised. See: https://urllib3.readthedocs.io/en/1.26.x/advanced-usage.html#ssl-warnings\n",
      "  warnings.warn(\n",
      "C:\\Users\\ext-lugo\\Anaconda3\\envs\\pole-analysis\\lib\\site-packages\\urllib3\\connectionpool.py:1056: InsecureRequestWarning: Unverified HTTPS request is being made to host 'huggingface.co'. Adding certificate verification is strongly advised. See: https://urllib3.readthedocs.io/en/1.26.x/advanced-usage.html#ssl-warnings\n",
      "  warnings.warn(\n",
      "C:\\Users\\ext-lugo\\Anaconda3\\envs\\pole-analysis\\lib\\site-packages\\urllib3\\connectionpool.py:1056: InsecureRequestWarning: Unverified HTTPS request is being made to host 'huggingface.co'. Adding certificate verification is strongly advised. See: https://urllib3.readthedocs.io/en/1.26.x/advanced-usage.html#ssl-warnings\n",
      "  warnings.warn(\n"
     ]
    },
    {
     "name": "stdout",
     "output_type": "stream",
     "text": [
      "Before NMS: 1 boxes\n",
      "After NMS: 1 boxes\n",
      "final text_encoder_type: bert-base-uncased\n"
     ]
    },
    {
     "name": "stderr",
     "output_type": "stream",
     "text": [
      "C:\\Users\\ext-lugo\\Anaconda3\\envs\\pole-analysis\\lib\\site-packages\\urllib3\\connectionpool.py:1056: InsecureRequestWarning: Unverified HTTPS request is being made to host 'huggingface.co'. Adding certificate verification is strongly advised. See: https://urllib3.readthedocs.io/en/1.26.x/advanced-usage.html#ssl-warnings\n",
      "  warnings.warn(\n",
      "C:\\Users\\ext-lugo\\Anaconda3\\envs\\pole-analysis\\lib\\site-packages\\urllib3\\connectionpool.py:1056: InsecureRequestWarning: Unverified HTTPS request is being made to host 'huggingface.co'. Adding certificate verification is strongly advised. See: https://urllib3.readthedocs.io/en/1.26.x/advanced-usage.html#ssl-warnings\n",
      "  warnings.warn(\n",
      "C:\\Users\\ext-lugo\\Anaconda3\\envs\\pole-analysis\\lib\\site-packages\\urllib3\\connectionpool.py:1056: InsecureRequestWarning: Unverified HTTPS request is being made to host 'huggingface.co'. Adding certificate verification is strongly advised. See: https://urllib3.readthedocs.io/en/1.26.x/advanced-usage.html#ssl-warnings\n",
      "  warnings.warn(\n"
     ]
    },
    {
     "name": "stdout",
     "output_type": "stream",
     "text": [
      "Before NMS: 1 boxes\n",
      "After NMS: 1 boxes\n",
      "final text_encoder_type: bert-base-uncased\n"
     ]
    },
    {
     "name": "stderr",
     "output_type": "stream",
     "text": [
      "C:\\Users\\ext-lugo\\Anaconda3\\envs\\pole-analysis\\lib\\site-packages\\urllib3\\connectionpool.py:1056: InsecureRequestWarning: Unverified HTTPS request is being made to host 'huggingface.co'. Adding certificate verification is strongly advised. See: https://urllib3.readthedocs.io/en/1.26.x/advanced-usage.html#ssl-warnings\n",
      "  warnings.warn(\n",
      "C:\\Users\\ext-lugo\\Anaconda3\\envs\\pole-analysis\\lib\\site-packages\\urllib3\\connectionpool.py:1056: InsecureRequestWarning: Unverified HTTPS request is being made to host 'huggingface.co'. Adding certificate verification is strongly advised. See: https://urllib3.readthedocs.io/en/1.26.x/advanced-usage.html#ssl-warnings\n",
      "  warnings.warn(\n",
      "C:\\Users\\ext-lugo\\Anaconda3\\envs\\pole-analysis\\lib\\site-packages\\urllib3\\connectionpool.py:1056: InsecureRequestWarning: Unverified HTTPS request is being made to host 'huggingface.co'. Adding certificate verification is strongly advised. See: https://urllib3.readthedocs.io/en/1.26.x/advanced-usage.html#ssl-warnings\n",
      "  warnings.warn(\n"
     ]
    },
    {
     "name": "stdout",
     "output_type": "stream",
     "text": [
      "Before NMS: 1 boxes\n",
      "After NMS: 1 boxes\n",
      "final text_encoder_type: bert-base-uncased\n"
     ]
    },
    {
     "name": "stderr",
     "output_type": "stream",
     "text": [
      "C:\\Users\\ext-lugo\\Anaconda3\\envs\\pole-analysis\\lib\\site-packages\\urllib3\\connectionpool.py:1056: InsecureRequestWarning: Unverified HTTPS request is being made to host 'huggingface.co'. Adding certificate verification is strongly advised. See: https://urllib3.readthedocs.io/en/1.26.x/advanced-usage.html#ssl-warnings\n",
      "  warnings.warn(\n",
      "C:\\Users\\ext-lugo\\Anaconda3\\envs\\pole-analysis\\lib\\site-packages\\urllib3\\connectionpool.py:1056: InsecureRequestWarning: Unverified HTTPS request is being made to host 'huggingface.co'. Adding certificate verification is strongly advised. See: https://urllib3.readthedocs.io/en/1.26.x/advanced-usage.html#ssl-warnings\n",
      "  warnings.warn(\n",
      "C:\\Users\\ext-lugo\\Anaconda3\\envs\\pole-analysis\\lib\\site-packages\\urllib3\\connectionpool.py:1056: InsecureRequestWarning: Unverified HTTPS request is being made to host 'huggingface.co'. Adding certificate verification is strongly advised. See: https://urllib3.readthedocs.io/en/1.26.x/advanced-usage.html#ssl-warnings\n",
      "  warnings.warn(\n"
     ]
    },
    {
     "name": "stdout",
     "output_type": "stream",
     "text": [
      "Before NMS: 1 boxes\n",
      "After NMS: 1 boxes\n",
      "final text_encoder_type: bert-base-uncased\n"
     ]
    },
    {
     "name": "stderr",
     "output_type": "stream",
     "text": [
      "C:\\Users\\ext-lugo\\Anaconda3\\envs\\pole-analysis\\lib\\site-packages\\urllib3\\connectionpool.py:1056: InsecureRequestWarning: Unverified HTTPS request is being made to host 'huggingface.co'. Adding certificate verification is strongly advised. See: https://urllib3.readthedocs.io/en/1.26.x/advanced-usage.html#ssl-warnings\n",
      "  warnings.warn(\n",
      "C:\\Users\\ext-lugo\\Anaconda3\\envs\\pole-analysis\\lib\\site-packages\\urllib3\\connectionpool.py:1056: InsecureRequestWarning: Unverified HTTPS request is being made to host 'huggingface.co'. Adding certificate verification is strongly advised. See: https://urllib3.readthedocs.io/en/1.26.x/advanced-usage.html#ssl-warnings\n",
      "  warnings.warn(\n",
      "C:\\Users\\ext-lugo\\Anaconda3\\envs\\pole-analysis\\lib\\site-packages\\urllib3\\connectionpool.py:1056: InsecureRequestWarning: Unverified HTTPS request is being made to host 'huggingface.co'. Adding certificate verification is strongly advised. See: https://urllib3.readthedocs.io/en/1.26.x/advanced-usage.html#ssl-warnings\n",
      "  warnings.warn(\n"
     ]
    },
    {
     "name": "stdout",
     "output_type": "stream",
     "text": [
      "Before NMS: 1 boxes\n",
      "After NMS: 1 boxes\n",
      "final text_encoder_type: bert-base-uncased\n"
     ]
    },
    {
     "name": "stderr",
     "output_type": "stream",
     "text": [
      "C:\\Users\\ext-lugo\\Anaconda3\\envs\\pole-analysis\\lib\\site-packages\\urllib3\\connectionpool.py:1056: InsecureRequestWarning: Unverified HTTPS request is being made to host 'huggingface.co'. Adding certificate verification is strongly advised. See: https://urllib3.readthedocs.io/en/1.26.x/advanced-usage.html#ssl-warnings\n",
      "  warnings.warn(\n",
      "C:\\Users\\ext-lugo\\Anaconda3\\envs\\pole-analysis\\lib\\site-packages\\urllib3\\connectionpool.py:1056: InsecureRequestWarning: Unverified HTTPS request is being made to host 'huggingface.co'. Adding certificate verification is strongly advised. See: https://urllib3.readthedocs.io/en/1.26.x/advanced-usage.html#ssl-warnings\n",
      "  warnings.warn(\n",
      "C:\\Users\\ext-lugo\\Anaconda3\\envs\\pole-analysis\\lib\\site-packages\\urllib3\\connectionpool.py:1056: InsecureRequestWarning: Unverified HTTPS request is being made to host 'huggingface.co'. Adding certificate verification is strongly advised. See: https://urllib3.readthedocs.io/en/1.26.x/advanced-usage.html#ssl-warnings\n",
      "  warnings.warn(\n"
     ]
    },
    {
     "name": "stdout",
     "output_type": "stream",
     "text": [
      "Before NMS: 1 boxes\n",
      "After NMS: 1 boxes\n",
      "final text_encoder_type: bert-base-uncased\n"
     ]
    },
    {
     "name": "stderr",
     "output_type": "stream",
     "text": [
      "C:\\Users\\ext-lugo\\Anaconda3\\envs\\pole-analysis\\lib\\site-packages\\urllib3\\connectionpool.py:1056: InsecureRequestWarning: Unverified HTTPS request is being made to host 'huggingface.co'. Adding certificate verification is strongly advised. See: https://urllib3.readthedocs.io/en/1.26.x/advanced-usage.html#ssl-warnings\n",
      "  warnings.warn(\n",
      "C:\\Users\\ext-lugo\\Anaconda3\\envs\\pole-analysis\\lib\\site-packages\\urllib3\\connectionpool.py:1056: InsecureRequestWarning: Unverified HTTPS request is being made to host 'huggingface.co'. Adding certificate verification is strongly advised. See: https://urllib3.readthedocs.io/en/1.26.x/advanced-usage.html#ssl-warnings\n",
      "  warnings.warn(\n",
      "C:\\Users\\ext-lugo\\Anaconda3\\envs\\pole-analysis\\lib\\site-packages\\urllib3\\connectionpool.py:1056: InsecureRequestWarning: Unverified HTTPS request is being made to host 'huggingface.co'. Adding certificate verification is strongly advised. See: https://urllib3.readthedocs.io/en/1.26.x/advanced-usage.html#ssl-warnings\n",
      "  warnings.warn(\n"
     ]
    },
    {
     "name": "stdout",
     "output_type": "stream",
     "text": [
      "Before NMS: 1 boxes\n",
      "After NMS: 1 boxes\n",
      "final text_encoder_type: bert-base-uncased\n"
     ]
    },
    {
     "name": "stderr",
     "output_type": "stream",
     "text": [
      "C:\\Users\\ext-lugo\\Anaconda3\\envs\\pole-analysis\\lib\\site-packages\\urllib3\\connectionpool.py:1056: InsecureRequestWarning: Unverified HTTPS request is being made to host 'huggingface.co'. Adding certificate verification is strongly advised. See: https://urllib3.readthedocs.io/en/1.26.x/advanced-usage.html#ssl-warnings\n",
      "  warnings.warn(\n",
      "C:\\Users\\ext-lugo\\Anaconda3\\envs\\pole-analysis\\lib\\site-packages\\urllib3\\connectionpool.py:1056: InsecureRequestWarning: Unverified HTTPS request is being made to host 'huggingface.co'. Adding certificate verification is strongly advised. See: https://urllib3.readthedocs.io/en/1.26.x/advanced-usage.html#ssl-warnings\n",
      "  warnings.warn(\n",
      "C:\\Users\\ext-lugo\\Anaconda3\\envs\\pole-analysis\\lib\\site-packages\\urllib3\\connectionpool.py:1056: InsecureRequestWarning: Unverified HTTPS request is being made to host 'huggingface.co'. Adding certificate verification is strongly advised. See: https://urllib3.readthedocs.io/en/1.26.x/advanced-usage.html#ssl-warnings\n",
      "  warnings.warn(\n"
     ]
    },
    {
     "name": "stdout",
     "output_type": "stream",
     "text": [
      "Before NMS: 1 boxes\n",
      "After NMS: 1 boxes\n",
      "final text_encoder_type: bert-base-uncased\n"
     ]
    },
    {
     "name": "stderr",
     "output_type": "stream",
     "text": [
      "C:\\Users\\ext-lugo\\Anaconda3\\envs\\pole-analysis\\lib\\site-packages\\urllib3\\connectionpool.py:1056: InsecureRequestWarning: Unverified HTTPS request is being made to host 'huggingface.co'. Adding certificate verification is strongly advised. See: https://urllib3.readthedocs.io/en/1.26.x/advanced-usage.html#ssl-warnings\n",
      "  warnings.warn(\n",
      "C:\\Users\\ext-lugo\\Anaconda3\\envs\\pole-analysis\\lib\\site-packages\\urllib3\\connectionpool.py:1056: InsecureRequestWarning: Unverified HTTPS request is being made to host 'huggingface.co'. Adding certificate verification is strongly advised. See: https://urllib3.readthedocs.io/en/1.26.x/advanced-usage.html#ssl-warnings\n",
      "  warnings.warn(\n",
      "C:\\Users\\ext-lugo\\Anaconda3\\envs\\pole-analysis\\lib\\site-packages\\urllib3\\connectionpool.py:1056: InsecureRequestWarning: Unverified HTTPS request is being made to host 'huggingface.co'. Adding certificate verification is strongly advised. See: https://urllib3.readthedocs.io/en/1.26.x/advanced-usage.html#ssl-warnings\n",
      "  warnings.warn(\n"
     ]
    },
    {
     "name": "stdout",
     "output_type": "stream",
     "text": [
      "Before NMS: 1 boxes\n",
      "After NMS: 1 boxes\n",
      "final text_encoder_type: bert-base-uncased\n"
     ]
    },
    {
     "name": "stderr",
     "output_type": "stream",
     "text": [
      "C:\\Users\\ext-lugo\\Anaconda3\\envs\\pole-analysis\\lib\\site-packages\\urllib3\\connectionpool.py:1056: InsecureRequestWarning: Unverified HTTPS request is being made to host 'huggingface.co'. Adding certificate verification is strongly advised. See: https://urllib3.readthedocs.io/en/1.26.x/advanced-usage.html#ssl-warnings\n",
      "  warnings.warn(\n",
      "C:\\Users\\ext-lugo\\Anaconda3\\envs\\pole-analysis\\lib\\site-packages\\urllib3\\connectionpool.py:1056: InsecureRequestWarning: Unverified HTTPS request is being made to host 'huggingface.co'. Adding certificate verification is strongly advised. See: https://urllib3.readthedocs.io/en/1.26.x/advanced-usage.html#ssl-warnings\n",
      "  warnings.warn(\n",
      "C:\\Users\\ext-lugo\\Anaconda3\\envs\\pole-analysis\\lib\\site-packages\\urllib3\\connectionpool.py:1056: InsecureRequestWarning: Unverified HTTPS request is being made to host 'huggingface.co'. Adding certificate verification is strongly advised. See: https://urllib3.readthedocs.io/en/1.26.x/advanced-usage.html#ssl-warnings\n",
      "  warnings.warn(\n"
     ]
    },
    {
     "name": "stdout",
     "output_type": "stream",
     "text": [
      "Before NMS: 1 boxes\n",
      "After NMS: 1 boxes\n",
      "final text_encoder_type: bert-base-uncased\n"
     ]
    },
    {
     "name": "stderr",
     "output_type": "stream",
     "text": [
      "C:\\Users\\ext-lugo\\Anaconda3\\envs\\pole-analysis\\lib\\site-packages\\urllib3\\connectionpool.py:1056: InsecureRequestWarning: Unverified HTTPS request is being made to host 'huggingface.co'. Adding certificate verification is strongly advised. See: https://urllib3.readthedocs.io/en/1.26.x/advanced-usage.html#ssl-warnings\n",
      "  warnings.warn(\n",
      "C:\\Users\\ext-lugo\\Anaconda3\\envs\\pole-analysis\\lib\\site-packages\\urllib3\\connectionpool.py:1056: InsecureRequestWarning: Unverified HTTPS request is being made to host 'huggingface.co'. Adding certificate verification is strongly advised. See: https://urllib3.readthedocs.io/en/1.26.x/advanced-usage.html#ssl-warnings\n",
      "  warnings.warn(\n",
      "C:\\Users\\ext-lugo\\Anaconda3\\envs\\pole-analysis\\lib\\site-packages\\urllib3\\connectionpool.py:1056: InsecureRequestWarning: Unverified HTTPS request is being made to host 'huggingface.co'. Adding certificate verification is strongly advised. See: https://urllib3.readthedocs.io/en/1.26.x/advanced-usage.html#ssl-warnings\n",
      "  warnings.warn(\n"
     ]
    },
    {
     "name": "stdout",
     "output_type": "stream",
     "text": [
      "Before NMS: 1 boxes\n",
      "After NMS: 1 boxes\n",
      "final text_encoder_type: bert-base-uncased\n"
     ]
    },
    {
     "name": "stderr",
     "output_type": "stream",
     "text": [
      "C:\\Users\\ext-lugo\\Anaconda3\\envs\\pole-analysis\\lib\\site-packages\\urllib3\\connectionpool.py:1056: InsecureRequestWarning: Unverified HTTPS request is being made to host 'huggingface.co'. Adding certificate verification is strongly advised. See: https://urllib3.readthedocs.io/en/1.26.x/advanced-usage.html#ssl-warnings\n",
      "  warnings.warn(\n",
      "C:\\Users\\ext-lugo\\Anaconda3\\envs\\pole-analysis\\lib\\site-packages\\urllib3\\connectionpool.py:1056: InsecureRequestWarning: Unverified HTTPS request is being made to host 'huggingface.co'. Adding certificate verification is strongly advised. See: https://urllib3.readthedocs.io/en/1.26.x/advanced-usage.html#ssl-warnings\n",
      "  warnings.warn(\n",
      "C:\\Users\\ext-lugo\\Anaconda3\\envs\\pole-analysis\\lib\\site-packages\\urllib3\\connectionpool.py:1056: InsecureRequestWarning: Unverified HTTPS request is being made to host 'huggingface.co'. Adding certificate verification is strongly advised. See: https://urllib3.readthedocs.io/en/1.26.x/advanced-usage.html#ssl-warnings\n",
      "  warnings.warn(\n"
     ]
    },
    {
     "name": "stdout",
     "output_type": "stream",
     "text": [
      "Before NMS: 1 boxes\n",
      "After NMS: 1 boxes\n",
      "final text_encoder_type: bert-base-uncased\n"
     ]
    },
    {
     "name": "stderr",
     "output_type": "stream",
     "text": [
      "C:\\Users\\ext-lugo\\Anaconda3\\envs\\pole-analysis\\lib\\site-packages\\urllib3\\connectionpool.py:1056: InsecureRequestWarning: Unverified HTTPS request is being made to host 'huggingface.co'. Adding certificate verification is strongly advised. See: https://urllib3.readthedocs.io/en/1.26.x/advanced-usage.html#ssl-warnings\n",
      "  warnings.warn(\n",
      "C:\\Users\\ext-lugo\\Anaconda3\\envs\\pole-analysis\\lib\\site-packages\\urllib3\\connectionpool.py:1056: InsecureRequestWarning: Unverified HTTPS request is being made to host 'huggingface.co'. Adding certificate verification is strongly advised. See: https://urllib3.readthedocs.io/en/1.26.x/advanced-usage.html#ssl-warnings\n",
      "  warnings.warn(\n",
      "C:\\Users\\ext-lugo\\Anaconda3\\envs\\pole-analysis\\lib\\site-packages\\urllib3\\connectionpool.py:1056: InsecureRequestWarning: Unverified HTTPS request is being made to host 'huggingface.co'. Adding certificate verification is strongly advised. See: https://urllib3.readthedocs.io/en/1.26.x/advanced-usage.html#ssl-warnings\n",
      "  warnings.warn(\n"
     ]
    },
    {
     "name": "stdout",
     "output_type": "stream",
     "text": [
      "Before NMS: 1 boxes\n",
      "After NMS: 1 boxes\n",
      "final text_encoder_type: bert-base-uncased\n"
     ]
    },
    {
     "name": "stderr",
     "output_type": "stream",
     "text": [
      "C:\\Users\\ext-lugo\\Anaconda3\\envs\\pole-analysis\\lib\\site-packages\\urllib3\\connectionpool.py:1056: InsecureRequestWarning: Unverified HTTPS request is being made to host 'huggingface.co'. Adding certificate verification is strongly advised. See: https://urllib3.readthedocs.io/en/1.26.x/advanced-usage.html#ssl-warnings\n",
      "  warnings.warn(\n",
      "C:\\Users\\ext-lugo\\Anaconda3\\envs\\pole-analysis\\lib\\site-packages\\urllib3\\connectionpool.py:1056: InsecureRequestWarning: Unverified HTTPS request is being made to host 'huggingface.co'. Adding certificate verification is strongly advised. See: https://urllib3.readthedocs.io/en/1.26.x/advanced-usage.html#ssl-warnings\n",
      "  warnings.warn(\n",
      "C:\\Users\\ext-lugo\\Anaconda3\\envs\\pole-analysis\\lib\\site-packages\\urllib3\\connectionpool.py:1056: InsecureRequestWarning: Unverified HTTPS request is being made to host 'huggingface.co'. Adding certificate verification is strongly advised. See: https://urllib3.readthedocs.io/en/1.26.x/advanced-usage.html#ssl-warnings\n",
      "  warnings.warn(\n"
     ]
    },
    {
     "name": "stdout",
     "output_type": "stream",
     "text": [
      "Before NMS: 1 boxes\n",
      "After NMS: 1 boxes\n",
      "final text_encoder_type: bert-base-uncased\n"
     ]
    },
    {
     "name": "stderr",
     "output_type": "stream",
     "text": [
      "C:\\Users\\ext-lugo\\Anaconda3\\envs\\pole-analysis\\lib\\site-packages\\urllib3\\connectionpool.py:1056: InsecureRequestWarning: Unverified HTTPS request is being made to host 'huggingface.co'. Adding certificate verification is strongly advised. See: https://urllib3.readthedocs.io/en/1.26.x/advanced-usage.html#ssl-warnings\n",
      "  warnings.warn(\n",
      "C:\\Users\\ext-lugo\\Anaconda3\\envs\\pole-analysis\\lib\\site-packages\\urllib3\\connectionpool.py:1056: InsecureRequestWarning: Unverified HTTPS request is being made to host 'huggingface.co'. Adding certificate verification is strongly advised. See: https://urllib3.readthedocs.io/en/1.26.x/advanced-usage.html#ssl-warnings\n",
      "  warnings.warn(\n",
      "C:\\Users\\ext-lugo\\Anaconda3\\envs\\pole-analysis\\lib\\site-packages\\urllib3\\connectionpool.py:1056: InsecureRequestWarning: Unverified HTTPS request is being made to host 'huggingface.co'. Adding certificate verification is strongly advised. See: https://urllib3.readthedocs.io/en/1.26.x/advanced-usage.html#ssl-warnings\n",
      "  warnings.warn(\n"
     ]
    },
    {
     "name": "stdout",
     "output_type": "stream",
     "text": [
      "Before NMS: 1 boxes\n",
      "After NMS: 1 boxes\n",
      "final text_encoder_type: bert-base-uncased\n"
     ]
    },
    {
     "name": "stderr",
     "output_type": "stream",
     "text": [
      "C:\\Users\\ext-lugo\\Anaconda3\\envs\\pole-analysis\\lib\\site-packages\\urllib3\\connectionpool.py:1056: InsecureRequestWarning: Unverified HTTPS request is being made to host 'huggingface.co'. Adding certificate verification is strongly advised. See: https://urllib3.readthedocs.io/en/1.26.x/advanced-usage.html#ssl-warnings\n",
      "  warnings.warn(\n",
      "C:\\Users\\ext-lugo\\Anaconda3\\envs\\pole-analysis\\lib\\site-packages\\urllib3\\connectionpool.py:1056: InsecureRequestWarning: Unverified HTTPS request is being made to host 'huggingface.co'. Adding certificate verification is strongly advised. See: https://urllib3.readthedocs.io/en/1.26.x/advanced-usage.html#ssl-warnings\n",
      "  warnings.warn(\n",
      "C:\\Users\\ext-lugo\\Anaconda3\\envs\\pole-analysis\\lib\\site-packages\\urllib3\\connectionpool.py:1056: InsecureRequestWarning: Unverified HTTPS request is being made to host 'huggingface.co'. Adding certificate verification is strongly advised. See: https://urllib3.readthedocs.io/en/1.26.x/advanced-usage.html#ssl-warnings\n",
      "  warnings.warn(\n"
     ]
    },
    {
     "name": "stdout",
     "output_type": "stream",
     "text": [
      "Before NMS: 1 boxes\n",
      "After NMS: 1 boxes\n"
     ]
    }
   ],
   "source": [
    "for pole_id in [0,5,6,30,41]:\n",
    "    for rotation_idx in range(4):\n",
    "        crop_hyper(pole_id,rotation_idx)"
   ]
  },
  {
   "cell_type": "code",
   "execution_count": null,
   "id": "fd6160b7-158a-4f91-a232-1cfef436307b",
   "metadata": {},
   "outputs": [],
   "source": []
  }
 ],
 "metadata": {
  "kernelspec": {
   "display_name": "Python 3 (ipykernel)",
   "language": "python",
   "name": "python3"
  },
  "language_info": {
   "codemirror_mode": {
    "name": "ipython",
    "version": 3
   },
   "file_extension": ".py",
   "mimetype": "text/x-python",
   "name": "python",
   "nbconvert_exporter": "python",
   "pygments_lexer": "ipython3",
   "version": "3.8.17"
  }
 },
 "nbformat": 4,
 "nbformat_minor": 5
}
