{
 "cells": [
  {
   "cell_type": "markdown",
   "id": "5de1c3ab-e878-4366-97c6-f222e488ed77",
   "metadata": {},
   "source": [
    "# PCD normal visualizer"
   ]
  },
  {
   "cell_type": "markdown",
   "id": "16aee0b3-221a-40c2-9285-bd384744a4d3",
   "metadata": {},
   "source": [
    "An idea to check for roughness in the pole surface using PCD data: use the pole normals"
   ]
  },
  {
   "cell_type": "code",
   "execution_count": 22,
   "id": "4b40e264-08a5-490a-9b3f-4003d28a9e67",
   "metadata": {
    "tags": []
   },
   "outputs": [],
   "source": [
    "import open3d as o3d\n",
    "import cv2\n",
    "import numpy as np\n",
    "import os\n",
    "import copy\n",
    "import matplotlib.pyplot as plt\n",
    "import seaborn as sns\n",
    "\n",
    "from math import sqrt\n",
    "from collections import defaultdict\n",
    "from scipy.stats import gaussian_kde"
   ]
  },
  {
   "cell_type": "code",
   "execution_count": 27,
   "id": "b9f4a252-f807-4340-9902-5d65f1e2f0d0",
   "metadata": {
    "tags": []
   },
   "outputs": [],
   "source": [
    "def cut_pole(pole_id, rotation, draw=False):\n",
    "    pole_dir = f'../Data/LiDAR/{pole_id}/3d/{rotation}'\n",
    "    pointcloud = o3d.io.read_point_cloud(os.path.join(pole_dir, 'cloud_merged.pcd'))\n",
    "    pointcloud_as_array = np.asarray(pointcloud.points)\n",
    "    \n",
    "    X = 0\n",
    "    Ymin = -0.83\n",
    "    Z = -1.25\n",
    "    Zmin = -1.5\n",
    "    dist = 0.4\n",
    "    \n",
    "    final_pointcloud_array = []\n",
    "    \n",
    "    for point in pointcloud_as_array:\n",
    "        if (sqrt((X - point[0])**2 + (Z - point[2])**2) < dist) and (point[1] > Ymin) and (point[2] > Zmin):\n",
    "            final_pointcloud_array.append(point)\n",
    "    \n",
    "    final_pointcloud = o3d.geometry.PointCloud()\n",
    "    final_pointcloud.points = o3d.utility.Vector3dVector(final_pointcloud_array)\n",
    "    final_pointcloud.estimate_normals(search_param=o3d.geometry.KDTreeSearchParamHybrid(radius=0.1, max_nn=30))\n",
    "    \n",
    "    if draw:\n",
    "        o3d.visualization.draw_geometries([final_pointcloud], point_show_normal=True)\n",
    "    \n",
    "    else:\n",
    "        return final_pointcloud"
   ]
  },
  {
   "cell_type": "code",
   "execution_count": 29,
   "id": "9c58a611-4b8d-4473-8db5-425a34b453d7",
   "metadata": {
    "tags": []
   },
   "outputs": [],
   "source": [
    "cut_pole(0, 0, True)"
   ]
  },
  {
   "cell_type": "code",
   "execution_count": null,
   "id": "20e6d9e2-f9f1-4132-a3da-bb616210733b",
   "metadata": {},
   "outputs": [],
   "source": []
  }
 ],
 "metadata": {
  "kernelspec": {
   "display_name": "Python 3 (ipykernel)",
   "language": "python",
   "name": "python3"
  },
  "language_info": {
   "codemirror_mode": {
    "name": "ipython",
    "version": 3
   },
   "file_extension": ".py",
   "mimetype": "text/x-python",
   "name": "python",
   "nbconvert_exporter": "python",
   "pygments_lexer": "ipython3",
   "version": "3.8.17"
  }
 },
 "nbformat": 4,
 "nbformat_minor": 5
}
