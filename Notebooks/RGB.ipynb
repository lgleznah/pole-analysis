{
 "cells": [
  {
   "cell_type": "markdown",
   "id": "4133ffa7-a25f-4f82-8a3d-838d02854942",
   "metadata": {},
   "source": [
    "# Análisis de las imágenes de los troncos"
   ]
  },
  {
   "cell_type": "code",
   "execution_count": null,
   "id": "6c4f9b87-0fd4-42f0-b235-bac22985429d",
   "metadata": {
    "tags": []
   },
   "outputs": [],
   "source": [
    "import cv2\n",
    "import matplotlib.pyplot as plt\n",
    "import numpy as np\n",
    "import PIL.Image\n",
    "import PIL.ExifTags\n",
    "import pandas as pd\n",
    "\n",
    "from math import cos, sin\n",
    "from collections import defaultdict"
   ]
  },
  {
   "cell_type": "code",
   "execution_count": null,
   "id": "666330d1-b839-4780-9d04-62d0ab192e64",
   "metadata": {
    "tags": []
   },
   "outputs": [],
   "source": [
    "image = cv2.imread('../Data/RGB/30_0.jpg')\n",
    "image = cv2.cvtColor(image, cv2.COLOR_BGR2RGB)"
   ]
  },
  {
   "cell_type": "code",
   "execution_count": null,
   "id": "60fd1d48-f983-47be-a8e6-c96946a29316",
   "metadata": {
    "tags": []
   },
   "outputs": [],
   "source": [
    "plt.imshow(image)"
   ]
  },
  {
   "cell_type": "markdown",
   "id": "ae8071eb-0cdb-4e9b-9f42-a93d0eebee0b",
   "metadata": {},
   "source": [
    "# Datos EXIF de las imágenes (por si hay algo relevante)"
   ]
  },
  {
   "cell_type": "code",
   "execution_count": null,
   "id": "072e81e3-ad9e-4af0-bcdf-2a6528af4f06",
   "metadata": {
    "tags": []
   },
   "outputs": [],
   "source": [
    "def get_exif(image_path):\n",
    "    img = PIL.Image.open(image_path)\n",
    "    exif = {\n",
    "        PIL.ExifTags.TAGS[k]: v\n",
    "        for k, v in img._getexif().items()\n",
    "        if k in PIL.ExifTags.TAGS\n",
    "    }\n",
    "    \n",
    "    return exif"
   ]
  },
  {
   "cell_type": "code",
   "execution_count": null,
   "id": "d9cc2cd4-ea0c-449a-a37c-42ace1008367",
   "metadata": {
    "tags": []
   },
   "outputs": [],
   "source": [
    "get_exif('../Data/RGB/30_0.jpg')"
   ]
  },
  {
   "cell_type": "markdown",
   "id": "a891ee91-b116-490a-90d2-e6bc78736e12",
   "metadata": {},
   "source": [
    "# Static saliency"
   ]
  },
  {
   "cell_type": "code",
   "execution_count": null,
   "id": "f28ec16e-19e4-4411-a8bd-86d2cb65af34",
   "metadata": {},
   "outputs": [],
   "source": [
    "saliency = cv2.saliency.StaticSaliencySpectralResidual_create()\n",
    "(success, saliencyMap) = saliency.computeSaliency(image)\n",
    "saliencyMap = (saliencyMap * 255).astype(\"uint8\")plt.imshow(image)\n",
    "plt.imshow(saliencyMap)"
   ]
  },
  {
   "cell_type": "markdown",
   "id": "9fb3531c-c3e0-407c-af25-31321738f6b2",
   "metadata": {},
   "source": [
    "# Fine-grained saliency"
   ]
  },
  {
   "cell_type": "code",
   "execution_count": null,
   "id": "c2827c9d-b9b7-4fed-8e79-3d79e08ca6a0",
   "metadata": {},
   "outputs": [],
   "source": [
    "saliency = cv2.saliency.StaticSaliencyFineGrained_create()\n",
    "(success, saliencyMap) = saliency.computeSaliency(image)\n",
    "\n",
    "threshMap = cv2.threshold(saliencyMap.astype(\"uint8\"), 0, 255, cv2.THRESH_BINARY | cv2.THRESH_OTSU)[1]\n",
    "plt.imshow(saliencyMap)"
   ]
  },
  {
   "cell_type": "markdown",
   "id": "1e3a553b-0b6a-4a5e-a720-bf05ebec0468",
   "metadata": {},
   "source": [
    "# Contours (bbox)"
   ]
  },
  {
   "cell_type": "code",
   "execution_count": null,
   "id": "a3c2cd82-1594-42a4-b274-748b984aa8c7",
   "metadata": {
    "tags": []
   },
   "outputs": [],
   "source": [
    "def bbox_area(bbox):\n",
    "    return bbox[1][0] * bbox[1][1]\n",
    "\n",
    "def subimage(image, center, theta, width, height):\n",
    "    theta *= 3.14159 / 180 # convert to rad\n",
    "\n",
    "    v_x = (cos(theta), sin(theta))\n",
    "    v_y = (-sin(theta), cos(theta))\n",
    "    s_x = center[0] - v_x[0] * ((width-1) / 2) - v_y[0] * ((height-1) / 2)\n",
    "    s_y = center[1] - v_x[1] * ((width-1) / 2) - v_y[1] * ((height-1) / 2)\n",
    "\n",
    "    mapping = np.array([[v_x[0],v_y[0], s_x],\n",
    "                        [v_x[1],v_y[1], s_y]])\n",
    "\n",
    "    return cv2.warpAffine(image,mapping,(width, height),flags=cv2.WARP_INVERSE_MAP,borderMode=cv2.BORDER_REPLICATE)\n",
    "\n",
    "def bbox_contours(image_path, draw=True):\n",
    "    image = cv2.imread(image_path)\n",
    "    image = cv2.cvtColor(image, cv2.COLOR_BGR2RGB)\n",
    "    \n",
    "    imgray = cv2.cvtColor(image, cv2.COLOR_BGR2GRAY)\n",
    "    ret, thresh = cv2.threshold(imgray, 100, 255, cv2.THRESH_BINARY)\n",
    "    \n",
    "    contours, hierarchy = cv2.findContours(thresh, cv2.RETR_TREE, cv2.CHAIN_APPROX_NONE)\n",
    "    contours = [cont for cont in contours if len(cont) >= 10000]\n",
    "    contours.sort(key = len)\n",
    "    contours = contours[:-1]\n",
    "    \n",
    "    boundRects = []\n",
    "    for i, c in enumerate(contours):\n",
    "        boundRects.append(cv2.minAreaRect(c))\n",
    "        \n",
    "    boundRectsAreas = [bbox_area(rect) for rect in boundRects]\n",
    "    maxBoundRect = np.argmax(boundRectsAreas)\n",
    "    \n",
    "    if draw:\n",
    "        contours = [contours[maxBoundRect]]\n",
    "        boundRects = [boundRects[maxBoundRect]]\n",
    "        \n",
    "        imcopy = image.copy()\n",
    "        cv2.drawContours(imcopy, contours, contourIdx=-1, color=(0, 255, 0), thickness=10, lineType=cv2.LINE_AA)\n",
    "        for i in range(len(contours)):\n",
    "            box = cv2.boxPoints(boundRects[i])\n",
    "            box = np.intp(box) #np.intp: Integer used for indexing (same as C ssize_t; normally either int32 or int64)\n",
    "            cv2.drawContours(imcopy, [box], 0, (255,0,0), thickness=50)\n",
    "\n",
    "        plt.figure(figsize = (9, 12))\n",
    "        plt.imshow(imcopy)\n",
    "        plt.savefig('../Figures/bbox_contour.jpg')\n",
    "    \n",
    "    else:\n",
    "        bestbBox = boundRects[maxBoundRect]\n",
    "        img_crop = subimage(image, bestbBox[0], bestbBox[2], int(bestbBox[1][0]), int(bestbBox[1][1]))\n",
    "        return img_crop\n",
    "\n",
    "\n",
    "rotations = ['0', '90', '180', '270']\n",
    "ids = ['Ny', '5', '6', '30', '41']\n",
    "\n",
    "for rot in rotations:\n",
    "    for pid in ids:\n",
    "        path = f'RGB/{pid}_{rot}.jpg'\n",
    "        pole_crop = bbox_contours(path, draw=False)\n",
    "        pole_crop = cv2.cvtColor(pole_crop, cv2.COLOR_BGR2RGB)\n",
    "        if (pole_crop.shape[0] < pole_crop.shape[1]):\n",
    "            pole_crop = np.flip(np.swapaxes(pole_crop, 0, 1), 1)\n",
    "        cv2.imwrite(f'../Data/RGB/crops/{pid}_{rot}_crop.jpg', pole_crop)"
   ]
  },
  {
   "cell_type": "markdown",
   "id": "f8513041-e81f-4fed-942c-6c15f151f30f",
   "metadata": {},
   "source": [
    "# Contours (masked)"
   ]
  },
  {
   "cell_type": "code",
   "execution_count": null,
   "id": "4181f677-0f58-4382-9b15-e7afaacfe764",
   "metadata": {
    "tags": []
   },
   "outputs": [],
   "source": [
    "def keep_largest_mask_component(mask):\n",
    "    mask = mask.astype('uint8')\n",
    "    nb_components, output, stats, centroids = cv2.connectedComponentsWithStats(mask, connectivity=4)\n",
    "    sizes = stats[:, -1]\n",
    "\n",
    "    max_label = 1\n",
    "    max_size = sizes[1]\n",
    "    for i in range(2, nb_components):\n",
    "        if sizes[i] > max_size:\n",
    "            max_label = i\n",
    "            max_size = sizes[i]\n",
    "\n",
    "    img2 = np.zeros(output.shape)\n",
    "    img2[output == max_label] = 255\n",
    "    return img2\n",
    "\n",
    "def mask_contours(image_path, draw=True):\n",
    "    image = cv2.imread(image_path)\n",
    "    image = cv2.cvtColor(image, cv2.COLOR_BGR2RGB)\n",
    "    \n",
    "    imgray = cv2.cvtColor(image, cv2.COLOR_BGR2GRAY)\n",
    "    ret, thresh = cv2.threshold(imgray, 100, 255, cv2.THRESH_BINARY)\n",
    "    \n",
    "    contours, hierarchy = cv2.findContours(thresh, cv2.RETR_TREE, cv2.CHAIN_APPROX_NONE)\n",
    "    contours = [cont for cont in contours if len(cont) >= 10000]\n",
    "    contours.sort(key = len)\n",
    "    contours = contours[:-1]\n",
    "    \n",
    "    mask = np.zeros_like(image)\n",
    "    cv2.drawContours(mask, contours, -1, 255, -1)\n",
    "    mask = keep_largest_mask_component(mask[:,:,0])\n",
    "    mask = np.repeat(mask[...,np.newaxis], 3, axis=2)\n",
    "    out = np.zeros_like(image)\n",
    "    out[mask == 255] = image[mask == 255]\n",
    "\n",
    "    if draw:\n",
    "        plt.figure(figsize = (9, 12))\n",
    "        plt.imshow(out)\n",
    "    \n",
    "    else:\n",
    "        return out, mask\n",
    "\n",
    "\n",
    "rotations = ['0', '90', '180', '270']\n",
    "ids = ['Ny', '5', '6', '30', '41']\n",
    "\n",
    "for rot in rotations:\n",
    "    for pid in ids:\n",
    "        path = f'../Data/RGB/{pid}_{rot}.jpg'\n",
    "        pole_crop, pole_mask = mask_contours(path, draw=False)\n",
    "        cv2.imwrite(f'../Data/RGB/crops/{pid}_{rot}_crop_masked.jpg', pole_crop)\n",
    "        cv2.imwrite(f'../Data/RGB/crops/{pid}_{rot}_crop_mask.jpg', pole_mask)"
   ]
  },
  {
   "cell_type": "markdown",
   "id": "c5569869-6ca9-4f33-b9b2-cbe51464a8fc",
   "metadata": {},
   "source": [
    "# Histogramas de color de los troncos"
   ]
  },
  {
   "cell_type": "code",
   "execution_count": null,
   "id": "33fe14eb-cc71-412b-adc9-000b1dc1288e",
   "metadata": {
    "tags": []
   },
   "outputs": [],
   "source": [
    "def extract_histograms(image):\n",
    "    bgr_planes = cv2.split(image)\n",
    "    histSize = 256\n",
    "    histRange = (0, 256) # the upper boundary is exclusive\n",
    "    accumulate = False\n",
    "    b_hist = cv2.calcHist(bgr_planes, [0], None, [histSize], histRange, accumulate=accumulate)\n",
    "    g_hist = cv2.calcHist(bgr_planes, [1], None, [histSize], histRange, accumulate=accumulate)\n",
    "    r_hist = cv2.calcHist(bgr_planes, [2], None, [histSize], histRange, accumulate=accumulate)\n",
    "    hist_w = 512\n",
    "    hist_h = 400\n",
    "    bin_w = int(round( hist_w/histSize ))\n",
    "    histImage = np.zeros((hist_h, hist_w, 3), dtype=np.uint8)\n",
    "    cv2.normalize(b_hist, b_hist, alpha=0, beta=hist_h, norm_type=cv2.NORM_MINMAX)\n",
    "    cv2.normalize(g_hist, g_hist, alpha=0, beta=hist_h, norm_type=cv2.NORM_MINMAX)\n",
    "    cv2.normalize(r_hist, r_hist, alpha=0, beta=hist_h, norm_type=cv2.NORM_MINMAX)\n",
    "    \n",
    "    return r_hist, g_hist, b_hist\n",
    "\n",
    "def visualize_histograms(color_scheme=cv2.COLOR_BGR2RGB):\n",
    "    fig, axes = plt.subplots(5, 8, figsize=(20,16))\n",
    "    pole_ids = ['Ny',30,41,6,5]\n",
    "    pole_status = ['31/37', '17/24', '15/24', '12/24', '11/24']\n",
    "    specific_status = ['New', 'Rotten', 'Cracks', 'Cracks', 'Rotten']\n",
    "\n",
    "    for pole_idx, pole_id in enumerate(pole_ids):\n",
    "        for rotation_idx, rotation in enumerate([0, 90, 180, 270]):\n",
    "            img = cv2.imread(f'../Data/RGB/crops/{pole_id}_{rotation}_crop.jpg')\n",
    "            img = cv2.cvtColor(img, cv2.COLOR_BGR2RGB)\n",
    "            r_hist, g_hist, b_hist = extract_histograms(img)\n",
    "            axes[pole_idx, rotation_idx*2].plot(range(256), r_hist, color='red')\n",
    "            axes[pole_idx, rotation_idx*2].plot(range(256), g_hist, color='green')\n",
    "            axes[pole_idx, rotation_idx*2].plot(range(256), b_hist, color='blue')\n",
    "            axes[pole_idx, rotation_idx*2+1].imshow(img)\n",
    "            axes[pole_idx, rotation_idx*2+1].set_xticks([])\n",
    "            axes[pole_idx, rotation_idx*2+1].set_yticks([])\n",
    "\n",
    "    fig.suptitle('Color histograms')\n",
    "\n",
    "    [axes[0,i*2].set_title(f'{i*90} degrees') for i in range(4)]\n",
    "\n",
    "    [axes[i,0].set_ylabel(f'Pole {pole}\\nStatus: {pole_status[i]}\\nCause: {specific_status[i]}', labelpad=50, fontdict={'rotation':0}) for i, pole in enumerate(pole_ids)]\n",
    "\n",
    "    plt.savefig('../Figures/histograms_color.jpg')\n",
    "    \n",
    "visualize_histograms()"
   ]
  },
  {
   "cell_type": "code",
   "execution_count": null,
   "id": "df259af8-ea61-4c0d-9e8a-adf8286f1ea9",
   "metadata": {
    "tags": []
   },
   "outputs": [],
   "source": [
    "def extract_histograms_gray(image):\n",
    "    histSize = 256\n",
    "    histRange = (0, 256) # the upper boundary is exclusive\n",
    "    accumulate = False\n",
    "    hist = cv2.calcHist([image], [0], None, [histSize], histRange, accumulate=accumulate)\n",
    "    hist_w = 512\n",
    "    hist_h = 400\n",
    "    bin_w = int(round( hist_w/histSize ))\n",
    "    histImage = np.zeros((hist_h, hist_w, 3), dtype=np.uint8)\n",
    "    cv2.normalize(hist, hist, alpha=0, beta=hist_h, norm_type=cv2.NORM_MINMAX)\n",
    "    \n",
    "    return hist\n",
    "\n",
    "def visualize_histograms_gray():\n",
    "    fig, axes = plt.subplots(5, 8, figsize=(20,16))\n",
    "    pole_ids = ['Ny',30,41,6,5]\n",
    "    pole_status = ['31/37', '17/24', '15/24', '12/24', '11/24']\n",
    "    specific_status = ['New', 'Rotten', 'Cracks', 'Cracks', 'Rotten']\n",
    "    pole_stdevs = []\n",
    "\n",
    "    for pole_idx, pole_id in enumerate(pole_ids):\n",
    "        pole_stdevs.append([])\n",
    "        for rotation_idx, rotation in enumerate([0, 90, 180, 270]):\n",
    "            img = cv2.imread(f'../Data/RGB/crops/{pole_id}_{rotation}_crop.jpg')\n",
    "            img = cv2.cvtColor(img, cv2.COLOR_BGR2GRAY)\n",
    "            hist = extract_histograms_gray(img)\n",
    "            axes[pole_idx, rotation_idx*2].plot(range(256), hist, color='black')\n",
    "            axes[pole_idx, rotation_idx*2+1].imshow(img, cmap='gray')\n",
    "            axes[pole_idx, rotation_idx*2+1].set_xticks([])\n",
    "            axes[pole_idx, rotation_idx*2+1].set_yticks([])\n",
    "            polrot_mean, polrot_std = np.mean(hist), np.std(hist)\n",
    "            pole_stdevs[pole_idx].append(polrot_std)\n",
    "\n",
    "    fig.suptitle('Color histograms')\n",
    "\n",
    "    [axes[0,i*2].set_title(f'{i*90} degrees') for i in range(4)]\n",
    "\n",
    "    [axes[i,0].set_ylabel(f'Pole {pole}\\nStatus: {pole_status[i]}\\nCause: {specific_status[i]}\\nMax deviation: {max(pole_stdevs[i]):.2f}', labelpad=60, fontdict={'rotation':0}) for i, pole in enumerate(pole_ids)]\n",
    "\n",
    "    plt.savefig('../Figures/histograms_gray.jpg')\n",
    "    \n",
    "visualize_histograms_gray()"
   ]
  },
  {
   "cell_type": "markdown",
   "id": "079dad9d-af52-4569-ac97-6af6b007ad8b",
   "metadata": {},
   "source": [
    "# Color histograms (masked poles)"
   ]
  },
  {
   "cell_type": "code",
   "execution_count": null,
   "id": "14956e37-6b87-45d9-a6be-4475621e3684",
   "metadata": {
    "tags": []
   },
   "outputs": [],
   "source": [
    "def extract_histograms_mask(image, mask):\n",
    "    bgr_planes = cv2.split(image)\n",
    "    histSize = 256\n",
    "    histRange = (0, 256) # the upper boundary is exclusive\n",
    "    accumulate = False\n",
    "    b_hist = cv2.calcHist(bgr_planes, [0], mask, [histSize], histRange, accumulate=accumulate)\n",
    "    g_hist = cv2.calcHist(bgr_planes, [1], mask, [histSize], histRange, accumulate=accumulate)\n",
    "    r_hist = cv2.calcHist(bgr_planes, [2], mask, [histSize], histRange, accumulate=accumulate)\n",
    "    hist_w = 512\n",
    "    hist_h = 400\n",
    "    bin_w = int(round( hist_w/histSize ))\n",
    "    histImage = np.zeros((hist_h, hist_w, 3), dtype=np.uint8)\n",
    "    cv2.normalize(b_hist, b_hist, alpha=0, beta=hist_h, norm_type=cv2.NORM_MINMAX)\n",
    "    cv2.normalize(g_hist, g_hist, alpha=0, beta=hist_h, norm_type=cv2.NORM_MINMAX)\n",
    "    cv2.normalize(r_hist, r_hist, alpha=0, beta=hist_h, norm_type=cv2.NORM_MINMAX)\n",
    "    \n",
    "    return r_hist, g_hist, b_hist\n",
    "\n",
    "def visualize_histograms(color_scheme=cv2.COLOR_BGR2RGB):\n",
    "    fig, axes = plt.subplots(5, 8, figsize=(20,16))\n",
    "    pole_ids = [0,30,41,6,5]\n",
    "    pole_status = ['31/37', '17/24', '15/24', '12/24', '11/24']\n",
    "    specific_status = ['New', 'Rotten', 'Cracks', 'Cracks', 'Rotten']\n",
    "    \n",
    "    data = defaultdict(list)\n",
    "    data['id'] = [0,30,41,6,5]\n",
    "\n",
    "    for pole_idx, pole_id in enumerate(pole_ids):\n",
    "        for rotation_idx, rotation in enumerate([0, 90, 180, 270]):\n",
    "            img = cv2.imread(f'../../RGB/sam_crops/{pole_id}_{rotation}_masked.jpg')\n",
    "            mask = cv2.imread(f'../../RGB/sam_crops/{pole_id}_{rotation}_mask.jpg')[:,:,0]\n",
    "            r_hist, g_hist, b_hist = extract_histograms_mask(img, mask)\n",
    "            axes[pole_idx, rotation_idx*2].plot(range(256), r_hist, color='red')\n",
    "            axes[pole_idx, rotation_idx*2].plot(range(256), g_hist, color='green')\n",
    "            axes[pole_idx, rotation_idx*2].plot(range(256), b_hist, color='blue')\n",
    "            axes[pole_idx, rotation_idx*2+1].imshow(img)\n",
    "            axes[pole_idx, rotation_idx*2+1].set_xticks([])\n",
    "            axes[pole_idx, rotation_idx*2+1].set_yticks([])\n",
    "            extent = axes[pole_idx, rotation_idx*2].get_window_extent().transformed(fig.dpi_scale_trans.inverted())\n",
    "            plt.savefig(f\"../Figures/histograms/{pole_id}_{rotation}.svg\", bbox_inches=extent)\n",
    "            \n",
    "            data[f'r_hist_mean_{rotation}_degrees'].append(np.mean(r_hist))\n",
    "            data[f'r_hist_std_{rotation}_degrees'].append(np.std(r_hist))\n",
    "            data[f'g_hist_mean_{rotation}_degrees'].append(np.mean(g_hist))\n",
    "            data[f'g_hist_std_{rotation}_degrees'].append(np.std(g_hist))\n",
    "            data[f'b_hist_mean_{rotation}_degrees'].append(np.mean(b_hist))\n",
    "            data[f'b_hist_std_{rotation}_degrees'].append(np.std(b_hist))\n",
    "\n",
    "    fig.suptitle('Color histograms')\n",
    "\n",
    "    [axes[0,i*2].set_title(f'{i*90} degrees') for i in range(4)]\n",
    "\n",
    "    [axes[i,0].set_ylabel(f'Pole {pole}\\nStatus: {pole_status[i]}\\nCause: {specific_status[i]}', labelpad=50, fontdict={'rotation':0}) for i, pole in enumerate(pole_ids)]\n",
    "\n",
    "    plt.savefig('../Figures/histograms_color.jpg')\n",
    "    \n",
    "    return data"
   ]
  },
  {
   "cell_type": "code",
   "execution_count": null,
   "id": "cf3fbafc-48ff-4363-add4-92e8b7c9c605",
   "metadata": {
    "tags": []
   },
   "outputs": [],
   "source": [
    "data = visualize_histograms()\n",
    "#df_kernel = pd.DataFrame(data)\n",
    "#df_kernel.to_csv(f'../Features/rgb_histograms.csv')"
   ]
  },
  {
   "cell_type": "code",
   "execution_count": null,
   "id": "c21f60a9-7f69-41ea-90e2-b46bf23c619e",
   "metadata": {
    "tags": []
   },
   "outputs": [],
   "source": [
    "def extract_histograms_gray_masked(image, mask):\n",
    "    histSize = 256\n",
    "    histRange = (0, 256) # the upper boundary is exclusive\n",
    "    accumulate = False\n",
    "    hist = cv2.calcHist([image], [0], mask, [histSize], histRange, accumulate=accumulate)\n",
    "    hist_w = 512\n",
    "    hist_h = 400\n",
    "    bin_w = int(round( hist_w/histSize ))\n",
    "    histImage = np.zeros((hist_h, hist_w, 3), dtype=np.uint8)\n",
    "    cv2.normalize(hist, hist, alpha=0, beta=hist_h, norm_type=cv2.NORM_MINMAX)\n",
    "    \n",
    "    return hist\n",
    "\n",
    "def visualize_histograms_gray():\n",
    "    fig, axes = plt.subplots(5, 8, figsize=(20,16))\n",
    "    pole_ids = ['Ny',30,41,6,5]\n",
    "    pole_status = ['31/37', '17/24', '15/24', '12/24', '11/24']\n",
    "    specific_status = ['New', 'Rotten', 'Cracks', 'Cracks', 'Rotten']\n",
    "    pole_stdevs = []\n",
    "    \n",
    "    data = defaultdict(list)\n",
    "    data['id'] = [0,30,41,6,5]\n",
    "\n",
    "    for pole_idx, pole_id in enumerate(pole_ids):\n",
    "        pole_stdevs.append([])\n",
    "        for rotation_idx, rotation in enumerate([0, 90, 180, 270]):\n",
    "            img = cv2.imread(f'../Data/RGB/crops/{pole_id}_{rotation}_crop_masked.jpg')\n",
    "            mask = cv2.imread(f'../Data/RGB/crops/{pole_id}_{rotation}_crop_mask.jpg')[:,:,0]\n",
    "            img = cv2.cvtColor(img, cv2.COLOR_RGB2GRAY)\n",
    "            hist = extract_histograms_gray_masked(img, mask)\n",
    "            axes[pole_idx, rotation_idx*2].plot(range(256), hist, color='black')\n",
    "            axes[pole_idx, rotation_idx*2+1].imshow(img, cmap='gray')\n",
    "            axes[pole_idx, rotation_idx*2+1].set_xticks([])\n",
    "            axes[pole_idx, rotation_idx*2+1].set_yticks([])\n",
    "            polrot_mean, polrot_std = np.mean(hist), np.std(hist)\n",
    "            pole_stdevs[pole_idx].append(polrot_std)\n",
    "            \n",
    "            data[f'gray_hist_mean_{rotation}_degrees'].append(np.mean(hist))\n",
    "            data[f'gray_hist_std_{rotation}_degrees'].append(np.std(hist))\n",
    "\n",
    "    fig.suptitle('Color histograms')\n",
    "\n",
    "    [axes[0,i*2].set_title(f'{i*90} degrees') for i in range(4)]\n",
    "\n",
    "    [axes[i,0].set_ylabel(f'Pole {pole}\\nStatus: {pole_status[i]}\\nCause: {specific_status[i]}\\nMax deviation: {max(pole_stdevs[i]):.2f}', labelpad=60, fontdict={'rotation':0}) for i, pole in enumerate(pole_ids)]\n",
    "\n",
    "    plt.savefig('../Figures/histograms_gray.jpg')\n",
    "    \n",
    "    return data"
   ]
  },
  {
   "cell_type": "code",
   "execution_count": null,
   "id": "4427db95-bf39-4265-a8f9-b37a72c72e36",
   "metadata": {
    "tags": []
   },
   "outputs": [],
   "source": [
    "data = visualize_histograms_gray()\n",
    "df_gray = pd.DataFrame(data)\n",
    "df_gray.to_csv(f'../Features/gray_histograms.csv')"
   ]
  },
  {
   "cell_type": "code",
   "execution_count": null,
   "id": "a7c6cfdc-7588-46b3-9d37-ead9753e359f",
   "metadata": {},
   "outputs": [],
   "source": []
  }
 ],
 "metadata": {
  "kernelspec": {
   "display_name": "Python 3",
   "language": "python",
   "name": "python3"
  },
  "language_info": {
   "codemirror_mode": {
    "name": "ipython",
    "version": 3
   },
   "file_extension": ".py",
   "mimetype": "text/x-python",
   "name": "python",
   "nbconvert_exporter": "python",
   "pygments_lexer": "ipython3",
   "version": "3.8.17"
  }
 },
 "nbformat": 4,
 "nbformat_minor": 5
}
