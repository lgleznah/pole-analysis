{
 "cells": [
  {
   "cell_type": "markdown",
   "id": "1fe2776e-ed5d-47c3-9441-db995515f333",
   "metadata": {},
   "source": [
    "# Gabor kernel visualizer"
   ]
  },
  {
   "cell_type": "markdown",
   "id": "7be78ef0-1880-4391-bd6b-949d0f645ba4",
   "metadata": {},
   "source": [
    "This is just a simple tool to visualize different Gabor Kernel configurations, using OpenCV's Gabor kernel generator"
   ]
  },
  {
   "cell_type": "code",
   "execution_count": 1,
   "id": "0c9bc881-f34e-49f6-9987-8c92b0ca25ed",
   "metadata": {
    "tags": []
   },
   "outputs": [],
   "source": [
    "import cv2\n",
    "import numpy as np\n",
    "import matplotlib.pyplot as plt\n",
    "\n",
    "from ipywidgets import interact"
   ]
  },
  {
   "cell_type": "code",
   "execution_count": 3,
   "id": "0da237a6-0eda-4af4-89e2-7e423833e14e",
   "metadata": {
    "tags": []
   },
   "outputs": [
    {
     "data": {
      "application/vnd.jupyter.widget-view+json": {
       "model_id": "c23b1c5e291b4f4aa08c88b8258c0252",
       "version_major": 2,
       "version_minor": 0
      },
      "text/plain": [
       "interactive(children=(IntSlider(value=1000, description='xsize', max=1000, min=10), IntSlider(value=1000, desc…"
      ]
     },
     "metadata": {},
     "output_type": "display_data"
    },
    {
     "data": {
      "text/plain": [
       "<function __main__.gabor_interactive(xsize=1000, ysize=1000, sigma=100, theta=0, lambd=1, gamma=0.4, psi=0)>"
      ]
     },
     "execution_count": 3,
     "metadata": {},
     "output_type": "execute_result"
    }
   ],
   "source": [
    "def gabor_interactive(xsize=1000, ysize=1000, sigma=100, theta=0, lambd=1, gamma=0.4, psi=0):\n",
    "    plt.imshow(np.real(cv2.getGaborKernel((xsize, ysize), sigma, theta, lambd, gamma, psi)), vmin=-1, vmax=1, cmap='gray')\n",
    "\n",
    "interact(gabor_interactive, xsize=(10, 1000), ysize=(10, 1000), sigma=(1,100,1), theta=(0, 2*np.pi, 0.01), lambd=(1,10,0.01), gamma=(0,10,0.1), psi=(0, 2*np.pi, 0.01))"
   ]
  },
  {
   "cell_type": "code",
   "execution_count": null,
   "id": "470f1148-edd6-4a0a-8915-d3bb283a8cd5",
   "metadata": {},
   "outputs": [],
   "source": []
  }
 ],
 "metadata": {
  "kernelspec": {
   "display_name": "Python 3 (ipykernel)",
   "language": "python",
   "name": "python3"
  },
  "language_info": {
   "codemirror_mode": {
    "name": "ipython",
    "version": 3
   },
   "file_extension": ".py",
   "mimetype": "text/x-python",
   "name": "python",
   "nbconvert_exporter": "python",
   "pygments_lexer": "ipython3",
   "version": "3.8.17"
  }
 },
 "nbformat": 4,
 "nbformat_minor": 5
}
