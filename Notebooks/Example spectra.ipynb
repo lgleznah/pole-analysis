{
 "cells": [
  {
   "cell_type": "markdown",
   "id": "8b435a93-df7f-49b5-8c88-c7c9750c06f1",
   "metadata": {},
   "source": [
    "# Example spectra comparison"
   ]
  },
  {
   "cell_type": "markdown",
   "id": "80178765-97f1-42ff-a1db-d921ed1b6e2f",
   "metadata": {},
   "source": [
    "Note: I intended to do this with Excel, but it was not excel-ent for doing that. I'll go Matplotlib instead."
   ]
  },
  {
   "cell_type": "code",
   "execution_count": null,
   "id": "451127a6-18fa-4508-b442-2dec155118ae",
   "metadata": {
    "tags": []
   },
   "outputs": [],
   "source": [
    "import pandas as pd\n",
    "import matplotlib.pyplot as plt\n",
    "import seaborn as sns\n",
    "import numpy as np"
   ]
  },
  {
   "cell_type": "code",
   "execution_count": null,
   "id": "2e9163ec-cf89-429d-a973-779ccbc9d402",
   "metadata": {
    "tags": []
   },
   "outputs": [],
   "source": [
    "df = pd.read_csv(\"vnir-wood-spectra.csv\").T\n",
    "df = df.set_axis(df.iloc[0,:], axis=1)\n",
    "df = df.iloc[1:,:]\n",
    "df"
   ]
  },
  {
   "cell_type": "code",
   "execution_count": null,
   "id": "1f348342-57e6-4409-ab37-54e254728dc7",
   "metadata": {
    "tags": []
   },
   "outputs": [],
   "source": [
    "sns.lineplot(df)\n",
    "plt.xticks(range(np.min(plt.xticks()[0]), np.max(plt.xticks()[0]), 20));"
   ]
  },
  {
   "cell_type": "code",
   "execution_count": null,
   "id": "f4682dd8-9778-49f3-83ac-a993920cf4bb",
   "metadata": {},
   "outputs": [],
   "source": []
  }
 ],
 "metadata": {
  "kernelspec": {
   "display_name": "Python 3",
   "language": "python",
   "name": "python3"
  },
  "language_info": {
   "codemirror_mode": {
    "name": "ipython",
    "version": 3
   },
   "file_extension": ".py",
   "mimetype": "text/x-python",
   "name": "python",
   "nbconvert_exporter": "python",
   "pygments_lexer": "ipython3",
   "version": "3.8.17"
  }
 },
 "nbformat": 4,
 "nbformat_minor": 5
}
