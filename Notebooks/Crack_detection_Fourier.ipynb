{
 "cells": [
  {
   "cell_type": "markdown",
   "id": "0cdc87da-e539-4cb7-99e6-900ec6cdb2da",
   "metadata": {},
   "source": [
    "# RGB crack detection tests - Fourier transforms"
   ]
  },
  {
   "cell_type": "code",
   "execution_count": null,
   "id": "04878ea7-e882-417f-baf6-18d050d06510",
   "metadata": {
    "tags": []
   },
   "outputs": [],
   "source": [
    "import numpy as np\n",
    "import matplotlib.pyplot as plt\n",
    "import cv2\n",
    "\n",
    "from skimage.io import imread, imshow\n",
    "from skimage.color import rgb2hsv, rgb2gray, rgb2yuv\n",
    "from skimage import color, exposure, transform\n",
    "from skimage.exposure import equalize_hist, equalize_adapthist"
   ]
  },
  {
   "cell_type": "markdown",
   "id": "2678f829-a1c7-4477-999f-b603bbcdcd01",
   "metadata": {},
   "source": [
    "Another way of characterizing cracks (and, hopefully, holes) in images are Fourier transforms. This is a mathematical tool that decomposes a signal (both 1-D as audio, 2-D as images, or N-D as hypercubic tesseractian future television shows) into sine and cosine components of different frequencies at different weights.\n",
    "\n",
    "This can be useful for characterizing pole images, as I hypothesize that poles with cracks will be reflected as Fourier transform images with high frequencies, whereas good poles are relatively uniform and won't have excessively high frequencies."
   ]
  },
  {
   "cell_type": "code",
   "execution_count": null,
   "id": "d3321528-195b-4f77-9c57-9842dc00e391",
   "metadata": {
    "tags": []
   },
   "outputs": [],
   "source": [
    "pole = cv2.imread('../Data/RGB/crops/Ny_0_crop_masked.jpg')\n",
    "pole = cv2.cvtColor(pole, cv2.COLOR_RGB2GRAY)\n",
    "plt.imshow(pole, cmap='gray')"
   ]
  },
  {
   "cell_type": "markdown",
   "id": "de0879a4-9a9a-4e49-bdf2-bb3ed0b4e15c",
   "metadata": {},
   "source": [
    "As an example, applying the Fourier transform to an image is quite straightforward, as this cell shows:"
   ]
  },
  {
   "cell_type": "code",
   "execution_count": null,
   "id": "798145d6-2189-4369-b9f1-a080170319a5",
   "metadata": {
    "tags": []
   },
   "outputs": [],
   "source": [
    "dark_image_grey_fourier = np.fft.fftshift(np.fft.fft2(pole))\n",
    "plt.figure(num=None, figsize=(8, 6), dpi=80)\n",
    "plt.imshow(np.log(abs(dark_image_grey_fourier)), cmap='gray')"
   ]
  },
  {
   "cell_type": "markdown",
   "id": "e0661598-046f-43af-9b40-7454608d2513",
   "metadata": {},
   "source": [
    "This image is the result of applying the FFT algorithm to the previous pole image. The big horizontal line in the middle represents the predominant vertical spatial frequencies in the pole, which makes sense, because the pole image is essentially... vertical.\n",
    "\n",
    "Therefore, it is interesting to see the results of the FFT algorithm for other images."
   ]
  },
  {
   "cell_type": "code",
   "execution_count": null,
   "id": "30ced7c1-3ca4-4e00-83a4-9e6059b11958",
   "metadata": {
    "tags": []
   },
   "outputs": [],
   "source": [
    "def visualize_ffts():\n",
    "    fig, axes = plt.subplots(5, 8, figsize=(20,16))\n",
    "    pole_ids = ['Ny',30,41,6,5]\n",
    "    pole_status = ['31/37', '17/24', '15/24', '12/24', '11/24']\n",
    "    specific_status = ['New', 'Rotten', 'Cracks', 'Cracks', 'Rotten']\n",
    "\n",
    "    for pole_idx, pole_id in enumerate(pole_ids):\n",
    "        for rotation_idx, rotation in enumerate([0, 90, 180, 270]):\n",
    "            img = cv2.imread(f'../Data/RGB/crops/{pole_id}_{rotation}_crop_masked.jpg')\n",
    "            img = cv2.cvtColor(img, cv2.COLOR_RGB2GRAY)\n",
    "            fft = np.fft.fftshift(np.fft.fft2(img))\n",
    "            axes[pole_idx, rotation_idx*2].imshow(np.log(abs(fft)), cmap='gray')\n",
    "            axes[pole_idx, rotation_idx*2+1].imshow(img, cmap='gray')\n",
    "            axes[pole_idx, rotation_idx*2+1].set_xticks([])\n",
    "            axes[pole_idx, rotation_idx*2+1].set_yticks([])\n",
    "\n",
    "    fig.suptitle('Pole FFTs')\n",
    "\n",
    "    [axes[0,i*2].set_title(f'{i*90} degrees') for i in range(4)]\n",
    "\n",
    "    [axes[i,0].set_ylabel(f'Pole {pole}\\nStatus: {pole_status[i]}\\nCause: {specific_status[i]}', labelpad=60, fontdict={'rotation':0}) for i, pole in enumerate(pole_ids)]\n",
    "\n",
    "    plt.savefig('../Figures/pole_ffts.jpg')\n",
    "    \n",
    "visualize_ffts()"
   ]
  },
  {
   "cell_type": "markdown",
   "id": "48062534-0292-4d35-8ccd-625ca0d303a6",
   "metadata": {},
   "source": [
    "Unfortunately, it seems like not much information can be extracted from the Fourier transforms. However, since cracks are a vertical component, it would be interesting to see the images resulting from applying the inverse Fourier transform when removing the middle bands (corresponding to vertical lines)."
   ]
  },
  {
   "cell_type": "code",
   "execution_count": null,
   "id": "1485f15d-9bfd-4aee-a3cd-e02a60881ff0",
   "metadata": {
    "tags": []
   },
   "outputs": [],
   "source": [
    "img = cv2.imread('../Data/RGB/crops/Ny_0_crop_masked.jpg')\n",
    "img = cv2.cvtColor(img, cv2.COLOR_RGB2GRAY)\n",
    "img = equalize_adapthist(img)\n",
    "\n",
    "def fourier_masker(image, i):\n",
    "    f_size = 10\n",
    "    dark_image_grey_fourier = np.fft.fftshift(np.fft.fft2(image))    \n",
    "    dark_image_grey_fourier[5900:6100, :4475] = i\n",
    "    dark_image_grey_fourier[5900:6100, -4475:] = i\n",
    "    inverse = abs(np.fft.ifft2(dark_image_grey_fourier))\n",
    "    diff_img = -(image - inverse)\n",
    "    thresholded = np.where(diff_img > -50, 1, 0)\n",
    "    fig, ax = plt.subplots(1,5,figsize=(15,15))\n",
    "    ax[0].imshow(np.log(abs(dark_image_grey_fourier)), cmap='gray')\n",
    "    ax[0].set_title('Masked Fourier', fontsize = f_size)\n",
    "    ax[1].imshow(image, cmap = 'gray')\n",
    "    ax[1].set_title('Greyscale Image', fontsize = f_size);\n",
    "    ax[2].imshow(inverse, cmap='gray')\n",
    "    ax[2].set_title('Transformed Greyscale Image', fontsize = f_size)\n",
    "    ax[3].imshow(diff_img, cmap='gray')\n",
    "    ax[3].set_title('Original - transformed differnce', fontsize = f_size)\n",
    "    ax[4].imshow(thresholded, cmap='gray', vmin=0, vmax=1)\n",
    "    ax[4].set_title('Thresholded difference', fontsize = f_size)\n",
    "    return diff_img\n",
    "    \n",
    "diff = fourier_masker(img, 1)"
   ]
  },
  {
   "cell_type": "markdown",
   "id": "683124d7-abef-4799-abda-fda576ac4eed",
   "metadata": {},
   "source": [
    "As seen above and below, it looks like it **might** be possible to only so slightly capture cracks by removing some vertical frequencies from the images, but to fully assess this, I should plot all pole images "
   ]
  },
  {
   "cell_type": "code",
   "execution_count": null,
   "id": "7bb99b70-bcb1-4d2b-98f5-bf6c4531e60e",
   "metadata": {},
   "outputs": [],
   "source": [
    "plt.imshow(np.where(diff > -50, 1, 0))"
   ]
  },
  {
   "cell_type": "code",
   "execution_count": null,
   "id": "f9a0bd5f-5678-4980-9102-cf872035136e",
   "metadata": {
    "tags": []
   },
   "outputs": [],
   "source": [
    "def visualize_ffts_diffs():\n",
    "    fig, axes = plt.subplots(5, 8, figsize=(20,16))\n",
    "    pole_ids = ['Ny',30,41,6,5]\n",
    "    pole_status = ['31/37', '17/24', '15/24', '12/24', '11/24']\n",
    "    specific_status = ['New', 'Rotten', 'Cracks', 'Cracks', 'Rotten']\n",
    "\n",
    "    for pole_idx, pole_id in enumerate(pole_ids):\n",
    "        for rotation_idx, rotation in enumerate([0, 90, 180, 270]):\n",
    "            img = cv2.imread(f'../Data/RGB/crops/{pole_id}_{rotation}_crop_masked.jpg')\n",
    "            img = cv2.cvtColor(img, cv2.COLOR_RGB2GRAY)\n",
    "            img = equalize_adapthist(img)\n",
    "            dark_image_grey_fourier = np.fft.fftshift(np.fft.fft2(img))    \n",
    "            dark_image_grey_fourier[5900:6100, :4495] = 1\n",
    "            dark_image_grey_fourier[5900:6100, -4495:] = 1\n",
    "            inverse = abs(np.fft.ifft2(dark_image_grey_fourier))\n",
    "            diff_img = -(img - inverse)\n",
    "            thresholded = np.where(diff_img > -0.06, 1, 0)\n",
    "            axes[pole_idx, rotation_idx*2].imshow(img, cmap='gray')\n",
    "            axes[pole_idx, rotation_idx*2+1].imshow(thresholded, cmap='gray')\n",
    "            axes[pole_idx, rotation_idx*2+1].set_xticks([])\n",
    "            axes[pole_idx, rotation_idx*2+1].set_yticks([])\n",
    "\n",
    "    fig.suptitle('Pole FFTs, diff with respect to removed vertical freqs')\n",
    "\n",
    "    [axes[0,i*2].set_title(f'{i*90} degrees') for i in range(4)]\n",
    "\n",
    "    [axes[i,0].set_ylabel(f'Pole {pole}\\nStatus: {pole_status[i]}\\nCause: {specific_status[i]}', labelpad=60, fontdict={'rotation':0}) for i, pole in enumerate(pole_ids)]\n",
    "\n",
    "    plt.savefig('../Figures/pole_ffts_diffs.jpg')\n",
    "    \n",
    "visualize_ffts_diffs()"
   ]
  },
  {
   "cell_type": "markdown",
   "id": "69a10886-b6f1-477f-9181-6d86da1577b2",
   "metadata": {},
   "source": [
    "As it can be seen in these images, removing most high frequencies from images and computing the difference of the result w.r.t. the original image doesn't give a very clear view of the pole's surface spatial characteristics. Furthermore, FFT is extremely slow for these images. Thus, I won't invest much more time into this idea."
   ]
  },
  {
   "cell_type": "code",
   "execution_count": null,
   "id": "b5df3ce5-068d-4c36-ab0f-75f6d7cfb4a9",
   "metadata": {},
   "outputs": [],
   "source": []
  }
 ],
 "metadata": {
  "kernelspec": {
   "display_name": "Python 3",
   "language": "python",
   "name": "python3"
  },
  "language_info": {
   "codemirror_mode": {
    "name": "ipython",
    "version": 3
   },
   "file_extension": ".py",
   "mimetype": "text/x-python",
   "name": "python",
   "nbconvert_exporter": "python",
   "pygments_lexer": "ipython3",
   "version": "3.8.17"
  }
 },
 "nbformat": 4,
 "nbformat_minor": 5
}
