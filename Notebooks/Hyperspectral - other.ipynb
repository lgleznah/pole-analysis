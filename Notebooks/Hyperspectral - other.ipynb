{
 "cells": [
  {
   "cell_type": "markdown",
   "id": "cd1646ee-f984-4446-ac3c-b1a19a1483ba",
   "metadata": {},
   "source": [
    "# Hyperspectral - the other scans"
   ]
  },
  {
   "cell_type": "code",
   "execution_count": null,
   "id": "3b3f8b7a-06d1-47c0-a308-50648b8088db",
   "metadata": {
    "tags": []
   },
   "outputs": [],
   "source": [
    "import spectral.io.envi as envi\n",
    "import matplotlib.pyplot as plt\n",
    "import numpy as np\n",
    "import os\n",
    "import cv2\n",
    "\n",
    "from sklearn.decomposition import PCA\n",
    "from spectral import principal_components, imshow\n",
    "from ipywidgets import interact\n",
    "\n",
    "scans_dir = \"C:\\\\Users\\\\ext-lugo\\\\Hyperspectral\\\\Radiance_home\"\n",
    "os.environ[\"SPECTRAL_DATA\"] = scans_dir"
   ]
  },
  {
   "cell_type": "markdown",
   "id": "f2fc69cf-1ffb-4900-917f-7715da94695f",
   "metadata": {},
   "source": [
    "In the other hyperspectral notebooks (no that the notebooks themselves are hyperspectral), the analysed scans have been the regular ones. However, there is another set of hyperspectral scans, taken under different conditions. It could be interesting to analyze these, and also apply the hyperspectral conversions studied in the Hyperspectral variations notebook."
   ]
  },
  {
   "cell_type": "markdown",
   "id": "8c72bdcb-7cc5-4fe7-ad11-4771d51726f1",
   "metadata": {},
   "source": [
    "## Simple preliminary analysis (yes, this time it will be simple)"
   ]
  },
  {
   "cell_type": "markdown",
   "id": "82e8a2b9-3cb4-4f7d-915d-e709e86146fd",
   "metadata": {},
   "source": [
    "Prior to doing a proper analysis of the poles, it is necessary to remove outlier readings from the poles. In the previous analysis, readings greater than 0.025 were considered outliers. However, a quick plot of the values of these poles shows that this threshold is not valid here. Therefore, a proper outlier removal algorithm will be used, based on the deviation with respect to the median."
   ]
  },
  {
   "cell_type": "code",
   "execution_count": null,
   "id": "9bfe14a6-653f-43d3-a709-e0dedabf6663",
   "metadata": {
    "tags": []
   },
   "outputs": [],
   "source": [
    "def is_outlier(points, thresh=3.5):\n",
    "    \"\"\"\n",
    "    Returns a boolean array with True if points are outliers and False \n",
    "    otherwise.\n",
    "\n",
    "    Parameters:\n",
    "    -----------\n",
    "        points : An numobservations by numdimensions array of observations\n",
    "        thresh : The modified z-score to use as a threshold. Observations with\n",
    "            a modified z-score (based on the median absolute deviation) greater\n",
    "            than this value will be classified as outliers.\n",
    "\n",
    "    Returns:\n",
    "    --------\n",
    "        mask : A numobservations-length boolean array.\n",
    "\n",
    "    References:\n",
    "    ----------\n",
    "        Boris Iglewicz and David Hoaglin (1993), \"Volume 16: How to Detect and\n",
    "        Handle Outliers\", The ASQC Basic References in Quality Control:\n",
    "        Statistical Techniques, Edward F. Mykytka, Ph.D., Editor. \n",
    "    \"\"\"\n",
    "    if len(points.shape) == 1:\n",
    "        points = points[:,None]\n",
    "    median = np.median(points, axis=0)\n",
    "    diff = np.sum((points - median)**2, axis=-1)\n",
    "    diff = np.sqrt(diff)\n",
    "    med_abs_deviation = np.median(diff)\n",
    "\n",
    "    modified_z_score = 0.6745 * diff / med_abs_deviation\n",
    "\n",
    "    return modified_z_score > thresh\n",
    "\n",
    "def get_pole(pole_id, rotation_idx, draw=False):\n",
    "    paths = os.listdir(os.path.join(scans_dir, str(pole_id)))\n",
    "    paths = [path for path in paths if \"float32.hdr\" in path]\n",
    "    paths.sort()\n",
    "    ro_img = envi.open(os.path.join(str(pole_id), paths[rotation_idx])).load()\n",
    "    wls = np.asarray(ro_img.metadata['wavelength'], float)\n",
    "    \n",
    "    img = ro_img\n",
    "    if draw:\n",
    "        plt.imshow(img[...,-1], cmap='gray')\n",
    "    else:\n",
    "        return img, wls\n",
    "    \n",
    "def visualize_no_outliers():\n",
    "    fig, axes = plt.subplots(5, 4, figsize=(20,20))\n",
    "    pole_ids = [0, 30, 41, 6, 5]\n",
    "    rotation_idxs = [0, 1, 2, 3]\n",
    "    \n",
    "    for pole_idx, pole_id in enumerate(pole_ids):\n",
    "        for rotation_idx in rotation_idxs:\n",
    "            pole, _ = get_pole(pole_id, rotation_idx)\n",
    "            pole = pole.flatten()\n",
    "            pole = np.where(~is_outlier(pole, thresh=10), pole, 0)\n",
    "            axes[pole_idx,rotation_idx].hist(pole, bins=100, log=True)\n",
    "            del pole\n",
    "            \n",
    "    plt.savefig('../Figures/hyperspectral_histograms_home.png')\n",
    "   "
   ]
  },
  {
   "cell_type": "code",
   "execution_count": null,
   "id": "01a58db1-1995-4700-a261-f26a4154ec42",
   "metadata": {
    "tags": []
   },
   "outputs": [],
   "source": [
    "visualize_no_outliers()"
   ]
  },
  {
   "cell_type": "markdown",
   "id": "5f4f2c4d-4798-4730-9e8c-c4c7de43aaf5",
   "metadata": {},
   "source": [
    "As it can be seen on these figures, a threshold of 10 for the statistical test seems OK for removing most outliers without altering the original scans in a significant way. Once again, this step is just performed for visualization purposes. "
   ]
  },
  {
   "cell_type": "code",
   "execution_count": null,
   "id": "2b51556c-b07a-43b6-804e-604e12de5f42",
   "metadata": {
    "tags": []
   },
   "outputs": [],
   "source": [
    "def show_pole(pole_id, rotation_idx, remove_outliers):\n",
    "    paths = os.listdir(os.path.join(scans_dir, pole_id))\n",
    "    paths = [path for path in paths if \"float32.hdr\" in path]\n",
    "    paths.sort()\n",
    "    print(f'Loading {paths[rotation_idx]}')\n",
    "    img = envi.open(os.path.join(pole_id, paths[rotation_idx])).load()\n",
    "    wls = np.asarray(img.metadata['wavelength'], float)\n",
    "    \n",
    "    if remove_outliers:\n",
    "        orig_shape = img.shape\n",
    "        img = img.flatten()\n",
    "        img = np.where(~is_outlier(img, thresh=10), img, 0)\n",
    "        img = np.reshape(img, orig_shape)\n",
    "    \n",
    "    def browse_images(img):\n",
    "        bands = img.shape[-1]\n",
    "        def view_images(i=99):\n",
    "            plt.imshow(img[:,:,i], cmap='gray', interpolation='nearest')\n",
    "            plt.title(f'{wls[i]} nm')\n",
    "            plt.show()\n",
    "        interact(view_images, i=(0, bands - 1))\n",
    "\n",
    "    browse_images(img)\n",
    "\n",
    "show_pole('5', 4, False)"
   ]
  },
  {
   "cell_type": "markdown",
   "id": "0ffa8b55-db6b-4c2a-9ff2-889724a638b9",
   "metadata": {},
   "source": [
    "Judging by these figures, it looks like the pole is always on X-coordinates 300-900 and Y-coordinates 300-3300. Therefore, in order to obtain the spectra for this pole, it should be possible to do so by cropping this part of the scans, but a previous visualization can help confirm this is a good crop."
   ]
  },
  {
   "cell_type": "code",
   "execution_count": null,
   "id": "46a19086-1844-408b-87f7-87baa926394f",
   "metadata": {
    "tags": []
   },
   "outputs": [],
   "source": [
    "def view_hyperspectral_transformed(transform_func, description):\n",
    "    fig, axes = plt.subplots(5, 5, figsize=(20,16))\n",
    "    pole_ids = [0,30,41,6,5]\n",
    "    pole_status = ['31/37', '17/24', '15/24', '12/24', '11/24']\n",
    "    specific_status = ['New', 'Rotten', 'Cracks', 'Cracks', 'Rotten']\n",
    "\n",
    "    for pole_idx, pole_id in enumerate(pole_ids):\n",
    "        paths = os.listdir(os.path.join(scans_dir, str(pole_id)))\n",
    "        paths = [path for path in paths if \"float32.hdr\" in path]\n",
    "        paths.sort()\n",
    "        for scan_idx in range(len(paths)):\n",
    "            img = envi.open(os.path.join(str(pole_id), paths[scan_idx])).load()\n",
    "            img = transform_func(img)\n",
    "            axes[pole_idx, scan_idx].imshow(img, cmap='gray')\n",
    "\n",
    "    fig.suptitle(description)\n",
    "\n",
    "    [axes[0,i].set_title(f'Image #{i}') for i in range(5)]\n",
    "\n",
    "    [axes[i,0].set_ylabel(f'Pole {pole}\\nStatus: {pole_status[i]}\\nCause: {specific_status[i]}', labelpad=60, fontdict={'rotation':0}) for i, pole in enumerate(pole_ids)]\n",
    "    \n",
    "    \n",
    "def crop_hyperspectral_no_outliers(img):\n",
    "    img = img [300:3100, 300:900, :]\n",
    "    orig_shape = img.shape\n",
    "    img = img.flatten()\n",
    "    img = np.where(~is_outlier(img, thresh=10), img, 0)\n",
    "    img = np.reshape(img, orig_shape)\n",
    "    return img[...,-1]\n",
    "\n",
    "def crop_hyperspectral(img):\n",
    "    img = img [300:3100, 300:900, :]\n",
    "    return img"
   ]
  },
  {
   "cell_type": "code",
   "execution_count": null,
   "id": "d6bc3232-509d-44c3-8c79-6e3496820c4f",
   "metadata": {
    "tags": []
   },
   "outputs": [],
   "source": [
    "view_hyperspectral_transformed(crop_hyperspectral_no_outliers, 'Hyperspectral crops')"
   ]
  },
  {
   "cell_type": "markdown",
   "id": "dae2517b-b388-4f4e-90c1-4ccb18568b7d",
   "metadata": {},
   "source": [
    "## Spectra analysis"
   ]
  },
  {
   "cell_type": "markdown",
   "id": "4e3fcd95-eecc-4111-afcc-79b523a1605c",
   "metadata": {},
   "source": [
    "With these crops, it should now be possible to perform a similar analysis to that of the other notebooks"
   ]
  },
  {
   "cell_type": "code",
   "execution_count": null,
   "id": "43680f80-c3ee-4272-a043-200f4ac172bb",
   "metadata": {
    "tags": []
   },
   "outputs": [],
   "source": [
    "def get_white_panel():\n",
    "    path = os.path.join('5', 'stolpe_1_Mjolnir_V-1240_SN5030_19499us_2022-04-28T121900_raw_rad_keystone_smile_spectralbinningx4_float32.hdr')\n",
    "    img = envi.open(path)\n",
    "    return img[1200:2250,0:250,:]"
   ]
  },
  {
   "cell_type": "markdown",
   "id": "4a1f258a-7679-45e2-b111-fbc36c188ad8",
   "metadata": {},
   "source": [
    "In order to have results which can be compared with the ones of the previous scans, it would be good to compute these by dividing the average spectrum by the white panel spectrum. However, a visual examination of this spectrum shows that, approximately from bands 18 to 57, it has anomalously high values. Therefore, it could be better to perform the comparison by using radiance instead of reflectance."
   ]
  },
  {
   "cell_type": "code",
   "execution_count": null,
   "id": "c26266cc-bfa7-42ab-a4fc-73cc756c3409",
   "metadata": {
    "tags": []
   },
   "outputs": [],
   "source": [
    "def plot_average_spectra_per_pole_and_rotation(white_panel, reflectance=True):\n",
    "    fig, axes = plt.subplots(5, 5, figsize=(20,16))\n",
    "    pole_ids = [0,30,41,6,5]\n",
    "    pole_status = ['31/37', '17/24', '15/24', '12/24', '11/24']\n",
    "    specific_status = ['New', 'Rotten', 'Cracks', 'Cracks', 'Rotten']\n",
    "\n",
    "    for pole_idx, pole_id in enumerate(pole_ids):\n",
    "        paths = os.listdir(os.path.join(scans_dir, str(pole_id)))\n",
    "        paths = [path for path in paths if \"float32.hdr\" in path]\n",
    "        paths.sort()\n",
    "        for scan_idx in range(len(paths)):\n",
    "            img = envi.open(os.path.join(str(pole_id), paths[scan_idx])).load()\n",
    "            wls = np.asarray(img.metadata['wavelength'], float)\n",
    "            img = crop_hyperspectral(img)\n",
    "            spectrum = np.average(img, axis=(0,1))\n",
    "            white_spectrum = np.average(white_panel, axis=(0,1))\n",
    "            \n",
    "            if reflectance:\n",
    "                spectrum = spectrum / white_spectrum\n",
    "                                \n",
    "            axes[pole_idx, scan_idx].plot(range(len(spectrum)), spectrum)\n",
    "            axes[pole_idx, scan_idx].set_ylim((-0.1, 1.1))\n",
    "            axes[pole_idx, scan_idx].set_xticks([0,50,99],[f'{wls[idx]:.0f}nm' for idx in [0,50,99]])\n",
    "\n",
    "    fig.suptitle('Home poles spectra')\n",
    "\n",
    "    [axes[0,i].set_title(f'Image #{i}') for i in range(5)]\n",
    "\n",
    "    [axes[i,0].set_ylabel(f'Pole {pole}\\nStatus: {pole_status[i]}\\nCause: {specific_status[i]}', labelpad=60, fontdict={'rotation':0}) for i, pole in enumerate(pole_ids)]\n",
    "    \n",
    "    plt.savefig(f'home hyperspectral_results_per_pole_and_rotation_{\"ref\" if reflectance else \"noref\"}.png')"
   ]
  },
  {
   "cell_type": "code",
   "execution_count": null,
   "id": "c4de2cc0-7c9e-424d-ac05-0d3aacc39c29",
   "metadata": {
    "tags": []
   },
   "outputs": [],
   "source": [
    "plot_average_spectra_per_pole_and_rotation(get_white_panel(), False)\n",
    "plot_average_spectra_per_pole_and_rotation(get_white_panel(), True)"
   ]
  },
  {
   "cell_type": "code",
   "execution_count": null,
   "id": "1ec9916a-3648-4c1c-b601-a8431ff19e8b",
   "metadata": {
    "tags": []
   },
   "outputs": [],
   "source": [
    "def plot_average_spectra(white_panel):\n",
    "    pole_ids = [0,30,41,6,5]\n",
    "    rotation_idxs = [0,1,2,3]\n",
    "    wavelength_idxs = [0, 50, 91]\n",
    "    labels = [\n",
    "        'Pole 0, new, 31/37',\n",
    "        'Pole 30, rotten, 17/24',\n",
    "        'Pole 41, cracks, 15/24',\n",
    "        'Pole 6, cracks, 12/24',\n",
    "        'Pole 5, rotten, 11/24',\n",
    "    ]\n",
    "    lines = ['-', '-.', '--', '--', '-.']\n",
    "    \n",
    "    for pole_idx, pole_id in enumerate(pole_ids):\n",
    "        paths = os.listdir(os.path.join(scans_dir, str(pole_id)))\n",
    "        paths = [path for path in paths if \"float32.hdr\" in path]\n",
    "        paths.sort()\n",
    "        rotation_spectra = []\n",
    "        for scan_idx in range(len(paths)):\n",
    "            img = envi.open(os.path.join(str(pole_id), paths[scan_idx])).load()\n",
    "            wls = np.asarray(img.metadata['wavelength'], float)\n",
    "            img = crop_hyperspectral(img)\n",
    "            spectrum = np.average(img, axis=(0,1))\n",
    "            white_spectrum = np.average(white_panel, axis=(0,1))\n",
    "            rotation_spectra.append(spectrum / white_spectrum)\n",
    "        avg_spectrum = np.average(rotation_spectra, axis=0)\n",
    "        plt.plot(range(len(avg_spectrum)), avg_spectrum, linestyle=lines[pole_idx], label=labels[pole_idx])\n",
    "    plt.ylim((0, 1.0))\n",
    "    plt.xticks(wavelength_idxs, [f'{wls[idx]:.0f}nm' for idx in wavelength_idxs])\n",
    "    plt.xlabel('Wavelength')\n",
    "    plt.ylabel('Reflectance')\n",
    "    plt.legend()\n",
    "    plt.savefig('home_hyperspectral_results.png')\n",
    "            \n",
    "plot_average_spectra(get_white_panel())"
   ]
  },
  {
   "cell_type": "markdown",
   "id": "864d4f7c-1ad8-4fe9-b02a-c32f38511309",
   "metadata": {},
   "source": [
    "Comparing this figure with the figure of the controlled-environment scans, one can see the same patterns appearing:\n",
    "\n",
    "- Poles 0 and 41 have the lowest reflectance curves, although in this case, pole 41's curve is slightly lower than the new pole's one.\n",
    "- The differences between the different spectra are small on shorter wavelengths, but these get higher the longer the wavelengths become.\n",
    "- The poles with highest reflectances are the ones in worst condition (30, 6 and 5).\n",
    "\n",
    "However, there's a potential problem for applying this technique: even if the same patterns occur, the scale of these patterns is smaller than with the controlled-environment scans, so it is difficult to set thresholds to determine the status of a pole. If the reflectance of a new pole was available for every lighting condition, this could be solved, but this is difficult *a priori*. More thought must be dedicated to solve this problem."
   ]
  },
  {
   "cell_type": "markdown",
   "id": "52adad5b-ee12-4eab-84d1-0bbbb59b27a2",
   "metadata": {},
   "source": [
    "## Hyperspectral variation analysis"
   ]
  },
  {
   "cell_type": "markdown",
   "id": "ee5d80fa-f0c8-4c6f-96ac-072ae209aaec",
   "metadata": {},
   "source": [
    "As with the other poles, the same transformations can be applied to further analyse these."
   ]
  },
  {
   "cell_type": "code",
   "execution_count": null,
   "id": "ce3dc004-f87d-4011-8363-a462c11bd7c8",
   "metadata": {
    "tags": []
   },
   "outputs": [],
   "source": [
    "def view_hyperspectral_transformed(transform_func, description):\n",
    "    fig, axes = plt.subplots(5, 5, figsize=(20,16))\n",
    "    pole_ids = [0,30,41,6,5]\n",
    "    pole_status = ['31/37', '17/24', '15/24', '12/24', '11/24']\n",
    "    specific_status = ['New', 'Rotten', 'Cracks', 'Cracks', 'Rotten']\n",
    "\n",
    "    for pole_idx, pole_id in enumerate(pole_ids):\n",
    "        paths = os.listdir(os.path.join(\"C:\\\\Users\\\\ext-lugo\\\\Hyperspectral\\\\Radiance_home\", str(pole_id)))\n",
    "        paths = [path for path in paths if \"float32.hdr\" in path]\n",
    "        paths.sort()\n",
    "        for scan_idx in range(len(paths)):\n",
    "            img = envi.open(os.path.join(str(pole_id), paths[scan_idx])).load()\n",
    "            img = transform_func(img)\n",
    "            axes[pole_idx, scan_idx].imshow(img)\n",
    "\n",
    "    fig.suptitle(description)\n",
    "\n",
    "    [axes[0,i].set_title(f'Image #{i}') for i in range(5)]\n",
    "\n",
    "    [axes[i,0].set_ylabel(f'Pole {pole}\\nStatus: {pole_status[i]}\\nCause: {specific_status[i]}', labelpad=60, fontdict={'rotation':0}) for i, pole in enumerate(pole_ids)]\n",
    "    \n",
    "    plt.savefig(f'../Figures/Home hyperspectral {description}.png', dpi=1000)"
   ]
  },
  {
   "cell_type": "markdown",
   "id": "16b36b3a-b6eb-464e-92e5-50796190f960",
   "metadata": {},
   "source": [
    "### False RGB"
   ]
  },
  {
   "cell_type": "code",
   "execution_count": null,
   "id": "53acbcac-b5ff-491a-beda-882028aa5cab",
   "metadata": {
    "tags": []
   },
   "outputs": [],
   "source": [
    "def hyperspectral_to_false_rgb(img):\n",
    "    img = np.take(img, [39, 24, 8], axis=2)\n",
    "    orig_shape = img.shape\n",
    "    img = img.flatten()\n",
    "    img = np.where(is_outlier(img, thresh=10), 0, img)\n",
    "    img = np.reshape(img, orig_shape)\n",
    "    \n",
    "    img[...,0] = np.interp(img[...,0], (img[...,0].min(), img[...,0].max()), (0, 1))\n",
    "    img[...,1] = np.interp(img[...,1], (img[...,1].min(), img[...,1].max()), (0, 1))\n",
    "    img[...,2] = np.interp(img[...,2], (img[...,2].min(), img[...,2].max()), (0, 1))\n",
    "    \n",
    "    return img\n",
    "\n",
    "view_hyperspectral_transformed(hyperspectral_to_false_rgb, 'false RGB')"
   ]
  },
  {
   "cell_type": "markdown",
   "id": "bcca60fa-2afa-4ef8-8996-347bca0989e0",
   "metadata": {},
   "source": [
    "By looking at these images, it is possible to infer more information about the scans. They were indeed taken outdoors, near an structure that is most likely a house."
   ]
  },
  {
   "cell_type": "markdown",
   "id": "bd7f5f4a-fa03-464d-91d1-d163313b9dd7",
   "metadata": {},
   "source": [
    "### Light scattering corrected"
   ]
  },
  {
   "cell_type": "code",
   "execution_count": null,
   "id": "40d1760d-c80b-4823-8135-9ccd43df31c9",
   "metadata": {
    "tags": []
   },
   "outputs": [],
   "source": [
    "def hyperspectral_to_light_correct(img):\n",
    "    orig_shape = img.shape\n",
    "    img = img.flatten()\n",
    "    img = np.where(is_outlier(img, thresh=10), 0, img)\n",
    "    img = np.reshape(img, orig_shape)\n",
    "    img = (img - np.mean(img, axis=(0,1))) / np.std(img, axis=(0,1))\n",
    "    img = np.take(img, [39, 24, 8], axis=2)\n",
    "    \n",
    "    img[...,0] = np.interp(img[...,0], (img[...,0].min(), img[...,0].max()), (0, 1))\n",
    "    img[...,1] = np.interp(img[...,1], (img[...,1].min(), img[...,1].max()), (0, 1))\n",
    "    img[...,2] = np.interp(img[...,2], (img[...,2].min(), img[...,2].max()), (0, 1))\n",
    "    \n",
    "    return img\n",
    "\n",
    "view_hyperspectral_transformed(hyperspectral_to_light_correct, 'light scattering corrected')"
   ]
  },
  {
   "cell_type": "markdown",
   "id": "836c5957-a9fe-463c-b7d6-3c918dc209fb",
   "metadata": {},
   "source": [
    "### Chemical variation"
   ]
  },
  {
   "cell_type": "code",
   "execution_count": null,
   "id": "81604a0e-9bff-4fcd-846c-fa1fa9022137",
   "metadata": {
    "tags": []
   },
   "outputs": [],
   "source": [
    "def hyperspectral_to_chemical(img):\n",
    "    img = img[300:3100, 300:900, :]\n",
    "    orig_shape = img.shape\n",
    "    img = img.flatten()\n",
    "    img = np.where(is_outlier(img, thresh=10), 0, img)\n",
    "    img = np.reshape(img, orig_shape)\n",
    "    original_dims = img.shape[:-1]\n",
    "    img = np.reshape(img, (-1, img.shape[-1]))\n",
    "\n",
    "    pca = PCA(svd_solver='full')\n",
    "    reduced_img = pca.fit_transform(img)\n",
    "    reduced_img = np.reshape(reduced_img, (*original_dims, pca.n_components_))\n",
    "    \n",
    "    reduced_img[...,0] = np.interp(reduced_img[...,0], (reduced_img[...,0].min(), reduced_img[...,0].max()), (0, 1))\n",
    "    reduced_img[...,1] = np.interp(reduced_img[...,1], (reduced_img[...,1].min(), reduced_img[...,1].max()), (0, 1))\n",
    "    reduced_img[...,2] = np.interp(reduced_img[...,2], (reduced_img[...,2].min(), reduced_img[...,2].max()), (0, 1))\n",
    "    \n",
    "    return reduced_img[...,:3], pca.components_[:3,...]\n",
    "\n",
    "def view_hyperspectral_chemical():\n",
    "    fig, axes = plt.subplots(5, 10, figsize=(35,12))\n",
    "    pole_ids = [0,30,41,6,5]\n",
    "    pole_status = ['31/37', '17/24', '15/24', '12/24', '11/24']\n",
    "    specific_status = ['New', 'Rotten', 'Cracks', 'Cracks', 'Rotten']\n",
    "\n",
    "    for pole_idx, pole_id in enumerate(pole_ids):\n",
    "        paths = os.listdir(os.path.join(scans_dir, str(pole_id)))\n",
    "        paths = [path for path in paths if \"float32.hdr\" in path]\n",
    "        paths.sort()\n",
    "        for scan_idx in range(len(paths)):\n",
    "            img = envi.open(os.path.join(str(pole_id), paths[scan_idx])).load()\n",
    "            wls = np.asarray(img.metadata['wavelength'], float)\n",
    "            img, components = hyperspectral_to_chemical(img)\n",
    "            axes[pole_idx, scan_idx*2].imshow(img)\n",
    "            axes[pole_idx, scan_idx*2 + 1].plot(range(len(components[0])), components[0], color='red', label='PC0')\n",
    "            axes[pole_idx, scan_idx*2 + 1].plot(range(len(components[1])), components[1], color='green', label='PC1')\n",
    "            axes[pole_idx, scan_idx*2 + 1].plot(range(len(components[2])), components[2], color='blue', label='PC2')\n",
    "            axes[pole_idx, scan_idx*2 + 1].set_ylim([-1,1])\n",
    "            axes[pole_idx, scan_idx*2 + 1].set_xticks(range(0, len(wls), 40), [f'{wls[idx]:.0f}nm' for idx in range(0, len(wls), 40)])\n",
    "\n",
    "    fig.suptitle('Hyperspectral chemical variation and PCA')\n",
    "\n",
    "    [axes[0,i * 2].set_title(f'Image #{i}') for i in range(5)]\n",
    "\n",
    "    [axes[i,0].set_ylabel(f'Pole {pole}\\nStatus: {pole_status[i]}\\nCause: {specific_status[i]}', labelpad=60, fontdict={'rotation':0}) for i, pole in enumerate(pole_ids)]\n",
    "    \n",
    "    plt.savefig(f'../Figures/Home hyperspectral chemical PCA.png', dpi=500)"
   ]
  },
  {
   "cell_type": "code",
   "execution_count": null,
   "id": "a70b2ccf-b45a-473d-8ce5-fd2fa9a3ac89",
   "metadata": {
    "tags": []
   },
   "outputs": [],
   "source": [
    "view_hyperspectral_chemical()"
   ]
  },
  {
   "cell_type": "code",
   "execution_count": null,
   "id": "5a4abbb4-8d7c-4545-993e-db4e57f9035d",
   "metadata": {},
   "outputs": [],
   "source": []
  }
 ],
 "metadata": {
  "kernelspec": {
   "display_name": "Python 3",
   "language": "python",
   "name": "python3"
  },
  "language_info": {
   "codemirror_mode": {
    "name": "ipython",
    "version": 3
   },
   "file_extension": ".py",
   "mimetype": "text/x-python",
   "name": "python",
   "nbconvert_exporter": "python",
   "pygments_lexer": "ipython3",
   "version": "3.8.17"
  }
 },
 "nbformat": 4,
 "nbformat_minor": 5
}
