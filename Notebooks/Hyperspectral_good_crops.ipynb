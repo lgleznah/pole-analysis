{
 "cells": [
  {
   "cell_type": "markdown",
   "id": "4020ed96-c29c-44d7-acad-0bf00a99cc89",
   "metadata": {},
   "source": [
    "# Hyperspectral data analysis"
   ]
  },
  {
   "cell_type": "code",
   "execution_count": null,
   "id": "b6a84b25-c53f-487f-9062-ed87c4fc6791",
   "metadata": {},
   "outputs": [],
   "source": [
    "import spectral.io.envi as envi\n",
    "%matplotlib inline\n",
    "import matplotlib.pyplot as plt\n",
    "import numpy as np\n",
    "import ipywidgets as widgets\n",
    "import os\n",
    "import cv2\n",
    "import pandas as pd\n",
    "\n",
    "from ipywidgets import interact\n",
    "from ipywidgets import FloatSlider\n",
    "from spectral import kmeans\n",
    "from collections import defaultdict\n",
    "\n",
    "os.environ[\"SPECTRAL_DATA\"] = \"C:\\\\Users\\\\ext-lugo\\\\Hyperspectral\\\\Radiance\""
   ]
  },
  {
   "cell_type": "markdown",
   "id": "43e69f4f-a950-4078-873a-31c3f7212dbb",
   "metadata": {},
   "source": [
    "# Mask poles"
   ]
  },
  {
   "cell_type": "markdown",
   "id": "fd056c74-83aa-48a2-a088-7b759f7f4db8",
   "metadata": {},
   "source": [
    "Since hyperspectral images have a lot of bands, for easing analysis, the cells below implement a simple slider to select which band to display. Furthermore, with the new cropping algorithms and knowledge about the outliers, this should be a better process than before."
   ]
  },
  {
   "cell_type": "code",
   "execution_count": null,
   "id": "023cea7d-6875-4d00-bff4-e402677061bc",
   "metadata": {
    "tags": []
   },
   "outputs": [],
   "source": [
    "def mask_scan(scan, mask):\n",
    "    scan = np.where(scan > 0.025, 0, scan)\n",
    "    scan = np.where(mask[:,:,0] > 0, np.transpose(scan, [2,0,1]), 0)\n",
    "    scan = np.transpose(scan, [1,2,0])\n",
    "    \n",
    "    return scan"
   ]
  },
  {
   "cell_type": "code",
   "execution_count": null,
   "id": "7327f1f5-4b4b-4441-a902-a34d3bdd23be",
   "metadata": {
    "tags": []
   },
   "outputs": [],
   "source": [
    "def show_pole(pole_id, scan_idx):\n",
    "    paths = os.listdir(os.path.join(\"C:\\\\Users\\\\ext-lugo\\\\Hyperspectral\\\\Radiance\", str(pole_id)))\n",
    "    paths = [path for path in paths if \"float32.hdr\" in path]\n",
    "    paths.sort()\n",
    "    img = envi.open(os.path.join(\"C:\\\\Users\\\\ext-lugo\\\\Hyperspectral\\\\Radiance\", str(pole_id), paths[scan_idx])).load()\n",
    "    mask = cv2.imread(os.path.join(\"../../Hyperspectral_masks/\", f\"{str(pole_id)}_{str(scan_idx)}_mask.jpg\"))\n",
    "    wls = np.asarray(img.metadata['wavelength'], float)\n",
    "    img_show = mask_scan(img, mask)\n",
    "    \n",
    "    def browse_images(img):\n",
    "        bands = img.shape[-1]\n",
    "        def view_images(i=60):\n",
    "            img_show = np.where(mask[:,:,0] > 0, np.squeeze(img[:,:,i]), 0)\n",
    "            plt.imshow(img_show, cmap='gray')\n",
    "            plt.title(f'{wls[i]} nm')\n",
    "            plt.xticks([])\n",
    "            plt.yticks([])\n",
    "        interact(view_images, i=(0, bands - 1))\n",
    "\n",
    "    browse_images(img_show)\n",
    "\n",
    "show_pole('5', 1)"
   ]
  },
  {
   "cell_type": "markdown",
   "id": "aa8b1b4c-458d-4a30-a618-2672d41fbd4f",
   "metadata": {},
   "source": [
    "## Spectrum analysis"
   ]
  },
  {
   "cell_type": "markdown",
   "id": "8cf101d5-d5f1-43a1-9134-729d21ae9207",
   "metadata": {},
   "source": [
    "In order to be able to properly characterize the wooden poles, a good starting point is to measure how the wood spectrum changes along the hyperspectral bands. Poles in different conditions are expected to show different spectrums.\n",
    "\n",
    "Note that, in these plots, no information regarding the rotations is given, as each pole's scans are only labeled with numbers from 1 to 4, instead of the rotation degrees. The rotation could be given by comparing the scans with the RGB photos, but to keep the analysis simple, this will be omitted for now."
   ]
  },
  {
   "cell_type": "code",
   "execution_count": null,
   "id": "f4220042-f6f6-4813-8a48-1eb4187b424c",
   "metadata": {
    "tags": []
   },
   "outputs": [],
   "source": [
    "def crop_pole(pole_id, scan_idx):\n",
    "    paths = os.listdir(os.path.join(\"C:\\\\Users\\\\ext-lugo\\\\Hyperspectral\\\\Radiance\", str(pole_id)))\n",
    "    paths = [path for path in paths if \"float32.hdr\" in path]\n",
    "    paths.sort()\n",
    "    img = envi.open(os.path.join(\"C:\\\\Users\\\\ext-lugo\\\\Hyperspectral\\\\Radiance\", str(pole_id), paths[scan_idx])).load()\n",
    "    mask = cv2.imread(os.path.join(\"../../Hyperspectral_masks/\", f\"{str(pole_id)}_{str(scan_idx)}_mask.jpg\"))\n",
    "    wls = np.asarray(img.metadata['wavelength'], float)[8:]\n",
    "    white = img[1800:2200,1000:1100,:]\n",
    "    return mask_scan(img, mask)[...,8:], white[...,8:], wls\n",
    "\n",
    "def resize_array(arr, final_size):\n",
    "    return cv2.resize(np.array([arr], dtype=np.float32), dsize=(final_size,1))[0]\n",
    "\n",
    "def plot_average_spectra_chunks(pole_id, scan_idx):\n",
    "    # Get reflectance scan\n",
    "    img, white, wls = crop_pole(pole_id, scan_idx)\n",
    "    refl_img = img / np.mean(white, axis=(0,1))\n",
    "    \n",
    "    # Divide and get spectra\n",
    "    refl_chunks = np.array_split(refl_img, 10, axis=0)\n",
    "    chunks_spectra = [np.average(chunk, axis=(0,1)) for chunk in refl_chunks]\n",
    "    vmax, vmin = np.max(chunks_spectra), np.min(chunks_spectra)\n",
    "    \n",
    "    # Plot result\n",
    "    wavelength_idxs = [0, 50, 91]\n",
    "    fig, axes = plt.subplots(1, 10, figsize=(70,7))\n",
    "    for idx, ax in enumerate(axes):\n",
    "        ax.plot(range(len(chunks_spectra[idx])), chunks_spectra[idx])\n",
    "        ax.set_xticks(wavelength_idxs, [f'{wls[i]:.0f}nm' for i in wavelength_idxs])\n",
    "        ax.set_ylim((vmax, vmin))\n",
    "    \n",
    "plot_average_spectra_chunks(0,0)\n",
    "plot_average_spectra_chunks(0,1)\n",
    "plot_average_spectra_chunks(0,2)\n",
    "plot_average_spectra_chunks(0,3)\n",
    "plot_average_spectra_chunks(0,4)\n",
    "plot_average_spectra_chunks(0,5)\n",
    "plot_average_spectra_chunks(5,0)\n",
    "plot_average_spectra_chunks(5,1)\n",
    "plot_average_spectra_chunks(5,2)\n",
    "plot_average_spectra_chunks(5,3)\n",
    "plot_average_spectra_chunks(5,4)\n",
    "plot_average_spectra_chunks(6,0)\n",
    "plot_average_spectra_chunks(6,1)\n",
    "plot_average_spectra_chunks(6,2)\n",
    "plot_average_spectra_chunks(6,3)\n",
    "plot_average_spectra_chunks(30,0)\n",
    "plot_average_spectra_chunks(30,1)\n",
    "plot_average_spectra_chunks(30,2)\n",
    "plot_average_spectra_chunks(30,3)\n",
    "plot_average_spectra_chunks(41,0)\n",
    "plot_average_spectra_chunks(41,1)\n",
    "plot_average_spectra_chunks(41,2)\n",
    "plot_average_spectra_chunks(41,3)"
   ]
  },
  {
   "cell_type": "markdown",
   "id": "add279c6-db77-44b2-a32a-0a7b32243971",
   "metadata": {},
   "source": [
    "## PCA on all the scans at once"
   ]
  },
  {
   "cell_type": "code",
   "execution_count": null,
   "id": "e1878496-916d-418e-99ca-e7715bd5851f",
   "metadata": {
    "tags": []
   },
   "outputs": [],
   "source": [
    "from sklearn.decomposition import IncrementalPCA\n",
    "\n",
    "def get_pca_model():\n",
    "    pole_ids = [0,30,41,6,5]\n",
    "    pca = IncrementalPCA(n_components=10, batch_size=200)\n",
    "    for pole_idx, pole_id in enumerate(pole_ids):\n",
    "        paths = os.listdir(os.path.join(\"C:\\\\Users\\\\ext-lugo\\\\Hyperspectral\\\\Radiance\", str(pole_id)))\n",
    "        paths = [path for path in paths if \"float32.hdr\" in path]\n",
    "        paths.sort()\n",
    "        for scan_idx in range(len(paths)):\n",
    "            print(f\"Pole {pole_id}, scan number {scan_idx}\")\n",
    "            img = envi.open(os.path.join(\"C:\\\\Users\\\\ext-lugo\\\\Hyperspectral\\\\Radiance\", str(pole_id), paths[scan_idx])).load()\n",
    "            mask = cv2.imread(os.path.join(\"../../Hyperspectral_masks/\", f\"{str(pole_id)}_{str(scan_idx)}_mask.jpg\"))\n",
    "            white = img[1800:2200,1000:1100,:]\n",
    "            refl_img = img / np.mean(white, axis=(0,1))\n",
    "            wls = np.asarray(img.metadata['wavelength'], float)\n",
    "            img_feat = mask_scan(refl_img, mask)\n",
    "            \n",
    "            pca.partial_fit(np.reshape(img_feat, (img_feat.shape[0] * img_feat.shape[1], img_feat.shape[2])))\n",
    "            \n",
    "    return pca\n",
    "\n",
    "def plot_pca_transforms(pca):\n",
    "    fig, axes = plt.subplots(5, 6, figsize=(40,12))\n",
    "    pole_ids = [0,30,41,6,5]\n",
    "    for pole_idx, pole_id in enumerate(pole_ids):\n",
    "        paths = os.listdir(os.path.join(\"C:\\\\Users\\\\ext-lugo\\\\Hyperspectral\\\\Radiance\", str(pole_id)))\n",
    "        paths = [path for path in paths if \"float32.hdr\" in path]\n",
    "        paths.sort()\n",
    "        for scan_idx in range(len(paths)):\n",
    "            print(f\"Pole {pole_id}, scan number {scan_idx}\")\n",
    "            img = envi.open(os.path.join(\"C:\\\\Users\\\\ext-lugo\\\\Hyperspectral\\\\Radiance\", str(pole_id), paths[scan_idx])).load()\n",
    "            mask = cv2.imread(os.path.join(\"../../Hyperspectral_masks/\", f\"{str(pole_id)}_{str(scan_idx)}_mask.jpg\"))\n",
    "            white = img[1800:2200,1000:1100,:]\n",
    "            refl_img = img / np.mean(white, axis=(0,1))\n",
    "            wls = np.asarray(img.metadata['wavelength'], float)\n",
    "            refl_img = mask_scan(refl_img, mask)\n",
    "            \n",
    "            refl_img = np.reshape(pca.transform(np.reshape(refl_img, (refl_img.shape[0] * refl_img.shape[1], refl_img.shape[2]))), (refl_img.shape[0], refl_img.shape[1], 10))\n",
    "            refl_img[:,:,1] = np.interp(refl_img[:,:,1], (np.min(refl_img[:,:,1]), np.max(refl_img[:,:,1])), (0,1))\n",
    "            refl_img[:,:,2] = np.interp(refl_img[:,:,2], (np.min(refl_img[:,:,2]), np.max(refl_img[:,:,2])), (0,1))\n",
    "            refl_img[:,:,3] = np.interp(refl_img[:,:,3], (np.min(refl_img[:,:,3]), np.max(refl_img[:,:,3])), (0,1))\n",
    "            axes[pole_idx, scan_idx].imshow(refl_img[...,:3])\n",
    "            \n",
    "    fig.suptitle('Hyperspectral chemical variation and PCA')\n",
    "\n",
    "    [axes[0,i].set_title(f'Image #{i}') for i in range(6)]"
   ]
  },
  {
   "cell_type": "code",
   "execution_count": null,
   "id": "5da5236b-0482-455d-a4ba-e2437f981d43",
   "metadata": {
    "tags": []
   },
   "outputs": [],
   "source": [
    "pca = get_pca_model()"
   ]
  },
  {
   "cell_type": "code",
   "execution_count": null,
   "id": "cdb875da-93c9-4c43-be1a-bfa84abe911d",
   "metadata": {
    "tags": []
   },
   "outputs": [],
   "source": [
    "plot_pca_transforms(pca)"
   ]
  },
  {
   "cell_type": "code",
   "execution_count": null,
   "id": "4916d920-e0b0-4ac4-9391-547fd71b7fe0",
   "metadata": {},
   "outputs": [],
   "source": []
  }
 ],
 "metadata": {
  "kernelspec": {
   "display_name": "Python 3",
   "language": "python",
   "name": "python3"
  },
  "language_info": {
   "codemirror_mode": {
    "name": "ipython",
    "version": 3
   },
   "file_extension": ".py",
   "mimetype": "text/x-python",
   "name": "python",
   "nbconvert_exporter": "python",
   "pygments_lexer": "ipython3",
   "version": "3.8.17"
  }
 },
 "nbformat": 4,
 "nbformat_minor": 5
}
