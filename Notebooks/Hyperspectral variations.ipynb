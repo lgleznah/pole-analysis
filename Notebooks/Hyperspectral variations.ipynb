{
 "cells": [
  {
   "cell_type": "markdown",
   "id": "a3f9938e-e517-4bb6-b2b3-e72e0ca33360",
   "metadata": {},
   "source": [
    "# Hyperspectral data variations"
   ]
  },
  {
   "cell_type": "code",
   "execution_count": null,
   "id": "c400c6e6-9151-4db3-b911-4bc6e259dfe5",
   "metadata": {
    "tags": []
   },
   "outputs": [],
   "source": [
    "import spectral.io.envi as envi\n",
    "import matplotlib.pyplot as plt\n",
    "import numpy as np\n",
    "import os\n",
    "import cv2\n",
    "\n",
    "from sklearn.decomposition import PCA\n",
    "from spectral import principal_components, imshow"
   ]
  },
  {
   "cell_type": "markdown",
   "id": "8566313d-3ddb-4456-a672-864114673725",
   "metadata": {},
   "source": [
    "The original slides received back in May, in addition to the regular hyperspectral scans, had variations of these scans: false RGB, light scattering corrected, and chemical variation. These were obtained as follows:\n",
    "\n",
    "  -  False RGB: just bands 39 (red), 24 (green) and 8 (blue).\n",
    "  -  Light scattering corrected: just the image, normalized by subtracting its mean and dividing by its standard deviation.\n",
    "  -  Chemical variation: the result of applying PCA to the image, and keeping the first 3 components as RGB channels.\n",
    "  \n",
    "Note that the results that will be obtained here may differ with the results in the slides, as those came from another hyperspectral scanner."
   ]
  },
  {
   "cell_type": "markdown",
   "id": "aebb392e-8a0c-4f5f-8f6a-050928f7176c",
   "metadata": {},
   "source": [
    "## False RGB display"
   ]
  },
  {
   "cell_type": "code",
   "execution_count": null,
   "id": "c7fd6fd4-3629-4ad9-aecd-bbbc1b124fc8",
   "metadata": {},
   "outputs": [],
   "source": [
    "def show_false_rgb(pole_id, rotation_idx):\n",
    "    paths = os.listdir(os.path.join(\"C:\\\\Users\\\\ext-lugo\\\\Hyperspectral\\\\Radiance\", str(pole_id)))\n",
    "    paths = [path for path in paths if \"float32.hdr\" in path]\n",
    "    paths.sort()\n",
    "    img = envi.open(os.path.join(\"C:\\\\Users\\\\ext-lugo\\\\Hyperspectral\\\\Radiance\", str(pole_id), paths[rotation_idx])).load()\n",
    "    \n",
    "    img = np.take(img, [39, 24, 8], axis=2)\n",
    "    img = np.where(img > 0.025, 0, img)\n",
    "    img = np.interp(img, (img.min(), img.max()), (0, 1))\n",
    "    \n",
    "    print(np.max(img))\n",
    "    plt.imshow(img)"
   ]
  },
  {
   "cell_type": "code",
   "execution_count": null,
   "id": "946eccb3-c92a-42ae-8a09-de3da9a685cc",
   "metadata": {
    "tags": []
   },
   "outputs": [],
   "source": [
    "show_false_rgb(0, 0)"
   ]
  },
  {
   "cell_type": "markdown",
   "id": "c2ca0d19-5f9b-477a-91b3-353329abced0",
   "metadata": {},
   "source": [
    "In this image, the ALMOST real aspect of the pole can be seen, as the chosen channels are nearly identical to the regular RGB channels. Therefore, an interesting visualization is to see all poles in this fashion, and look for characteristics that might help distinguishing them."
   ]
  },
  {
   "cell_type": "code",
   "execution_count": null,
   "id": "7ed230bc-eeeb-4010-96f2-782410b1412a",
   "metadata": {
    "tags": []
   },
   "outputs": [],
   "source": [
    "def view_hyperspectral_transformed(transform_func, description):\n",
    "    fig, axes = plt.subplots(5, 6, figsize=(20,16))\n",
    "    pole_ids = [0,30,41,6,5]\n",
    "    pole_status = ['31/37', '17/24', '15/24', '12/24', '11/24']\n",
    "    specific_status = ['New', 'Rotten', 'Cracks', 'Cracks', 'Rotten']\n",
    "\n",
    "    for pole_idx, pole_id in enumerate(pole_ids):\n",
    "        paths = os.listdir(os.path.join(\"C:\\\\Users\\\\ext-lugo\\\\Hyperspectral\\\\Radiance\", str(pole_id)))\n",
    "        paths = [path for path in paths if \"float32.hdr\" in path]\n",
    "        paths.sort()\n",
    "        for scan_idx in range(len(paths)):\n",
    "            img = envi.open(os.path.join(\"C:\\\\Users\\\\ext-lugo\\\\Hyperspectral\\\\Radiance\", str(pole_id), paths[scan_idx])).load()\n",
    "            img = transform_func(img)\n",
    "            axes[pole_idx, scan_idx].imshow(img)\n",
    "\n",
    "    fig.suptitle(description)\n",
    "\n",
    "    [axes[0,i].set_title(f'Image #{i}') for i in range(6)]\n",
    "\n",
    "    [axes[i,0].set_ylabel(f'Pole {pole}\\nStatus: {pole_status[i]}\\nCause: {specific_status[i]}', labelpad=60, fontdict={'rotation':0}) for i, pole in enumerate(pole_ids)]\n",
    "    \n",
    "    #plt.savefig(f'../Figures/Hyperspectral {description}.png', dpi=1000)"
   ]
  },
  {
   "cell_type": "code",
   "execution_count": null,
   "id": "d220e97e-4d30-44bc-abbd-026871a606be",
   "metadata": {
    "tags": []
   },
   "outputs": [],
   "source": [
    "def hyperspectral_to_false_rgb(img):\n",
    "    img = np.take(img, [39, 24, 8], axis=2)\n",
    "    img = np.where(img > 0.025, 0, img)\n",
    "    img = np.log(0.01+img)\n",
    "    \n",
    "    img[...,0] = np.interp(img[...,0], (img[...,0].min(), img[...,0].max()), (0, 1))\n",
    "    img[...,1] = np.interp(img[...,1], (img[...,1].min(), img[...,1].max()), (0, 1))\n",
    "    img[...,2] = np.interp(img[...,2], (img[...,2].min(), img[...,2].max()), (0, 1))\n",
    "    \n",
    "    return img"
   ]
  },
  {
   "cell_type": "code",
   "execution_count": null,
   "id": "7bdfe53f-b5f8-4421-b801-57f4ddd1b57a",
   "metadata": {
    "tags": []
   },
   "outputs": [],
   "source": [
    "view_hyperspectral_transformed(hyperspectral_to_false_rgb, 'False RGB')"
   ]
  },
  {
   "cell_type": "markdown",
   "id": "4281990e-4404-41ce-be75-e47d57e29d53",
   "metadata": {},
   "source": [
    "As it can be seen in these figures, there seems to be not much difference with what has already been seen in the RGB images; i.e., worse poles tend to be paler, whereas pole 0, the newest one, is the darkest one. No more analysis will be done for now of the false RGB poles."
   ]
  },
  {
   "cell_type": "markdown",
   "id": "85a4287e-1862-469a-bad7-23e2ae4bb6c3",
   "metadata": {},
   "source": [
    "## Light scattering corrected"
   ]
  },
  {
   "cell_type": "markdown",
   "id": "edacacf5-c8eb-4067-9b89-e10f69a3c4cd",
   "metadata": {},
   "source": [
    "As it was previously said, these are just the regular pole images, but they have been normalized by subtracting their mean and dividing by their standard deviation."
   ]
  },
  {
   "cell_type": "code",
   "execution_count": null,
   "id": "10f5e358-5100-4f84-900a-05ab67acaeea",
   "metadata": {
    "tags": []
   },
   "outputs": [],
   "source": [
    "def hyperspectral_to_light_correct(img):\n",
    "    img = np.where(img > 0.025, 0, img)\n",
    "    img = (img - np.mean(img, axis=(0,1))) / np.std(img, axis=(0,1))\n",
    "    img = np.take(img, [39, 24, 8], axis=2)\n",
    "    \n",
    "    img[...,0] = np.interp(img[...,0], (img[...,0].min(), img[...,0].max()), (0, 1))\n",
    "    img[...,1] = np.interp(img[...,1], (img[...,1].min(), img[...,1].max()), (0, 1))\n",
    "    img[...,2] = np.interp(img[...,2], (img[...,2].min(), img[...,2].max()), (0, 1))\n",
    "    \n",
    "    return img"
   ]
  },
  {
   "cell_type": "code",
   "execution_count": null,
   "id": "cd2cbf97-87cd-4d82-8519-046794abef04",
   "metadata": {
    "tags": []
   },
   "outputs": [],
   "source": [
    "view_hyperspectral_transformed(hyperspectral_to_light_correct, 'Light scattering corrected')"
   ]
  },
  {
   "cell_type": "markdown",
   "id": "0fdf65aa-5062-42f1-848f-4a3830beae45",
   "metadata": {},
   "source": [
    "Just as before, there is no much more information that can be infered from these images, as the behaviour is similar to the RGB images. Perhaps the PCA analysis can give more insight."
   ]
  },
  {
   "cell_type": "markdown",
   "id": "33be778f-6cff-4be7-848b-2fc0474d9a19",
   "metadata": {
    "tags": []
   },
   "source": [
    "## Chemical variation"
   ]
  },
  {
   "cell_type": "markdown",
   "id": "20cfa8d6-ce57-46e8-8a43-78d2c6b1da55",
   "metadata": {},
   "source": [
    "Lastly, this kind of images can be obtained by applying PCA to the hyperspectral scan, and then keeping the three largest components as RGB channels."
   ]
  },
  {
   "cell_type": "code",
   "execution_count": null,
   "id": "85f61db3-93c8-43a4-b465-e9f52a4d6f48",
   "metadata": {
    "tags": []
   },
   "outputs": [],
   "source": [
    "def hyperspectral_to_chemical(img):\n",
    "    img = np.where(img > 0.025, 0, img)\n",
    "    img = img[150:3900,100:820,:]\n",
    "    original_dims = img.shape[:-1]\n",
    "    img = np.reshape(img, (-1, img.shape[-1]))\n",
    "\n",
    "    pca = PCA(svd_solver='full')\n",
    "    reduced_img = pca.fit_transform(img)\n",
    "    reduced_img = np.reshape(reduced_img, (*original_dims, pca.n_components_))\n",
    "    \n",
    "    reduced_img[...,0] = np.interp(reduced_img[...,0], (reduced_img[...,0].min(), reduced_img[...,0].max()), (0, 1))\n",
    "    reduced_img[...,1] = np.interp(reduced_img[...,1], (reduced_img[...,1].min(), reduced_img[...,1].max()), (0, 1))\n",
    "    reduced_img[...,2] = np.interp(reduced_img[...,2], (reduced_img[...,2].min(), reduced_img[...,2].max()), (0, 1))\n",
    "    \n",
    "    return reduced_img[...,:3], pca.components_[:3,...]\n",
    "\n",
    "def view_hyperspectral_chemical():\n",
    "    fig, axes = plt.subplots(5, 12, figsize=(40,12))\n",
    "    pole_ids = [0,30,41,6,5]\n",
    "    pole_status = ['31/37', '17/24', '15/24', '12/24', '11/24']\n",
    "    specific_status = ['New', 'Rotten', 'Cracks', 'Cracks', 'Rotten']\n",
    "\n",
    "    for pole_idx, pole_id in enumerate(pole_ids):\n",
    "        paths = os.listdir(os.path.join(\"C:\\\\Users\\\\ext-lugo\\\\Hyperspectral\\\\Radiance\", str(pole_id)))\n",
    "        paths = [path for path in paths if \"float32.hdr\" in path]\n",
    "        paths.sort()\n",
    "        for scan_idx in range(len(paths)):\n",
    "            img = envi.open(os.path.join(\"C:\\\\Users\\\\ext-lugo\\\\Hyperspectral\\\\Radiance\", str(pole_id), paths[scan_idx])).load()\n",
    "            wls = np.asarray(img.metadata['wavelength'], float)\n",
    "            img, components = hyperspectral_to_chemical(img)\n",
    "            axes[pole_idx, scan_idx*2].imshow(img)\n",
    "            axes[pole_idx, scan_idx*2 + 1].plot(range(len(components[0])), components[0], color='red', label='PC0')\n",
    "            axes[pole_idx, scan_idx*2 + 1].plot(range(len(components[1])), components[1], color='green', label='PC1')\n",
    "            axes[pole_idx, scan_idx*2 + 1].plot(range(len(components[2])), components[2], color='blue', label='PC2')\n",
    "            axes[pole_idx, scan_idx*2 + 1].set_ylim([-1,1])\n",
    "            axes[pole_idx, scan_idx*2 + 1].set_xticks(range(0, len(wls), 40), [f'{wls[idx]:.0f}nm' for idx in range(0, len(wls), 40)])\n",
    "\n",
    "    fig.suptitle('Hyperspectral chemical variation and PCA')\n",
    "\n",
    "    [axes[0,i * 2].set_title(f'Image #{i}') for i in range(6)]\n",
    "\n",
    "    [axes[i,0].set_ylabel(f'Pole {pole}\\nStatus: {pole_status[i]}\\nCause: {specific_status[i]}', labelpad=60, fontdict={'rotation':0}) for i, pole in enumerate(pole_ids)]\n",
    "    \n",
    "    plt.savefig(f'../Figures/Hyperspectral chemical PCA.png', dpi=500)"
   ]
  },
  {
   "cell_type": "code",
   "execution_count": null,
   "id": "bf01c424-154e-4761-ad6a-e510c5e47787",
   "metadata": {
    "tags": []
   },
   "outputs": [],
   "source": [
    "view_hyperspectral_chemical()"
   ]
  },
  {
   "cell_type": "code",
   "execution_count": null,
   "id": "3bd3105a-a4ea-43d9-860b-8299b9404f1e",
   "metadata": {},
   "outputs": [],
   "source": []
  }
 ],
 "metadata": {
  "kernelspec": {
   "display_name": "Python 3",
   "language": "python",
   "name": "python3"
  },
  "language_info": {
   "codemirror_mode": {
    "name": "ipython",
    "version": 3
   },
   "file_extension": ".py",
   "mimetype": "text/x-python",
   "name": "python",
   "nbconvert_exporter": "python",
   "pygments_lexer": "ipython3",
   "version": "3.8.17"
  }
 },
 "nbformat": 4,
 "nbformat_minor": 5
}
